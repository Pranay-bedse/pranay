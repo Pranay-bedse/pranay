{
 "cells": [
  {
   "cell_type": "code",
   "execution_count": 6,
   "id": "51cac97e",
   "metadata": {},
   "outputs": [
    {
     "name": "stdout",
     "output_type": "stream",
     "text": [
      "1 3 5 7 9\n"
     ]
    }
   ],
   "source": [
    "print(*range(1,10,2))"
   ]
  },
  {
   "cell_type": "code",
   "execution_count": 5,
   "id": "25d8f942",
   "metadata": {},
   "outputs": [
    {
     "name": "stdout",
     "output_type": "stream",
     "text": [
      "[1, 3, 5, 7, 9]\n"
     ]
    }
   ],
   "source": [
    "print(list(range(1, 10,2)))"
   ]
  },
  {
   "cell_type": "code",
   "execution_count": 2,
   "id": "78d1fc9e",
   "metadata": {},
   "outputs": [
    {
     "data": {
      "text/plain": [
       "'My name Vicky. Vicky has done the Data science and Pranay is from pune'"
      ]
     },
     "execution_count": 2,
     "metadata": {},
     "output_type": "execute_result"
    }
   ],
   "source": [
    "s = 'My name Pranay. Pranay has done the Data science and Pranay is from pune'\n",
    "s.replace('Pranay','Vicky',2)"
   ]
  },
  {
   "cell_type": "code",
   "execution_count": 2,
   "id": "63319b71",
   "metadata": {},
   "outputs": [
    {
     "name": "stdout",
     "output_type": "stream",
     "text": [
      "[18, 21, 24, 27, 30, 33]\n"
     ]
    }
   ],
   "source": [
    "num1 = [i for i in range(6)]\n",
    "num2 = [i for i in range(6,12)]\n",
    "num3 = [i for i in range(12,18)]\n",
    "\n",
    "def sum(a,b,c):\n",
    "    return a+b+c\n",
    "\n",
    "result = map(sum,num1,num2,num3)\n",
    "print(list(result))"
   ]
  },
  {
   "cell_type": "code",
   "execution_count": 2,
   "id": "eaa73fb9",
   "metadata": {},
   "outputs": [
    {
     "name": "stdout",
     "output_type": "stream",
     "text": [
      "pranay\n",
      "ss\n",
      "mm\n"
     ]
    }
   ],
   "source": [
    "a =  [18,'pranay',21, 24,'ss',27,'mm',30, 33]\n",
    "\n",
    "for i in a:\n",
    "    \n",
    "    if isinstance(i,(str)):\n",
    "        print(i)"
   ]
  },
  {
   "cell_type": "code",
   "execution_count": 8,
   "id": "82ebbee7",
   "metadata": {},
   "outputs": [
    {
     "name": "stdout",
     "output_type": "stream",
     "text": [
      "[18, 21, 'ss', 'mm', 33] ['pranay', 24, 27, 30]\n"
     ]
    }
   ],
   "source": [
    "a =  [18,'pranay',21, 24,'ss',27,'mm',30, 33]\n",
    "\n",
    "p = []\n",
    "m = []\n",
    "\n",
    "for i,j in enumerate(a):\n",
    "    if i%2 == 0:\n",
    "        p.append(j)\n",
    "        \n",
    "    else:\n",
    "        m.append(j)\n",
    "\n",
    "print(p,m)"
   ]
  },
  {
   "cell_type": "code",
   "execution_count": null,
   "id": "ef9ec3aa",
   "metadata": {},
   "outputs": [],
   "source": []
  },
  {
   "cell_type": "code",
   "execution_count": null,
   "id": "ac4be122",
   "metadata": {},
   "outputs": [],
   "source": []
  },
  {
   "cell_type": "code",
   "execution_count": 19,
   "id": "2ac00f38",
   "metadata": {},
   "outputs": [
    {
     "name": "stdout",
     "output_type": "stream",
     "text": [
      "0 \n",
      "1 2 \n",
      "3 4 5 \n",
      "6 7 8 9 \n",
      "10 11 12 13 14 \n"
     ]
    }
   ],
   "source": [
    "n = 0\n",
    "for i in range(1,6):\n",
    "    for j in range(1,i+1):\n",
    "        print(n, end = ' ')\n",
    "        n = n + 1\n",
    "    print()"
   ]
  },
  {
   "cell_type": "code",
   "execution_count": null,
   "id": "8143059b",
   "metadata": {},
   "outputs": [],
   "source": []
  },
  {
   "cell_type": "code",
   "execution_count": null,
   "id": "396bdc0c",
   "metadata": {},
   "outputs": [],
   "source": []
  },
  {
   "cell_type": "code",
   "execution_count": 29,
   "id": "9191feca",
   "metadata": {},
   "outputs": [
    {
     "name": "stdout",
     "output_type": "stream",
     "text": [
      "\n",
      "1\n",
      "22\n",
      "333\n",
      "4444\n",
      "55555\n"
     ]
    }
   ],
   "source": [
    "n = 0\n",
    "for i in range(0,6):\n",
    "    print(f'{n}'* i )\n",
    "    n = n+1"
   ]
  },
  {
   "cell_type": "code",
   "execution_count": 12,
   "id": "ef118f82",
   "metadata": {},
   "outputs": [
    {
     "name": "stdout",
     "output_type": "stream",
     "text": [
      "1 \n",
      "1 2 \n",
      "1 2 3 \n",
      "1 2 3 4 \n",
      "1 2 3 4 5 \n"
     ]
    }
   ],
   "source": [
    "num = 0\n",
    "for i in range(1,6):\n",
    "    for j in range(1,i+1):\n",
    "        print(j, end = ' ')\n",
    "    print()"
   ]
  },
  {
   "cell_type": "code",
   "execution_count": 8,
   "id": "4961f77b",
   "metadata": {},
   "outputs": [
    {
     "name": "stdout",
     "output_type": "stream",
     "text": [
      "0 \n",
      "1 2 \n",
      "3 4 5 \n",
      "6 7 8 9 \n",
      "10 11 12 13 14 \n"
     ]
    }
   ],
   "source": [
    "num = 0\n",
    "for i in range(1,6):\n",
    "    for j in range(1,i+1):\n",
    "        print(num, end = ' ')\n",
    "        num = num + 1\n",
    "    print()"
   ]
  },
  {
   "cell_type": "code",
   "execution_count": null,
   "id": "32a8284c",
   "metadata": {},
   "outputs": [],
   "source": []
  },
  {
   "cell_type": "code",
   "execution_count": null,
   "id": "e8a99312",
   "metadata": {},
   "outputs": [],
   "source": []
  },
  {
   "cell_type": "code",
   "execution_count": 8,
   "id": "eec24472",
   "metadata": {},
   "outputs": [
    {
     "name": "stdout",
     "output_type": "stream",
     "text": [
      "1\n",
      "2\n",
      "3\n",
      "5\n",
      "8\n",
      "13\n",
      "21\n"
     ]
    }
   ],
   "source": [
    "def fib(n):\n",
    "    \n",
    "    a = 0\n",
    "    b = 1\n",
    "    \n",
    "    for i in range(n):\n",
    "        \n",
    "        c = a + b\n",
    "        a = b\n",
    "        b = c\n",
    "        \n",
    "        print(c)\n",
    "        \n",
    "fib(7)"
   ]
  },
  {
   "cell_type": "code",
   "execution_count": null,
   "id": "1c7ba3b0",
   "metadata": {},
   "outputs": [],
   "source": []
  },
  {
   "cell_type": "code",
   "execution_count": 41,
   "id": "a1d54cbb",
   "metadata": {},
   "outputs": [
    {
     "data": {
      "text/plain": [
       "True"
      ]
     },
     "execution_count": 41,
     "metadata": {},
     "output_type": "execute_result"
    }
   ],
   "source": [
    "def pele(name):\n",
    "    \n",
    "    rev = ''.join(reversed(name))\n",
    "    \n",
    "    if name == rev:\n",
    "        return True\n",
    "    else:\n",
    "        return False\n",
    "    \n",
    "pele('naman')"
   ]
  },
  {
   "cell_type": "code",
   "execution_count": null,
   "id": "6ef65449",
   "metadata": {},
   "outputs": [],
   "source": []
  },
  {
   "cell_type": "code",
   "execution_count": null,
   "id": "f470eae6",
   "metadata": {},
   "outputs": [],
   "source": []
  },
  {
   "cell_type": "code",
   "execution_count": 50,
   "id": "a655b976",
   "metadata": {},
   "outputs": [
    {
     "name": "stdout",
     "output_type": "stream",
     "text": [
      "Enter Num: 333\n",
      "9\n"
     ]
    }
   ],
   "source": [
    "num = int(input('Enter Num: '))\n",
    "result = 0\n",
    "\n",
    "while num != 0:\n",
    "    \n",
    "    rem = num % 10 \n",
    "    \n",
    "    result = result + rem\n",
    "    \n",
    "    num = num//10\n",
    "    \n",
    "print(result)"
   ]
  },
  {
   "cell_type": "code",
   "execution_count": null,
   "id": "1aa7ed6b",
   "metadata": {},
   "outputs": [],
   "source": []
  },
  {
   "cell_type": "code",
   "execution_count": 54,
   "id": "bc839c9d",
   "metadata": {},
   "outputs": [
    {
     "name": "stdout",
     "output_type": "stream",
     "text": [
      "Enter num: 99\n",
      "False\n"
     ]
    }
   ],
   "source": [
    "#Write a python program to search a given number from a list\n",
    "a = [i for i in range(1,11)]\n",
    "\n",
    "b = int(input('Enter num: '))\n",
    "\n",
    "for i in a:\n",
    "    \n",
    "    if b == i:\n",
    "        print('True')\n",
    "        break\n",
    "        \n",
    "else:\n",
    "    print('False')\n",
    "        \n",
    "    "
   ]
  },
  {
   "cell_type": "code",
   "execution_count": null,
   "id": "b39c9ace",
   "metadata": {},
   "outputs": [],
   "source": []
  },
  {
   "cell_type": "code",
   "execution_count": 57,
   "id": "1379a246",
   "metadata": {},
   "outputs": [
    {
     "name": "stdout",
     "output_type": "stream",
     "text": [
      "1\n",
      "3\n",
      "5\n",
      "7\n",
      "9\n",
      "11\n",
      "13\n",
      "15\n",
      "17\n",
      "19\n"
     ]
    }
   ],
   "source": [
    "prev = 0\n",
    "for i in range(1,11):\n",
    "    \n",
    "    sum = i + prev\n",
    "    \n",
    "    prev = i\n",
    "\n",
    "    print(sum)"
   ]
  },
  {
   "cell_type": "code",
   "execution_count": null,
   "id": "1894453b",
   "metadata": {},
   "outputs": [],
   "source": []
  },
  {
   "cell_type": "code",
   "execution_count": 46,
   "id": "13afbf88",
   "metadata": {},
   "outputs": [
    {
     "name": "stdout",
     "output_type": "stream",
     "text": [
      "Even: ['Depu', 'Priti', 'jojo']\n",
      "Odd: ['Nitin', 'Pooja']\n"
     ]
    }
   ],
   "source": [
    "#Even odd\n",
    "l = ['Depu', 'Nitin', 'Priti', 'Pooja','jojo']\n",
    "even = []\n",
    "odd = []\n",
    "\n",
    "for i,j in enumerate(l):\n",
    "    if i%2 == 0:\n",
    "        even.append(j)\n",
    "    else:\n",
    "        odd.append(j)\n",
    "    \n",
    "print('Even:',even)        \n",
    "print('Odd:',odd)"
   ]
  },
  {
   "cell_type": "code",
   "execution_count": null,
   "id": "5d3f8a17",
   "metadata": {},
   "outputs": [],
   "source": []
  },
  {
   "cell_type": "code",
   "execution_count": 49,
   "id": "ff64e294",
   "metadata": {},
   "outputs": [
    {
     "name": "stdout",
     "output_type": "stream",
     "text": [
      "1\n",
      "3\n",
      "6\n",
      "10\n",
      "15\n",
      "21\n",
      "28\n"
     ]
    }
   ],
   "source": [
    "#Add one by on in list:\n",
    "l = [i for i in range(1,8)]\n",
    "sum = 0\n",
    "\n",
    "for i in l:\n",
    "    sum = sum + i\n",
    "    print(sum)    "
   ]
  },
  {
   "cell_type": "code",
   "execution_count": null,
   "id": "6c552ffd",
   "metadata": {},
   "outputs": [],
   "source": []
  },
  {
   "cell_type": "markdown",
   "id": "c726b05a",
   "metadata": {},
   "source": [
    "According to the definition of prime numbers, any whole number which has only 2 factors is known as a prime number."
   ]
  },
  {
   "cell_type": "code",
   "execution_count": 3,
   "id": "63ad5680",
   "metadata": {},
   "outputs": [
    {
     "name": "stdout",
     "output_type": "stream",
     "text": [
      "1 is prime num\n",
      "2 is prime num\n",
      "3 is prime num\n",
      "4 is not prime num\n",
      "5 is prime num\n",
      "6 is not prime num\n",
      "7 is prime num\n",
      "8 is not prime num\n",
      "9 is not prime num\n"
     ]
    }
   ],
   "source": [
    "#Task 2 Prime num\n",
    "for i in range(1,10):\n",
    "    \n",
    "    for m in range(2,i):\n",
    "        \n",
    "        if i%m == 0:\n",
    "            print(f'{i} is not prime num')\n",
    "            break\n",
    "            \n",
    "    else: \n",
    "        print(f'{i} is prime num')"
   ]
  },
  {
   "cell_type": "code",
   "execution_count": null,
   "id": "e73b9253",
   "metadata": {},
   "outputs": [],
   "source": []
  },
  {
   "cell_type": "code",
   "execution_count": 2,
   "id": "48bfccab",
   "metadata": {},
   "outputs": [
    {
     "name": "stdout",
     "output_type": "stream",
     "text": [
      "Unique values : [1, 2, 4, 3, 51, 5]  \n",
      "duplicate values : [2, 4, 2, 5, 2, 3, 4]  \n"
     ]
    }
   ],
   "source": [
    "#Divide unique and duplicate values.\n",
    "list = [1,2,4,2,3,4,51,2,5,5,2,3,4]\n",
    "\n",
    "unique  = []\n",
    "duplicate = []\n",
    "\n",
    "\n",
    "for i in list:\n",
    "    \n",
    "    if i not in unique:\n",
    "        unique.append(i)\n",
    "        \n",
    "    else:\n",
    "        duplicate.append(i)\n",
    "    \n",
    "    \n",
    "print(f'Unique values : {unique}  ')\n",
    "print(f'duplicate values : {duplicate}  ')"
   ]
  },
  {
   "cell_type": "code",
   "execution_count": null,
   "id": "9215b1df",
   "metadata": {},
   "outputs": [],
   "source": []
  },
  {
   "cell_type": "markdown",
   "id": "01b3de53",
   "metadata": {},
   "source": [
    "# Factorial is a part of recursion: which excute or call itself one or more time."
   ]
  },
  {
   "cell_type": "code",
   "execution_count": 14,
   "id": "602a1aad",
   "metadata": {},
   "outputs": [
    {
     "name": "stdout",
     "output_type": "stream",
     "text": [
      "Enter Your value : 7\n",
      "5040\n"
     ]
    }
   ],
   "source": [
    "#Multiple (factorial)\n",
    "i = int(input('Enter Your value : '))\n",
    "Mult = 1\n",
    "\n",
    "for x in range(1,i + 1):\n",
    "    Mult = Mult * x\n",
    "    \n",
    "print(Mult)"
   ]
  },
  {
   "cell_type": "code",
   "execution_count": null,
   "id": "43f0af6a",
   "metadata": {},
   "outputs": [],
   "source": []
  },
  {
   "cell_type": "code",
   "execution_count": 18,
   "id": "59cc10ed",
   "metadata": {},
   "outputs": [
    {
     "name": "stdout",
     "output_type": "stream",
     "text": [
      "Enter Any Number Between 0 to 10 \n",
      "Enter Your Guess : 7\n",
      "************************************************************************************************************************\n",
      "You have Correctly Guess the Number :)\n",
      "************************************************************************************************************************\n"
     ]
    }
   ],
   "source": [
    "#Creating guessing game\n",
    "correct = 7\n",
    "Guess = 0\n",
    "Guesscount = 0\n",
    "Guesslimit = 3\n",
    "print(\"Enter Any Number Between 0 to 10 \")\n",
    "\n",
    "\n",
    "while(Guess != correct):\n",
    "    \n",
    "    if Guesscount >= Guesslimit:\n",
    "        \n",
    "        print('Your Run Out of Guess')\n",
    "        print('**'*15)\n",
    "        \n",
    "        print('You Loss the Game (:')\n",
    "        print('**'*15)\n",
    "        \n",
    "        break\n",
    "    \n",
    "    \n",
    "    Guess = int(input('Enter Your Guess : '))\n",
    "    Guesscount += 1\n",
    "    \n",
    "    if Guess == correct:\n",
    "        \n",
    "        print('***'*40)\n",
    "        print('You have Correctly Guess the Number :)')\n",
    "        print('***'*40)\n",
    "        \n",
    "    else:\n",
    "        \n",
    "        print('**'*15)\n",
    "        print('**'*15)\n",
    "        print(f'Only {3 - Guesscount} attempts are remain.')\n",
    "        print('**'*15)\n",
    "        print('**'*15)\n",
    "    "
   ]
  },
  {
   "cell_type": "code",
   "execution_count": null,
   "id": "a5ef5813",
   "metadata": {},
   "outputs": [],
   "source": []
  },
  {
   "cell_type": "code",
   "execution_count": null,
   "id": "1c1338b9",
   "metadata": {},
   "outputs": [],
   "source": []
  },
  {
   "cell_type": "code",
   "execution_count": null,
   "id": "75320e3d",
   "metadata": {},
   "outputs": [],
   "source": []
  },
  {
   "cell_type": "code",
   "execution_count": 76,
   "id": "b4910894",
   "metadata": {},
   "outputs": [
    {
     "name": "stdout",
     "output_type": "stream",
     "text": [
      "1 * 1 : 1\n",
      "1 * 2 : 2\n",
      "1 * 3 : 3\n",
      "1 * 4 : 4\n",
      "1 * 5 : 5\n",
      "1 * 6 : 6\n",
      "1 * 7 : 7\n",
      "1 * 8 : 8\n",
      "1 * 9 : 9\n",
      "1 * 10 : 10\n"
     ]
    }
   ],
   "source": [
    "#Table\n",
    "for i in range(1,2):\n",
    "    \n",
    "    for j in range (1,11):\n",
    "        \n",
    "        print(f'{i} * {j} : {i*j}')"
   ]
  },
  {
   "cell_type": "code",
   "execution_count": null,
   "id": "16a9f21b",
   "metadata": {},
   "outputs": [],
   "source": []
  },
  {
   "cell_type": "code",
   "execution_count": null,
   "id": "823a59b0",
   "metadata": {},
   "outputs": [],
   "source": []
  },
  {
   "cell_type": "code",
   "execution_count": 1,
   "id": "96b68468",
   "metadata": {},
   "outputs": [
    {
     "name": "stdout",
     "output_type": "stream",
     "text": [
      "['b', 'c', 'd', 'f', 'g', 'h', 'j', 'k', 'l', 'm', 'n', 'p', 'q', 'r', 's', 't', 'v', 'w', 'x', 'y', 'z']\n"
     ]
    }
   ],
   "source": [
    "#Vowels\n",
    "import string\n",
    "\n",
    "a_z = list(string.ascii_lowercase)\n",
    "vowels = ['a','e','i','o','u']\n",
    "new = []\n",
    "\n",
    "for i in a_z:\n",
    "    \n",
    "    if i not in vowels:\n",
    "        \n",
    "        new.append(i)\n",
    "        \n",
    "print(new)\n",
    "    \n",
    "    "
   ]
  },
  {
   "cell_type": "code",
   "execution_count": null,
   "id": "91a6dc6c",
   "metadata": {},
   "outputs": [],
   "source": []
  },
  {
   "cell_type": "code",
   "execution_count": null,
   "id": "69b428e3",
   "metadata": {},
   "outputs": [],
   "source": []
  },
  {
   "cell_type": "code",
   "execution_count": 2,
   "id": "5141bf38",
   "metadata": {},
   "outputs": [
    {
     "name": "stdout",
     "output_type": "stream",
     "text": [
      "Enter Your Number7\n",
      "7 is a Odd Number\n"
     ]
    }
   ],
   "source": [
    "#Even Odd\n",
    "i = int(input('Enter Your Number'))\n",
    "\n",
    "if i%2 == 0:\n",
    "    \n",
    "    print(f'{i} is a Even Number')\n",
    "    \n",
    "else:\n",
    "    \n",
    "    print(f'{i} is a Odd Number')"
   ]
  },
  {
   "cell_type": "code",
   "execution_count": null,
   "id": "63aeb807",
   "metadata": {},
   "outputs": [],
   "source": []
  },
  {
   "cell_type": "code",
   "execution_count": null,
   "id": "34038db4",
   "metadata": {},
   "outputs": [],
   "source": []
  },
  {
   "cell_type": "code",
   "execution_count": 3,
   "id": "d5c0e7ff",
   "metadata": {},
   "outputs": [
    {
     "name": "stdout",
     "output_type": "stream",
     "text": [
      "Enter Your first Number : 7\n",
      "Enter Your sec Number : 3\n",
      "0\n"
     ]
    }
   ],
   "source": [
    "# User define addition.\n",
    "\n",
    "first = int(input('Enter Your first Number : '))\n",
    "sec = int(input('Enter Your sec Number : '))\n",
    "sum = 0\n",
    "\n",
    "for i in range (first,sec + 1):\n",
    "    \n",
    "    sum = sum + i\n",
    "\n",
    "print(sum)    \n"
   ]
  },
  {
   "cell_type": "code",
   "execution_count": 4,
   "id": "fa658c27",
   "metadata": {},
   "outputs": [],
   "source": [
    "myList = [1,2,'t',22,34,'p',2]"
   ]
  },
  {
   "cell_type": "code",
   "execution_count": null,
   "id": "7c79f42f",
   "metadata": {},
   "outputs": [],
   "source": []
  },
  {
   "cell_type": "code",
   "execution_count": 107,
   "id": "4f299daa",
   "metadata": {},
   "outputs": [
    {
     "name": "stdout",
     "output_type": "stream",
     "text": [
      "0 Its a prime Number\n",
      "0 Its Even Number\n",
      "************************************\n",
      "1 Its a prime Number\n",
      "1 Its Odd Number\n",
      "************************************\n",
      "2 Its a prime Number\n",
      "2 Its Even Number\n",
      "************************************\n",
      "3 Its a prime Number\n",
      "3 Its Odd Number\n",
      "************************************\n",
      "4 Its not a prime Number\n",
      "4 Its Even Number\n",
      "************************************\n",
      "5 Its a prime Number\n",
      "5 Its Odd Number\n",
      "************************************\n",
      "6 Its not a prime Number\n",
      "6 Its Even Number\n",
      "************************************\n",
      "7 Its a prime Number\n",
      "7 Its Odd Number\n",
      "************************************\n",
      "8 Its not a prime Number\n",
      "8 Its Even Number\n",
      "************************************\n",
      "9 Its not a prime Number\n",
      "9 Its Odd Number\n",
      "************************************\n",
      "10 Its not a prime Number\n",
      "10 Its Even Number\n",
      "************************************\n",
      "11 Its a prime Number\n",
      "11 Its Odd Number\n",
      "************************************\n",
      "12 Its not a prime Number\n",
      "12 Its Even Number\n",
      "************************************\n",
      "13 Its a prime Number\n",
      "13 Its Odd Number\n",
      "************************************\n",
      "14 Its not a prime Number\n",
      "14 Its Even Number\n",
      "************************************\n",
      "15 Its not a prime Number\n",
      "15 Its Odd Number\n",
      "************************************\n",
      "16 Its not a prime Number\n",
      "16 Its Even Number\n",
      "************************************\n",
      "17 Its a prime Number\n",
      "17 Its Odd Number\n",
      "************************************\n",
      "18 Its not a prime Number\n",
      "18 Its Even Number\n",
      "************************************\n",
      "19 Its a prime Number\n",
      "19 Its Odd Number\n",
      "************************************\n",
      "20 Its not a prime Number\n",
      "20 Its Even Number\n",
      "************************************\n",
      "21 Its not a prime Number\n",
      "21 Its Odd Number\n",
      "************************************\n",
      "22 Its not a prime Number\n",
      "22 Its Even Number\n",
      "************************************\n",
      "23 Its a prime Number\n",
      "23 Its Odd Number\n",
      "************************************\n",
      "24 Its not a prime Number\n",
      "24 Its Even Number\n",
      "************************************\n",
      "25 Its not a prime Number\n",
      "25 Its Odd Number\n",
      "************************************\n",
      "26 Its not a prime Number\n",
      "26 Its Even Number\n",
      "************************************\n",
      "27 Its not a prime Number\n",
      "27 Its Odd Number\n",
      "************************************\n",
      "28 Its not a prime Number\n",
      "28 Its Even Number\n",
      "************************************\n",
      "29 Its a prime Number\n",
      "29 Its Odd Number\n",
      "************************************\n",
      "30 Its not a prime Number\n",
      "30 Its Even Number\n",
      "************************************\n",
      "31 Its a prime Number\n",
      "31 Its Odd Number\n",
      "************************************\n",
      "32 Its not a prime Number\n",
      "32 Its Even Number\n",
      "************************************\n",
      "33 Its not a prime Number\n",
      "33 Its Odd Number\n",
      "************************************\n",
      "34 Its not a prime Number\n",
      "34 Its Even Number\n",
      "************************************\n",
      "35 Its not a prime Number\n",
      "35 Its Odd Number\n",
      "************************************\n",
      "36 Its not a prime Number\n",
      "36 Its Even Number\n",
      "************************************\n",
      "37 Its a prime Number\n",
      "37 Its Odd Number\n",
      "************************************\n",
      "38 Its not a prime Number\n",
      "38 Its Even Number\n",
      "************************************\n",
      "39 Its not a prime Number\n",
      "39 Its Odd Number\n",
      "************************************\n",
      "40 Its not a prime Number\n",
      "40 Its Even Number\n",
      "************************************\n",
      "41 Its a prime Number\n",
      "41 Its Odd Number\n",
      "************************************\n",
      "42 Its not a prime Number\n",
      "42 Its Even Number\n",
      "************************************\n",
      "43 Its a prime Number\n",
      "43 Its Odd Number\n",
      "************************************\n",
      "44 Its not a prime Number\n",
      "44 Its Even Number\n",
      "************************************\n",
      "45 Its not a prime Number\n",
      "45 Its Odd Number\n",
      "************************************\n",
      "46 Its not a prime Number\n",
      "46 Its Even Number\n",
      "************************************\n",
      "47 Its a prime Number\n",
      "47 Its Odd Number\n",
      "************************************\n",
      "48 Its not a prime Number\n",
      "48 Its Even Number\n",
      "************************************\n",
      "49 Its not a prime Number\n",
      "49 Its Odd Number\n",
      "************************************\n",
      "50 Its not a prime Number\n",
      "50 Its Even Number\n",
      "************************************\n",
      "51 Its not a prime Number\n",
      "51 Its Odd Number\n",
      "************************************\n",
      "52 Its not a prime Number\n",
      "52 Its Even Number\n",
      "************************************\n",
      "53 Its a prime Number\n",
      "53 Its Odd Number\n",
      "************************************\n",
      "54 Its not a prime Number\n",
      "54 Its Even Number\n",
      "************************************\n",
      "55 Its not a prime Number\n",
      "55 Its Odd Number\n",
      "************************************\n",
      "56 Its not a prime Number\n",
      "56 Its Even Number\n",
      "************************************\n",
      "57 Its not a prime Number\n",
      "57 Its Odd Number\n",
      "************************************\n",
      "58 Its not a prime Number\n",
      "58 Its Even Number\n",
      "************************************\n",
      "59 Its a prime Number\n",
      "59 Its Odd Number\n",
      "************************************\n",
      "60 Its not a prime Number\n",
      "60 Its Even Number\n",
      "************************************\n",
      "61 Its a prime Number\n",
      "61 Its Odd Number\n",
      "************************************\n",
      "62 Its not a prime Number\n",
      "62 Its Even Number\n",
      "************************************\n",
      "63 Its not a prime Number\n",
      "63 Its Odd Number\n",
      "************************************\n",
      "64 Its not a prime Number\n",
      "64 Its Even Number\n",
      "************************************\n",
      "65 Its not a prime Number\n",
      "65 Its Odd Number\n",
      "************************************\n",
      "66 Its not a prime Number\n",
      "66 Its Even Number\n",
      "************************************\n",
      "67 Its a prime Number\n",
      "67 Its Odd Number\n",
      "************************************\n",
      "68 Its not a prime Number\n",
      "68 Its Even Number\n",
      "************************************\n",
      "69 Its not a prime Number\n",
      "69 Its Odd Number\n",
      "************************************\n",
      "70 Its not a prime Number\n",
      "70 Its Even Number\n",
      "************************************\n",
      "71 Its a prime Number\n",
      "71 Its Odd Number\n",
      "************************************\n",
      "72 Its not a prime Number\n",
      "72 Its Even Number\n",
      "************************************\n",
      "73 Its a prime Number\n",
      "73 Its Odd Number\n",
      "************************************\n",
      "74 Its not a prime Number\n",
      "74 Its Even Number\n",
      "************************************\n",
      "75 Its not a prime Number\n",
      "75 Its Odd Number\n",
      "************************************\n",
      "76 Its not a prime Number\n",
      "76 Its Even Number\n",
      "************************************\n",
      "77 Its not a prime Number\n",
      "77 Its Odd Number\n",
      "************************************\n",
      "78 Its not a prime Number\n",
      "78 Its Even Number\n",
      "************************************\n",
      "79 Its a prime Number\n",
      "79 Its Odd Number\n",
      "************************************\n",
      "80 Its not a prime Number\n",
      "80 Its Even Number\n",
      "************************************\n",
      "81 Its not a prime Number\n",
      "81 Its Odd Number\n",
      "************************************\n",
      "82 Its not a prime Number\n",
      "82 Its Even Number\n",
      "************************************\n",
      "83 Its a prime Number\n",
      "83 Its Odd Number\n",
      "************************************\n",
      "84 Its not a prime Number\n",
      "84 Its Even Number\n",
      "************************************\n",
      "85 Its not a prime Number\n",
      "85 Its Odd Number\n",
      "************************************\n",
      "86 Its not a prime Number\n",
      "86 Its Even Number\n",
      "************************************\n",
      "87 Its not a prime Number\n",
      "87 Its Odd Number\n",
      "************************************\n",
      "88 Its not a prime Number\n",
      "88 Its Even Number\n",
      "************************************\n",
      "89 Its a prime Number\n",
      "89 Its Odd Number\n",
      "************************************\n",
      "90 Its not a prime Number\n",
      "90 Its Even Number\n",
      "************************************\n",
      "91 Its not a prime Number\n",
      "91 Its Odd Number\n",
      "************************************\n",
      "92 Its not a prime Number\n",
      "92 Its Even Number\n",
      "************************************\n",
      "93 Its not a prime Number\n",
      "93 Its Odd Number\n",
      "************************************\n",
      "94 Its not a prime Number\n",
      "94 Its Even Number\n",
      "************************************\n",
      "95 Its not a prime Number\n",
      "95 Its Odd Number\n",
      "************************************\n",
      "96 Its not a prime Number\n",
      "96 Its Even Number\n",
      "************************************\n",
      "97 Its a prime Number\n",
      "97 Its Odd Number\n",
      "************************************\n",
      "98 Its not a prime Number\n",
      "98 Its Even Number\n",
      "************************************\n",
      "99 Its not a prime Number\n",
      "99 Its Odd Number\n",
      "************************************\n",
      "100 Its not a prime Number\n",
      "100 Its Even Number\n",
      "************************************\n",
      "101 Its a prime Number\n",
      "101 Its Odd Number\n",
      "************************************\n",
      "102 Its not a prime Number\n",
      "102 Its Even Number\n",
      "************************************\n",
      "103 Its a prime Number\n",
      "103 Its Odd Number\n",
      "************************************\n",
      "104 Its not a prime Number\n",
      "104 Its Even Number\n",
      "************************************\n",
      "105 Its not a prime Number\n",
      "105 Its Odd Number\n",
      "************************************\n",
      "106 Its not a prime Number\n",
      "106 Its Even Number\n",
      "************************************\n",
      "107 Its a prime Number\n",
      "107 Its Odd Number\n",
      "************************************\n",
      "108 Its not a prime Number\n",
      "108 Its Even Number\n",
      "************************************\n",
      "109 Its a prime Number\n",
      "109 Its Odd Number\n",
      "************************************\n",
      "110 Its not a prime Number\n",
      "110 Its Even Number\n",
      "************************************\n",
      "111 Its not a prime Number\n",
      "111 Its Odd Number\n",
      "************************************\n",
      "112 Its not a prime Number\n",
      "112 Its Even Number\n",
      "************************************\n",
      "113 Its a prime Number\n",
      "113 Its Odd Number\n",
      "************************************\n",
      "114 Its not a prime Number\n",
      "114 Its Even Number\n",
      "************************************\n",
      "115 Its not a prime Number\n",
      "115 Its Odd Number\n",
      "************************************\n",
      "116 Its not a prime Number\n",
      "116 Its Even Number\n",
      "************************************\n",
      "117 Its not a prime Number\n",
      "117 Its Odd Number\n",
      "************************************\n",
      "118 Its not a prime Number\n",
      "118 Its Even Number\n",
      "************************************\n",
      "119 Its not a prime Number\n",
      "119 Its Odd Number\n",
      "************************************\n",
      "120 Its not a prime Number\n",
      "120 Its Even Number\n",
      "************************************\n",
      "121 Its not a prime Number\n",
      "121 Its Odd Number\n",
      "************************************\n",
      "122 Its not a prime Number\n",
      "122 Its Even Number\n",
      "************************************\n",
      "123 Its not a prime Number\n",
      "123 Its Odd Number\n",
      "************************************\n",
      "124 Its not a prime Number\n",
      "124 Its Even Number\n",
      "************************************\n",
      "125 Its not a prime Number\n",
      "125 Its Odd Number\n",
      "************************************\n",
      "126 Its not a prime Number\n",
      "126 Its Even Number\n",
      "************************************\n",
      "127 Its a prime Number\n",
      "127 Its Odd Number\n",
      "************************************\n",
      "128 Its not a prime Number\n",
      "128 Its Even Number\n",
      "************************************\n",
      "129 Its not a prime Number\n",
      "129 Its Odd Number\n",
      "************************************\n",
      "130 Its not a prime Number\n",
      "130 Its Even Number\n",
      "************************************\n",
      "131 Its a prime Number\n",
      "131 Its Odd Number\n",
      "************************************\n",
      "132 Its not a prime Number\n",
      "132 Its Even Number\n",
      "************************************\n",
      "133 Its not a prime Number\n",
      "133 Its Odd Number\n",
      "************************************\n",
      "134 Its not a prime Number\n",
      "134 Its Even Number\n",
      "************************************\n",
      "135 Its not a prime Number\n",
      "135 Its Odd Number\n",
      "************************************\n",
      "136 Its not a prime Number\n",
      "136 Its Even Number\n",
      "************************************\n",
      "137 Its a prime Number\n",
      "137 Its Odd Number\n",
      "************************************\n",
      "138 Its not a prime Number\n",
      "138 Its Even Number\n",
      "************************************\n",
      "139 Its a prime Number\n",
      "139 Its Odd Number\n",
      "************************************\n",
      "140 Its not a prime Number\n",
      "140 Its Even Number\n",
      "************************************\n",
      "141 Its not a prime Number\n",
      "141 Its Odd Number\n",
      "************************************\n",
      "142 Its not a prime Number\n",
      "142 Its Even Number\n",
      "************************************\n",
      "143 Its not a prime Number\n",
      "143 Its Odd Number\n",
      "************************************\n",
      "144 Its not a prime Number\n",
      "144 Its Even Number\n",
      "************************************\n",
      "145 Its not a prime Number\n",
      "145 Its Odd Number\n",
      "************************************\n",
      "146 Its not a prime Number\n",
      "146 Its Even Number\n",
      "************************************\n",
      "147 Its not a prime Number\n",
      "147 Its Odd Number\n",
      "************************************\n",
      "148 Its not a prime Number\n",
      "148 Its Even Number\n",
      "************************************\n",
      "149 Its a prime Number\n",
      "149 Its Odd Number\n",
      "************************************\n",
      "150 Its not a prime Number\n",
      "150 Its Even Number\n",
      "************************************\n",
      "151 Its a prime Number\n",
      "151 Its Odd Number\n",
      "************************************\n",
      "152 Its not a prime Number\n",
      "152 Its Even Number\n",
      "************************************\n",
      "153 Its not a prime Number\n",
      "153 Its Odd Number\n",
      "************************************\n",
      "154 Its not a prime Number\n",
      "154 Its Even Number\n",
      "************************************\n",
      "155 Its not a prime Number\n",
      "155 Its Odd Number\n",
      "************************************\n",
      "156 Its not a prime Number\n",
      "156 Its Even Number\n",
      "************************************\n",
      "157 Its a prime Number\n",
      "157 Its Odd Number\n",
      "************************************\n",
      "158 Its not a prime Number\n",
      "158 Its Even Number\n",
      "************************************\n",
      "159 Its not a prime Number\n",
      "159 Its Odd Number\n",
      "************************************\n",
      "160 Its not a prime Number\n",
      "160 Its Even Number\n",
      "************************************\n",
      "161 Its not a prime Number\n",
      "161 Its Odd Number\n",
      "************************************\n",
      "162 Its not a prime Number\n",
      "162 Its Even Number\n",
      "************************************\n",
      "163 Its a prime Number\n",
      "163 Its Odd Number\n",
      "************************************\n",
      "164 Its not a prime Number\n",
      "164 Its Even Number\n",
      "************************************\n",
      "165 Its not a prime Number\n",
      "165 Its Odd Number\n",
      "************************************\n",
      "166 Its not a prime Number\n",
      "166 Its Even Number\n",
      "************************************\n",
      "167 Its a prime Number\n",
      "167 Its Odd Number\n",
      "************************************\n",
      "168 Its not a prime Number\n",
      "168 Its Even Number\n",
      "************************************\n",
      "169 Its not a prime Number\n",
      "169 Its Odd Number\n",
      "************************************\n",
      "170 Its not a prime Number\n",
      "170 Its Even Number\n",
      "************************************\n",
      "171 Its not a prime Number\n",
      "171 Its Odd Number\n",
      "************************************\n",
      "172 Its not a prime Number\n",
      "172 Its Even Number\n",
      "************************************\n",
      "173 Its a prime Number\n",
      "173 Its Odd Number\n",
      "************************************\n",
      "174 Its not a prime Number\n",
      "174 Its Even Number\n",
      "************************************\n",
      "175 Its not a prime Number\n",
      "175 Its Odd Number\n",
      "************************************\n",
      "176 Its not a prime Number\n",
      "176 Its Even Number\n",
      "************************************\n",
      "177 Its not a prime Number\n",
      "177 Its Odd Number\n",
      "************************************\n",
      "178 Its not a prime Number\n",
      "178 Its Even Number\n",
      "************************************\n",
      "179 Its a prime Number\n",
      "179 Its Odd Number\n",
      "************************************\n",
      "180 Its not a prime Number\n",
      "180 Its Even Number\n",
      "************************************\n",
      "181 Its a prime Number\n",
      "181 Its Odd Number\n",
      "************************************\n",
      "182 Its not a prime Number\n",
      "182 Its Even Number\n",
      "************************************\n",
      "183 Its not a prime Number\n",
      "183 Its Odd Number\n",
      "************************************\n",
      "184 Its not a prime Number\n",
      "184 Its Even Number\n",
      "************************************\n",
      "185 Its not a prime Number\n",
      "185 Its Odd Number\n",
      "************************************\n",
      "186 Its not a prime Number\n",
      "186 Its Even Number\n",
      "************************************\n",
      "187 Its not a prime Number\n",
      "187 Its Odd Number\n",
      "************************************\n",
      "188 Its not a prime Number\n",
      "188 Its Even Number\n",
      "************************************\n",
      "189 Its not a prime Number\n",
      "189 Its Odd Number\n",
      "************************************\n",
      "190 Its not a prime Number\n",
      "190 Its Even Number\n",
      "************************************\n",
      "191 Its a prime Number\n",
      "191 Its Odd Number\n",
      "************************************\n",
      "192 Its not a prime Number\n",
      "192 Its Even Number\n",
      "************************************\n",
      "193 Its a prime Number\n",
      "193 Its Odd Number\n",
      "************************************\n",
      "194 Its not a prime Number\n",
      "194 Its Even Number\n",
      "************************************\n",
      "195 Its not a prime Number\n",
      "195 Its Odd Number\n",
      "************************************\n",
      "196 Its not a prime Number\n",
      "196 Its Even Number\n",
      "************************************\n",
      "197 Its a prime Number\n",
      "197 Its Odd Number\n",
      "************************************\n",
      "198 Its not a prime Number\n",
      "198 Its Even Number\n",
      "************************************\n",
      "199 Its a prime Number\n",
      "199 Its Odd Number\n",
      "************************************\n"
     ]
    }
   ],
   "source": [
    "l2 = []\n",
    "\n",
    "for i in myList:\n",
    "    if isinstance(i,(int)):\n",
    "        l2.append(i)\n",
    "        \n",
    "print(l2)   \n",
    "\n",
    "for i in l2:\n",
    "    \n",
    "    for m in range(2,i):\n",
    "        \n",
    "        if i%m == 0:\n",
    "            print(f'{i} Its not a prime Number')\n",
    "            \n",
    "            \n",
    "            if i%2 == 0:\n",
    "                print(f'{i} Its Even Number')\n",
    "                print('****'*9)\n",
    "                break\n",
    "            \n",
    "            else:\n",
    "                print(f'{i} Its Odd Number')\n",
    "                print('****'*9)\n",
    "                break\n",
    "            \n",
    "    \n",
    "    else:\n",
    "        print(f'{i} Its a prime Number')\n",
    "        \n",
    "        if i%2 == 0:\n",
    "            print(f'{i} Its Even Number')\n",
    "            print('****'*9)\n",
    "        \n",
    "    \n",
    "        else:\n",
    "            print(f'{i} Its Odd Number')\n",
    "            print('****'*9)\n",
    "    \n",
    "    "
   ]
  },
  {
   "cell_type": "code",
   "execution_count": null,
   "id": "152996bf",
   "metadata": {},
   "outputs": [],
   "source": []
  },
  {
   "cell_type": "code",
   "execution_count": 110,
   "id": "81cc3fd5",
   "metadata": {},
   "outputs": [
    {
     "name": "stdout",
     "output_type": "stream",
     "text": [
      "\n",
      "*\n",
      "**\n",
      "***\n",
      "****\n",
      "*****\n",
      "******\n",
      "*******\n"
     ]
    }
   ],
   "source": [
    "for i in range(8):\n",
    "    print('*'* i)\n",
    "    "
   ]
  },
  {
   "cell_type": "code",
   "execution_count": 4,
   "id": "8ad0e467",
   "metadata": {},
   "outputs": [
    {
     "name": "stdout",
     "output_type": "stream",
     "text": [
      "********\n",
      "*******\n",
      "******\n",
      "*****\n",
      "****\n",
      "***\n",
      "**\n",
      "*\n"
     ]
    }
   ],
   "source": [
    "n = 8\n",
    "for i in range(n):\n",
    "    print('*'*n)\n",
    "    n = n-1"
   ]
  },
  {
   "cell_type": "code",
   "execution_count": 114,
   "id": "d1269f8c",
   "metadata": {},
   "outputs": [
    {
     "name": "stdout",
     "output_type": "stream",
     "text": [
      "9\n",
      "*********\n",
      "********\n",
      "*******\n",
      "******\n",
      "*****\n",
      "****\n",
      "***\n",
      "**\n",
      "*\n"
     ]
    }
   ],
   "source": [
    "n = int(input())\n",
    "\n",
    "for i in range(n):\n",
    "    \n",
    "    print('*'*n)\n",
    "    \n",
    "    n = n - 1\n",
    "    "
   ]
  },
  {
   "cell_type": "code",
   "execution_count": null,
   "id": "ee98306d",
   "metadata": {},
   "outputs": [],
   "source": []
  },
  {
   "cell_type": "code",
   "execution_count": 8,
   "id": "7b3573d0",
   "metadata": {},
   "outputs": [
    {
     "name": "stdout",
     "output_type": "stream",
     "text": [
      "Enter Your Number : 8765\n",
      "26\n"
     ]
    }
   ],
   "source": [
    "#Addition of given phone Number.\n",
    "number = int(input('Enter Your Number : '))\n",
    "sum = 0\n",
    "\n",
    "while number != 0 :\n",
    "    \n",
    "    rem = number % 10\n",
    "    \n",
    "    sum = sum + rem\n",
    "    \n",
    "    number = number//10\n",
    "    \n",
    "print(sum)    "
   ]
  },
  {
   "cell_type": "code",
   "execution_count": 6,
   "id": "fa8d0679",
   "metadata": {},
   "outputs": [
    {
     "data": {
      "text/plain": [
       "0"
      ]
     },
     "execution_count": 6,
     "metadata": {},
     "output_type": "execute_result"
    }
   ],
   "source": []
  },
  {
   "cell_type": "code",
   "execution_count": 4,
   "id": "65c36186",
   "metadata": {},
   "outputs": [
    {
     "name": "stdout",
     "output_type": "stream",
     "text": [
      "Enter Any Year You Want : 1900\n",
      "************************************\n",
      "This year 1900 is not a leap Year\n",
      "************************************\n"
     ]
    }
   ],
   "source": [
    "#Leap Year (366 day present then its leap year.) (2000,2004,1980)\n",
    "\n",
    "year = int(input('Enter Any Year You Want : '))\n",
    "print('***'*12)\n",
    "\n",
    "if ((year % 400 == 0)) or ((year % 100 != 0) & (year % 4 == 0)):\n",
    "    \n",
    "    print(f'This year {year} is a leap Year')\n",
    "    print('***'*12)\n",
    "\n",
    "else:     \n",
    "    \n",
    "    print(f'This year {year} is not a leap Year')\n",
    "    print('***'*12)"
   ]
  },
  {
   "cell_type": "code",
   "execution_count": null,
   "id": "cdd1feb4",
   "metadata": {},
   "outputs": [],
   "source": []
  },
  {
   "cell_type": "code",
   "execution_count": null,
   "id": "0375ee9a",
   "metadata": {},
   "outputs": [],
   "source": []
  },
  {
   "cell_type": "code",
   "execution_count": 8,
   "id": "6c1bb966",
   "metadata": {},
   "outputs": [],
   "source": [
    "#LCM: Least common multiple.()"
   ]
  },
  {
   "cell_type": "code",
   "execution_count": 27,
   "id": "5fbe8136",
   "metadata": {},
   "outputs": [
    {
     "data": {
      "text/plain": [
       "792"
      ]
     },
     "execution_count": 27,
     "metadata": {},
     "output_type": "execute_result"
    }
   ],
   "source": [
    "def lcm(n1,n2):\n",
    "    \n",
    "    for i in range(1,max(n1,n2)):\n",
    "        if n1%i == n2%i ==0:\n",
    "            hcf = i\n",
    "            \n",
    "    result = (n1*n2) // hcf\n",
    "    \n",
    "    return result\n",
    "\n",
    "lcm(88,99)"
   ]
  },
  {
   "cell_type": "code",
   "execution_count": null,
   "id": "73910ab2",
   "metadata": {},
   "outputs": [],
   "source": []
  },
  {
   "cell_type": "code",
   "execution_count": null,
   "id": "b1a9f40f",
   "metadata": {},
   "outputs": [],
   "source": []
  },
  {
   "cell_type": "code",
   "execution_count": null,
   "id": "52913701",
   "metadata": {},
   "outputs": [],
   "source": []
  },
  {
   "cell_type": "code",
   "execution_count": 4,
   "id": "fc1e2627",
   "metadata": {},
   "outputs": [
    {
     "name": "stdout",
     "output_type": "stream",
     "text": [
      "Enter Num: 1\n",
      "Enter Num: 3\n",
      "Enter Num: 2\n",
      "3 is highest\n"
     ]
    }
   ],
   "source": [
    "#take 3 input and see which one is highest.\n",
    "a = int(input(\"Enter Num: \"))\n",
    "b = int(input(\"Enter Num: \"))\n",
    "c = int(input(\"Enter Num: \"))\n",
    "\n",
    "if(a > b) and (a > c):\n",
    "    \n",
    "    print(f'{a} is highest')\n",
    "    \n",
    "elif(b > a) and (b > c):\n",
    "    \n",
    "    print(f'{b} is highest')\n",
    "\n",
    "else:\n",
    "    print(f'{c} is highest')"
   ]
  },
  {
   "cell_type": "code",
   "execution_count": null,
   "id": "9c6d17ec",
   "metadata": {},
   "outputs": [],
   "source": []
  },
  {
   "cell_type": "code",
   "execution_count": 1,
   "id": "29e59cec",
   "metadata": {},
   "outputs": [],
   "source": [
    "# Mutable: list, set\n",
    "# Immutable : Tuple,frozen set\n",
    "\n",
    "#Ordered : set,frozenset\n",
    "#Unordered : List,tuple,dictionary\n",
    "\n",
    "#set won't take duplicate values."
   ]
  },
  {
   "cell_type": "code",
   "execution_count": null,
   "id": "1be58c24",
   "metadata": {},
   "outputs": [],
   "source": []
  },
  {
   "cell_type": "code",
   "execution_count": 18,
   "id": "7d829fe7",
   "metadata": {},
   "outputs": [
    {
     "name": "stdout",
     "output_type": "stream",
     "text": [
      "Enter 3 digit Num: 371\n",
      "1 7 3\n",
      "It;s Armstrong Num\n"
     ]
    }
   ],
   "source": [
    "# Armstrong number\n",
    "n = int(input('Enter 3 digit Num: '))\n",
    "\n",
    "a = n % 10\n",
    "\n",
    "r = n//10\n",
    "\n",
    "b = r % 10\n",
    "\n",
    "c = r // 10\n",
    "\n",
    "print(a,b,c,sep = ' ')\n",
    "if a**3 + b**3 + c**3 == n:\n",
    "    print('It;s Armstrong Num')\n",
    "else:\n",
    "    print('It is not')"
   ]
  },
  {
   "cell_type": "code",
   "execution_count": 19,
   "id": "95274643",
   "metadata": {},
   "outputs": [
    {
     "name": "stdout",
     "output_type": "stream",
     "text": [
      "Enter 3 digit Num: 371\n",
      "1 7 3\n",
      "It is not\n"
     ]
    }
   ],
   "source": [
    "# narcissist number\n",
    "\n",
    "n = int(input('Enter 3 digit Num: '))\n",
    "\n",
    "a = n % 10\n",
    "\n",
    "r = n//10\n",
    "\n",
    "b = r % 10\n",
    "\n",
    "c = r // 10\n",
    "\n",
    "print(a,b,c,sep = ' ')\n",
    "if a**4 + b**4 + c**4 == n:\n",
    "    print('It;s narcisst Num')\n",
    "else:\n",
    "    print('It is not')"
   ]
  },
  {
   "cell_type": "code",
   "execution_count": 7,
   "id": "77f5b42e",
   "metadata": {},
   "outputs": [
    {
     "name": "stdout",
     "output_type": "stream",
     "text": [
      "Enter Any No: 8\n",
      "1\n",
      "2\n",
      "4\n",
      "8\n"
     ]
    }
   ],
   "source": [
    "# Print all factors of a given number provided by the user\n",
    "\n",
    "n = int(input('Enter Any No: '))\n",
    "\n",
    "for i in range(1,n+1):\n",
    "    if n%i == 0:\n",
    "        print(i)\n",
    "    "
   ]
  },
  {
   "cell_type": "code",
   "execution_count": 10,
   "id": "a1ff8a8e",
   "metadata": {},
   "outputs": [],
   "source": [
    "# # Write all content of a given file into a new file by skipping line number 5\n",
    "\n",
    "# with open('File name','r') as fr:\n",
    "#     lines = fr.readlines()\n",
    "\n",
    "# with open('file exp name','w') as fw:\n",
    "#     count = 0\n",
    "    \n",
    "#     for line in range(lines):\n",
    "        \n",
    "#         if count == 4:\n",
    "#             count +=1\n",
    "#             continue\n",
    "        \n",
    "#         else:\n",
    "#             fw.write(line)\n",
    "#         count +=1"
   ]
  },
  {
   "cell_type": "code",
   "execution_count": null,
   "id": "bdf26132",
   "metadata": {},
   "outputs": [],
   "source": []
  },
  {
   "cell_type": "code",
   "execution_count": 12,
   "id": "42183316",
   "metadata": {},
   "outputs": [],
   "source": [
    "# # Check file is empty or not Write a program to check if the given file is empty or not\n",
    "\n",
    "# import os\n",
    "\n",
    "# size = os.stat('').st_size\n",
    "\n",
    "# if size == 0:\n",
    "#     print('file empty')\n",
    "\n",
    "# else:\n",
    "#     print('its not')"
   ]
  },
  {
   "cell_type": "code",
   "execution_count": null,
   "id": "ccb8101b",
   "metadata": {},
   "outputs": [],
   "source": []
  },
  {
   "cell_type": "code",
   "execution_count": 15,
   "id": "9eac0531",
   "metadata": {},
   "outputs": [
    {
     "name": "stdout",
     "output_type": "stream",
     "text": [
      "[1, 3, 5, 7, 9, 11, 13, 15, 17, 19]\n"
     ]
    }
   ],
   "source": [
    "# Add privious num\n",
    "# Print the sum of the current number and the previous number Write a program to iterate the first\n",
    "# 10 numbers and in each iteration, print the sum of the current and previous number.\n",
    "# Expected result: 0,1,3,5,7,9,11,13,15,17\n",
    "\n",
    "prev_num = 0\n",
    "l = []\n",
    "\n",
    "for i in range(1,11):\n",
    "    \n",
    "    x = i + prev_num\n",
    "    prev_num = i\n",
    "    \n",
    "    l.append(x)\n",
    "print(l)"
   ]
  },
  {
   "cell_type": "code",
   "execution_count": null,
   "id": "5134c70c",
   "metadata": {},
   "outputs": [],
   "source": []
  },
  {
   "cell_type": "code",
   "execution_count": 10,
   "id": "94914d57",
   "metadata": {},
   "outputs": [
    {
     "name": "stdout",
     "output_type": "stream",
     "text": [
      "enter num: 6\n",
      "no\n"
     ]
    }
   ],
   "source": [
    "#Write a python program to search a given number from a list\n",
    "\n",
    "l = [1,11,28,33,98,47,5]\n",
    "\n",
    "num = int(input('enter num: '))\n",
    "\n",
    "for i in l:\n",
    "    \n",
    "    if i == num:\n",
    "        print('yes')\n",
    "        break\n",
    "else:\n",
    "    print('no')\n",
    "    "
   ]
  },
  {
   "cell_type": "code",
   "execution_count": null,
   "id": "b4525e94",
   "metadata": {},
   "outputs": [],
   "source": []
  },
  {
   "cell_type": "code",
   "execution_count": 33,
   "id": "b10aadcd",
   "metadata": {},
   "outputs": [
    {
     "name": "stdout",
     "output_type": "stream",
     "text": [
      "9000 8100 7290 6561 5905 5314 4783 4305 3874 "
     ]
    }
   ],
   "source": [
    "# The current population of a town is 10000. The population of the town is increasing at the rate\n",
    "# of 10% per year. You have to write a program to find out the population at the end of each of the last 10\n",
    "# years. For eg current population is 10000 so the output should be like this:\n",
    "\n",
    "\n",
    "p=10000\n",
    "for i in range(1,10):\n",
    " p=p-0.1*p\n",
    " print(round(p),end=\" \")\n",
    "    "
   ]
  },
  {
   "cell_type": "code",
   "execution_count": 19,
   "id": "a061e093",
   "metadata": {},
   "outputs": [
    {
     "name": "stdout",
     "output_type": "stream",
     "text": [
      "Enter the first number: 5\n",
      "Enter the second number: 8\n",
      "The GCD of 5 and 8 is: 1\n"
     ]
    }
   ],
   "source": [
    "#Greatest Common Divisor\n",
    "def gcd(a, b):\n",
    "    while b:\n",
    "        a, b = b, a % b\n",
    "    return a\n",
    "\n",
    "# Example usage:\n",
    "num1 = int(input(\"Enter the first number: \"))\n",
    "num2 = int(input(\"Enter the second number: \"))\n",
    "\n",
    "result = gcd(num1, num2)\n",
    "print(f\"The GCD of {num1} and {num2} is: {result}\")\n"
   ]
  },
  {
   "cell_type": "code",
   "execution_count": null,
   "id": "614d5e8d",
   "metadata": {},
   "outputs": [],
   "source": []
  },
  {
   "cell_type": "code",
   "execution_count": null,
   "id": "cb9eabb0",
   "metadata": {},
   "outputs": [],
   "source": []
  },
  {
   "cell_type": "code",
   "execution_count": 10,
   "id": "acaf0518",
   "metadata": {},
   "outputs": [
    {
     "name": "stdout",
     "output_type": "stream",
     "text": [
      "i t a w S\n"
     ]
    }
   ],
   "source": [
    "name = 'Swati'\n",
    "\n",
    "print(' '.join(reversed(name)))"
   ]
  },
  {
   "cell_type": "code",
   "execution_count": 13,
   "id": "33ef2326",
   "metadata": {},
   "outputs": [
    {
     "name": "stdout",
     "output_type": "stream",
     "text": [
      "enter the number:786\n",
      "reversr number: 6\n",
      "reversr number: 8\n",
      "reversr number: 7\n"
     ]
    }
   ],
   "source": [
    "num=int(input('enter the number:'))\n",
    "for i in reversed(str(num)):\n",
    "    print('reversr number:',i)"
   ]
  },
  {
   "cell_type": "code",
   "execution_count": 15,
   "id": "8cd15bdf",
   "metadata": {},
   "outputs": [
    {
     "name": "stdout",
     "output_type": "stream",
     "text": [
      "0\n",
      "1\n",
      "3\n",
      "6\n",
      "10\n",
      "15\n",
      "21\n",
      "28\n",
      "36\n",
      "45\n"
     ]
    }
   ],
   "source": [
    "num = 0\n",
    "sum = 0\n",
    "while num!=10:\n",
    "    \n",
    "    sum = sum + num\n",
    "    num +=1 \n",
    "    print(sum)"
   ]
  },
  {
   "cell_type": "code",
   "execution_count": 25,
   "id": "89fe920d",
   "metadata": {},
   "outputs": [
    {
     "name": "stdout",
     "output_type": "stream",
     "text": [
      "Name is James\n"
     ]
    }
   ],
   "source": [
    "a='Name'\n",
    "b='James'\n",
    "print(a,'is',b,sep=' ')"
   ]
  },
  {
   "cell_type": "code",
   "execution_count": 39,
   "id": "329e5eab",
   "metadata": {},
   "outputs": [
    {
     "name": "stdout",
     "output_type": "stream",
     "text": [
      "I love python22\n"
     ]
    }
   ],
   "source": [
    "with open('CMPs.json','r') as fp:\n",
    "    x = fp.readline()\n",
    "    print(x)"
   ]
  },
  {
   "cell_type": "code",
   "execution_count": 38,
   "id": "5051ad2e",
   "metadata": {},
   "outputs": [
    {
     "name": "stdout",
     "output_type": "stream",
     "text": [
      "15\n"
     ]
    }
   ],
   "source": [
    "with open('CMPs.json','w') as fp:\n",
    "    x = fp.write('I love python22')\n",
    "    print(x)"
   ]
  },
  {
   "cell_type": "code",
   "execution_count": 40,
   "id": "ee3f8381",
   "metadata": {},
   "outputs": [
    {
     "name": "stdout",
     "output_type": "stream",
     "text": [
      "The greatest number in the list is: 101\n"
     ]
    }
   ],
   "source": [
    "def find_greatest_number(numbers):\n",
    "    if not numbers:\n",
    "        return None  # Return None for an empty list\n",
    "\n",
    "    greatest = numbers[0]  # Assume the first number is the greatest\n",
    "\n",
    "    for num in numbers:\n",
    "        if num > greatest:\n",
    "            greatest = num\n",
    "\n",
    "    return greatest\n",
    "\n",
    "# Example list\n",
    "number_list = [12, 45, 9, 101, 24, 6]\n",
    "\n",
    "# Call the function and print the result\n",
    "print(\"The greatest number in the list is:\", find_greatest_number(number_list))\n"
   ]
  },
  {
   "cell_type": "code",
   "execution_count": 41,
   "id": "f747f1fb",
   "metadata": {},
   "outputs": [
    {
     "name": "stdout",
     "output_type": "stream",
     "text": [
      "The greatest number in the list is: 101\n"
     ]
    }
   ],
   "source": [
    "def find_greatest_number(numbers):\n",
    "    return max(numbers)\n",
    "\n",
    "# Example list\n",
    "number_list = [12, 45, 9, 101, 24, 6]\n",
    "\n",
    "# Call the function and print the result\n",
    "print(\"The greatest number in the list is:\", find_greatest_number(number_list))\n"
   ]
  },
  {
   "cell_type": "code",
   "execution_count": null,
   "id": "a303a81c",
   "metadata": {},
   "outputs": [],
   "source": []
  },
  {
   "cell_type": "code",
   "execution_count": null,
   "id": "284dc38f",
   "metadata": {},
   "outputs": [],
   "source": []
  },
  {
   "cell_type": "code",
   "execution_count": 43,
   "id": "d37df380",
   "metadata": {},
   "outputs": [],
   "source": [
    "# import boto3\n",
    "\n",
    "# # Set your AWS credentials\n",
    "# aws_access_key_id = 'YOUR_ACCESS_KEY_ID'\n",
    "# aws_secret_access_key = 'YOUR_SECRET_ACCESS_KEY'\n",
    "# aws_region = 'YOUR_AWS_REGION'\n",
    "\n",
    "# # Set the name of your S3 bucket and the key (path) of the file\n",
    "# bucket_name = 'your-bucket-name'\n",
    "# file_key = 'path/to/your/file.txt'\n",
    "\n",
    "# # Create an S3 client\n",
    "# s3 = boto3.client('s3', aws_access_key_id=aws_access_key_id, aws_secret_access_key=aws_secret_access_key, region_name=aws_region)\n",
    "\n",
    "# # Download the file from S3\n",
    "# try:\n",
    "#     response = s3.get_object(Bucket=bucket_name, Key=file_key)\n",
    "#     content = response['Body'].read().decode('utf-8')\n",
    "#     print(content)\n",
    "# except Exception as e:\n",
    "#     print(f\"An error occurred: {e}\")\n"
   ]
  },
  {
   "cell_type": "code",
   "execution_count": 44,
   "id": "2bc1fb34",
   "metadata": {},
   "outputs": [],
   "source": [
    "# import boto3\n",
    "\n",
    "# # Set your AWS credentials\n",
    "# aws_access_key_id = 'YOUR_ACCESS_KEY_ID'\n",
    "# aws_secret_access_key = 'YOUR_SECRET_ACCESS_KEY'\n",
    "# aws_region = 'YOUR_AWS_REGION'\n",
    "\n",
    "# # Set the name of your S3 bucket and the key (path) where you want to upload the file\n",
    "# bucket_name = 'your-bucket-name'\n",
    "# file_key = 'path/to/your/uploaded/file.txt'\n",
    "\n",
    "# # Content to be uploaded\n",
    "# content_to_upload = \"This is the content to upload to S3.\"\n",
    "\n",
    "# # Create an S3 client\n",
    "# s3 = boto3.client('s3', aws_access_key_id=aws_access_key_id, aws_secret_access_key=aws_secret_access_key, region_name=aws_region)\n",
    "\n",
    "# # Upload the file to S3\n",
    "# try:\n",
    "#     s3.put_object(Bucket=bucket_name, Key=file_key, Body=content_to_upload.encode('utf-8'))\n",
    "#     print(f\"File uploaded to S3: s3://{bucket_name}/{file_key}\")\n",
    "# except Exception as e:\n",
    "#     print(f\"An error occurred: {e}\")\n"
   ]
  },
  {
   "cell_type": "markdown",
   "id": "76505d85",
   "metadata": {},
   "source": [
    "s3 = boto3.client(s,k,re)\n",
    "\n",
    "try:\n",
    "    response = s3.get_object(b,f)\n",
    "    content = r['Body'].read().decode('udf-8')\n",
    "    \n",
    "    s3.put_object(b,f,Body = content_to_upload.encode('udf-8'))"
   ]
  },
  {
   "cell_type": "markdown",
   "id": "341cbed4",
   "metadata": {},
   "source": [
    "what is a function: In Python, a function is a block of organized, reusable code that performs a specific task."
   ]
  },
  {
   "cell_type": "markdown",
   "id": "ffbcb8d1",
   "metadata": {},
   "source": [
    "Lambda: It is a name less anonymus function use to perform small and onetime operations."
   ]
  },
  {
   "cell_type": "code",
   "execution_count": 46,
   "id": "4f385956",
   "metadata": {},
   "outputs": [
    {
     "data": {
      "text/plain": [
       "array([1, 2, 3, 4, 5])"
      ]
     },
     "execution_count": 46,
     "metadata": {},
     "output_type": "execute_result"
    }
   ],
   "source": [
    "import numpy as np\n",
    "\n",
    "np.array([1,2,3,4,5])"
   ]
  },
  {
   "cell_type": "code",
   "execution_count": 47,
   "id": "cc9ab904",
   "metadata": {},
   "outputs": [
    {
     "data": {
      "text/plain": [
       "array([[1, 2],\n",
       "       [3, 4]])"
      ]
     },
     "execution_count": 47,
     "metadata": {},
     "output_type": "execute_result"
    }
   ],
   "source": [
    " np.array([[1,2],[3,4]])"
   ]
  },
  {
   "cell_type": "code",
   "execution_count": 49,
   "id": "83920146",
   "metadata": {},
   "outputs": [
    {
     "data": {
      "text/plain": [
       "array([1, 2, 3, 4])"
      ]
     },
     "execution_count": 49,
     "metadata": {},
     "output_type": "execute_result"
    }
   ],
   "source": [
    "np.arange(1,5)"
   ]
  },
  {
   "cell_type": "code",
   "execution_count": 50,
   "id": "2ad011ce",
   "metadata": {},
   "outputs": [
    {
     "data": {
      "text/plain": [
       "array([[0., 0., 0., 0., 0.],\n",
       "       [0., 0., 0., 0., 0.],\n",
       "       [0., 0., 0., 0., 0.]])"
      ]
     },
     "execution_count": 50,
     "metadata": {},
     "output_type": "execute_result"
    }
   ],
   "source": [
    "np.zeros((3,5))"
   ]
  },
  {
   "cell_type": "code",
   "execution_count": 51,
   "id": "bd9ed72f",
   "metadata": {},
   "outputs": [
    {
     "data": {
      "text/plain": [
       "array([[1., 1., 1., 1.],\n",
       "       [1., 1., 1., 1.],\n",
       "       [1., 1., 1., 1.]])"
      ]
     },
     "execution_count": 51,
     "metadata": {},
     "output_type": "execute_result"
    }
   ],
   "source": [
    "np.ones((3,4))"
   ]
  },
  {
   "cell_type": "markdown",
   "id": "08d794ca",
   "metadata": {},
   "source": [
    "### list comprehansion: converting one list to another.\n",
    "    "
   ]
  },
  {
   "cell_type": "code",
   "execution_count": 54,
   "id": "799efc34",
   "metadata": {},
   "outputs": [
    {
     "name": "stdout",
     "output_type": "stream",
     "text": [
      "[0, 1, 2, 3, 4, 5, 6, 7, 8, 9, 10, 11, 12, 13, 14, 15, 16, 17, 18, 19, 20, 21, 22, 23, 24, 25, 26, 27, 28, 29, 30, 31, 32, 33, 34, 35, 36, 37, 38, 39, 40, 41, 42, 43, 44, 45, 46, 47, 48, 49, 50, 51, 52, 53, 54, 55, 56, 57, 58, 59, 60, 61, 62, 63, 64, 65, 66, 67, 68, 69, 70, 71, 72, 73, 74, 75, 76, 77, 78, 79, 80, 81, 82, 83, 84, 85, 86, 87, 88, 89, 90, 91, 92, 93, 94, 95, 96, 97, 98, 99]\n"
     ]
    }
   ],
   "source": [
    "list = [i for i in range(100)]\n",
    "print(list)"
   ]
  },
  {
   "cell_type": "code",
   "execution_count": null,
   "id": "ab534489",
   "metadata": {},
   "outputs": [],
   "source": []
  }
 ],
 "metadata": {
  "kernelspec": {
   "display_name": "Python 3 (ipykernel)",
   "language": "python",
   "name": "python3"
  },
  "language_info": {
   "codemirror_mode": {
    "name": "ipython",
    "version": 3
   },
   "file_extension": ".py",
   "mimetype": "text/x-python",
   "name": "python",
   "nbconvert_exporter": "python",
   "pygments_lexer": "ipython3",
   "version": "3.11.3"
  }
 },
 "nbformat": 4,
 "nbformat_minor": 5
}
