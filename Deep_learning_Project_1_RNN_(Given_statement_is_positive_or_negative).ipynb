{
  "cells": [
    {
      "cell_type": "markdown",
      "source": [
        "### Tensorflow Basics"
      ],
      "metadata": {
        "id": "cWut5DvlJjO4"
      }
    },
    {
      "cell_type": "code",
      "source": [
        "# !wget https://www.dropbox.com/s/pdhwlpi2yeie0ol/movie-reviews-dataset.zip"
      ],
      "metadata": {
        "id": "zn0IJvicXIvV",
        "colab": {
          "base_uri": "https://localhost:8080/"
        },
        "outputId": "7ad368d6-3a7a-4bc8-ca48-e3a2d023598a"
      },
      "execution_count": 1,
      "outputs": [
        {
          "output_type": "stream",
          "name": "stdout",
          "text": [
            "--2024-01-08 06:13:52--  https://www.dropbox.com/s/pdhwlpi2yeie0ol/movie-reviews-dataset.zip\n",
            "Resolving www.dropbox.com (www.dropbox.com)... 162.125.80.18, 2620:100:601f:18::a27d:912\n",
            "Connecting to www.dropbox.com (www.dropbox.com)|162.125.80.18|:443... connected.\n",
            "HTTP request sent, awaiting response... 302 Found\n",
            "Location: /s/raw/pdhwlpi2yeie0ol/movie-reviews-dataset.zip [following]\n",
            "--2024-01-08 06:13:53--  https://www.dropbox.com/s/raw/pdhwlpi2yeie0ol/movie-reviews-dataset.zip\n",
            "Reusing existing connection to www.dropbox.com:443.\n",
            "HTTP request sent, awaiting response... 302 Found\n",
            "Location: https://uc2e824e411a082fd69a7fef6f8d.dl.dropboxusercontent.com/cd/0/inline/CK5Sr6iqEhWc2L3CQRkabaTgSGvIwK5RBuWF8Mvgs4StG6gIpxMzlgieP3s3zT4s5-o51b51vzvoCLXFmIc8By6yz7KqiowMcx2bpjUlgDM97t_-hGmXz5mdPmaOBqeadRnJxrsxreQjM9X2Yxm8vPiC/file# [following]\n",
            "--2024-01-08 06:13:53--  https://uc2e824e411a082fd69a7fef6f8d.dl.dropboxusercontent.com/cd/0/inline/CK5Sr6iqEhWc2L3CQRkabaTgSGvIwK5RBuWF8Mvgs4StG6gIpxMzlgieP3s3zT4s5-o51b51vzvoCLXFmIc8By6yz7KqiowMcx2bpjUlgDM97t_-hGmXz5mdPmaOBqeadRnJxrsxreQjM9X2Yxm8vPiC/file\n",
            "Resolving uc2e824e411a082fd69a7fef6f8d.dl.dropboxusercontent.com (uc2e824e411a082fd69a7fef6f8d.dl.dropboxusercontent.com)... 162.125.80.15, 2620:100:601d:15::a27d:50f\n",
            "Connecting to uc2e824e411a082fd69a7fef6f8d.dl.dropboxusercontent.com (uc2e824e411a082fd69a7fef6f8d.dl.dropboxusercontent.com)|162.125.80.15|:443... connected.\n",
            "HTTP request sent, awaiting response... 302 Found\n",
            "Location: /cd/0/inline2/CK5HhRyLdc4qir2PT6XCca1ZZs7luGGMh1OcAfKXsgR-8FizXcoJ-BDyLtuC8T2PM4G08JUrAhhzsRPJZnRdMhqdVtk3hA0IY_TiCKb6pb9v3zxtu8x72bc1GnFqRox6BPwPZhC1iZcPi2aPHDMFsOw9TzFkwQTKL490gaiySHTbHpjmdUlUvQLmj1K3TqoUpi0UYbNERdg-RIa-uhsO5L_Pa4CZS8tZP5I9wF2IfWDrp2lhgnjKsXApNXWT1jlBlHV0WyBJSFSWwwVP96DsUpwjrY_TSbo7k4MVmIZQLhH-HJS9Yq0TGTrTq74BRxGgmbN4LKebLbPy1Uo_Z7CDB6-JHgdHi8wyxlqMMJWPUuHKTKLKcrvfgTAq2mXsbA49kZg/file [following]\n",
            "--2024-01-08 06:13:55--  https://uc2e824e411a082fd69a7fef6f8d.dl.dropboxusercontent.com/cd/0/inline2/CK5HhRyLdc4qir2PT6XCca1ZZs7luGGMh1OcAfKXsgR-8FizXcoJ-BDyLtuC8T2PM4G08JUrAhhzsRPJZnRdMhqdVtk3hA0IY_TiCKb6pb9v3zxtu8x72bc1GnFqRox6BPwPZhC1iZcPi2aPHDMFsOw9TzFkwQTKL490gaiySHTbHpjmdUlUvQLmj1K3TqoUpi0UYbNERdg-RIa-uhsO5L_Pa4CZS8tZP5I9wF2IfWDrp2lhgnjKsXApNXWT1jlBlHV0WyBJSFSWwwVP96DsUpwjrY_TSbo7k4MVmIZQLhH-HJS9Yq0TGTrTq74BRxGgmbN4LKebLbPy1Uo_Z7CDB6-JHgdHi8wyxlqMMJWPUuHKTKLKcrvfgTAq2mXsbA49kZg/file\n",
            "Reusing existing connection to uc2e824e411a082fd69a7fef6f8d.dl.dropboxusercontent.com:443.\n",
            "HTTP request sent, awaiting response... 200 OK\n",
            "Length: 62951389 (60M) [application/zip]\n",
            "Saving to: ‘movie-reviews-dataset.zip’\n",
            "\n",
            "movie-reviews-datas 100%[===================>]  60.03M  14.9MB/s    in 5.1s    \n",
            "\n",
            "2024-01-08 06:14:00 (11.8 MB/s) - ‘movie-reviews-dataset.zip’ saved [62951389/62951389]\n",
            "\n"
          ]
        }
      ]
    },
    {
      "cell_type": "code",
      "source": [
        "# !unzip -q \"/content/movie-reviews-dataset.zip\""
      ],
      "metadata": {
        "id": "vFGAM1_VVB-s"
      },
      "execution_count": null,
      "outputs": []
    },
    {
      "cell_type": "code",
      "source": [
        "from tensorflow.keras.preprocessing import text_dataset_from_directory\n",
        "from tensorflow.strings import regex_replace\n",
        "from tensorflow.keras.layers.experimental.preprocessing import TextVectorization\n",
        "from tensorflow.keras.models import Sequential\n",
        "from tensorflow.keras import Input\n",
        "from tensorflow.keras.layers import Dense, RNN, LSTM, GRU, SimpleRNNCell, Embedding, Dropout, Bidirectional\n"
      ],
      "metadata": {
        "id": "umq5boypVKqd"
      },
      "execution_count": 3,
      "outputs": []
    },
    {
      "cell_type": "code",
      "source": [
        "def prepareData(dir):\n",
        "  data = text_dataset_from_directory(dir)\n",
        "  return data.map(\n",
        "    lambda text, label: (regex_replace(text, '<br />', ' '), label),\n",
        "  )"
      ],
      "metadata": {
        "id": "RwofSea0VOoW"
      },
      "execution_count": 4,
      "outputs": []
    },
    {
      "cell_type": "code",
      "source": [
        "train_data = prepareData('movie-reviews-dataset/train')\n",
        "test_data = prepareData('movie-reviews-dataset/test')\n",
        "\n",
        "for text_batch, label_batch in train_data.take(1):\n",
        "  print(text_batch.numpy()[0])\n",
        "  print(label_batch.numpy()[0])"
      ],
      "metadata": {
        "colab": {
          "base_uri": "https://localhost:8080/"
        },
        "id": "M-odJU_3VQb6",
        "outputId": "2a6a0822-f208-4f77-ef5a-1bf75fa59e6f"
      },
      "execution_count": 5,
      "outputs": [
        {
          "output_type": "stream",
          "name": "stdout",
          "text": [
            "Found 25000 files belonging to 2 classes.\n",
            "Found 25000 files belonging to 2 classes.\n",
            "b'I noticed with some amusement that in the end credits, the Detroit PD is thanked for their participation. The Chief of Police even has one speaking line playing himself (and boy, can you tell he can\\'t act). The reason for the amusement is that in this movie the police shoot first and ask questions later. Not the kind of PR, I would think a police force would want. Other than that, this is your standard cops and robbers film dressed up for the \\'70\\'s with a racial angle. Alex Rocco is given a thankless role of a lifer cop that can\\'t get ahead and is saddled with a mentally ill wife. He makes up for this by hanging out at the local whorehouse. Hari Rhodes is his dashing partner that has a groovy wardrobe and likes to chase after suspects while wearing a trenchcoat. The movie moves along until the penultimate shootout that makes absolutely no sense (why do people that are only guilty of a robbery, take on a whole police force?). Not only do we see one shootout but since there are four bad guys, we get to see four. Then there is a twist ending that is supposed to leave one guessing what really would have happened but only left me thinking how stupid it was. Seeing that director Arthur Marks was also behind the braindead \"Friday Foster\" and \"Bucktown\", I shouldn\\'t have wondered.'\n",
            "0\n"
          ]
        }
      ]
    },
    {
      "cell_type": "code",
      "source": [
        "model = Sequential()\n",
        "model.add(Input(shape=(1,), dtype=\"string\"))\n",
        "\n",
        "max_tokens = 1000\n",
        "max_len = 100\n",
        "vectorize_layer = TextVectorization(\n",
        "  max_tokens=max_tokens,\n",
        "  output_mode=\"int\",\n",
        "  output_sequence_length=max_len,\n",
        ")\n"
      ],
      "metadata": {
        "id": "OUiJDInFVVYJ"
      },
      "execution_count": 6,
      "outputs": []
    },
    {
      "cell_type": "code",
      "source": [
        "train_texts = train_data.map(lambda text, label: text)\n",
        "vectorize_layer.adapt(train_texts)\n",
        "\n",
        "model.add(vectorize_layer)"
      ],
      "metadata": {
        "id": "8im3MYIdVeq6"
      },
      "execution_count": 7,
      "outputs": []
    },
    {
      "cell_type": "code",
      "source": [
        "# ### Embedding layer use to convert the interger produce in previouse layer into fixed lenth vector.\n",
        "# model.add(Embedding(max_tokens + 1, 128))\n",
        "\n",
        "# rnn = RNN(SimpleRNNCell(64) , return_sequences=False,return_state=False)\n",
        "# model.add(rnn)\n",
        "# model.add(Dense(64, activation=\"relu\"))\n",
        "# model.add(Dense(1, activation=\"sigmoid\"))\n",
        "\n",
        "# ============================================================================================================================\n",
        "\n",
        "# ### Embedding layer use to convert the interger produce in previouse layer into fixed lenth vector.\n",
        "# model.add(Embedding(max_tokens + 1, 128))\n",
        "\n",
        "# model.add(LSTM(64))\n",
        "# model.add(Dense(64, activation=\"relu\"))\n",
        "# model.add(Dense(1, activation=\"sigmoid\"))\n",
        "\n",
        "\n",
        "# ============================================================================================================================\n",
        "# ### Embedding layer use to convert the interger produce in previouse layer into fixed lenth vector.\n",
        "# model.add(Embedding(max_tokens + 1, 128))\n",
        "\n",
        "# model.add(GRU(64))\n",
        "# model.add(Dense(64, activation=\"relu\"))\n",
        "# model.add(Dense(1, activation=\"sigmoid\"))\n",
        "\n",
        "\n",
        "# ============================================================================================================================\n",
        "### Embedding layer use to convert the interger produce in previouse layer into fixed lenth vector.\n",
        "model.add(Embedding(max_tokens + 1, 128))\n",
        "\n",
        "model.add(Bidirectional(LSTM(64)))\n",
        "model.add(Dense(64, activation=\"relu\"))\n",
        "model.add(Dense(1, activation=\"sigmoid\"))\n",
        "\n",
        "\n",
        "# ============================================================================================================================\n",
        "# ### Embedding layer use to convert the interger produce in previouse layer into fixed lenth vector.\n",
        "# model.add(Embedding(max_tokens + 1, 128))\n",
        "\n",
        "# model.add(Bidirectional(GRU(64)))\n",
        "# model.add(Dense(64, activation=\"relu\"))\n",
        "# model.add(Dense(1, activation=\"sigmoid\"))\n"
      ],
      "metadata": {
        "id": "qorL_c_PVg6Q"
      },
      "execution_count": 8,
      "outputs": []
    },
    {
      "cell_type": "code",
      "source": [
        "model.compile(loss=\"binary_crossentropy\", optimizer=\"adam\", metrics=[\"accuracy\"])\n",
        "\n",
        "model.fit(train_data, epochs=10)"
      ],
      "metadata": {
        "colab": {
          "base_uri": "https://localhost:8080/"
        },
        "id": "eRFhP7ZRVjX-",
        "outputId": "da06c95d-48ed-4a27-8ead-3c869707b9b2"
      },
      "execution_count": 9,
      "outputs": [
        {
          "output_type": "stream",
          "name": "stdout",
          "text": [
            "Epoch 1/10\n",
            "782/782 [==============================] - 126s 155ms/step - loss: 0.5035 - accuracy: 0.7460\n",
            "Epoch 2/10\n",
            "782/782 [==============================] - 106s 135ms/step - loss: 0.4244 - accuracy: 0.8044\n",
            "Epoch 3/10\n",
            "782/782 [==============================] - 106s 135ms/step - loss: 0.3971 - accuracy: 0.8182\n",
            "Epoch 4/10\n",
            "782/782 [==============================] - 105s 134ms/step - loss: 0.3651 - accuracy: 0.8367\n",
            "Epoch 5/10\n",
            "782/782 [==============================] - 115s 147ms/step - loss: 0.3377 - accuracy: 0.8510\n",
            "Epoch 6/10\n",
            "782/782 [==============================] - 106s 135ms/step - loss: 0.3099 - accuracy: 0.8641\n",
            "Epoch 7/10\n",
            "782/782 [==============================] - 106s 136ms/step - loss: 0.2805 - accuracy: 0.8797\n",
            "Epoch 8/10\n",
            "782/782 [==============================] - 107s 136ms/step - loss: 0.2526 - accuracy: 0.8929\n",
            "Epoch 9/10\n",
            "782/782 [==============================] - 105s 134ms/step - loss: 0.2296 - accuracy: 0.9032\n",
            "Epoch 10/10\n",
            "782/782 [==============================] - 105s 135ms/step - loss: 0.2089 - accuracy: 0.9120\n"
          ]
        },
        {
          "output_type": "execute_result",
          "data": {
            "text/plain": [
              "<keras.src.callbacks.History at 0x7c3cac336350>"
            ]
          },
          "metadata": {},
          "execution_count": 9
        }
      ]
    },
    {
      "cell_type": "code",
      "source": [
        "model.evaluate(test_data)"
      ],
      "metadata": {
        "colab": {
          "base_uri": "https://localhost:8080/"
        },
        "id": "rXwjukB5VoBj",
        "outputId": "353b9492-13cc-45a0-87d2-3bba3a6d5aee"
      },
      "execution_count": 10,
      "outputs": [
        {
          "output_type": "stream",
          "name": "stdout",
          "text": [
            "782/782 [==============================] - 35s 43ms/step - loss: 0.8369 - accuracy: 0.7789\n"
          ]
        },
        {
          "output_type": "execute_result",
          "data": {
            "text/plain": [
              "[0.8369461894035339, 0.7789199948310852]"
            ]
          },
          "metadata": {},
          "execution_count": 10
        }
      ]
    },
    {
      "cell_type": "code",
      "source": [
        "text = \" \"\n",
        "\n",
        "model.predict([text])"
      ],
      "metadata": {
        "colab": {
          "base_uri": "https://localhost:8080/"
        },
        "id": "1jAZsz0FVrNc",
        "outputId": "ca2f274a-061d-441b-db76-e77d6f1d7534"
      },
      "execution_count": 21,
      "outputs": [
        {
          "output_type": "stream",
          "name": "stdout",
          "text": [
            "1/1 [==============================] - 0s 49ms/step\n"
          ]
        },
        {
          "output_type": "execute_result",
          "data": {
            "text/plain": [
              "array([[0.9192806]], dtype=float32)"
            ]
          },
          "metadata": {},
          "execution_count": 21
        }
      ]
    },
    {
      "cell_type": "code",
      "source": [],
      "metadata": {
        "id": "NO9ourZeZQxj"
      },
      "execution_count": null,
      "outputs": []
    },
    {
      "cell_type": "code",
      "source": [],
      "metadata": {
        "id": "4VGWIIREtTto"
      },
      "execution_count": null,
      "outputs": []
    }
  ],
  "metadata": {
    "colab": {
      "provenance": []
    },
    "kernelspec": {
      "display_name": "Python 3",
      "name": "python3"
    },
    "language_info": {
      "name": "python"
    }
  },
  "nbformat": 4,
  "nbformat_minor": 0
}