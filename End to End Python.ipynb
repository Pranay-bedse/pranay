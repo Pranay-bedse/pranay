{
 "cells": [
  {
   "cell_type": "markdown",
   "id": "3545963c",
   "metadata": {},
   "source": [
    "## What does import do \n",
    "\n",
    "import statement is used to bring in external modules or libraries into a program and allows you to use the functionality defined in these modules in your own code."
   ]
  },
  {
   "cell_type": "code",
   "execution_count": null,
   "id": "8d7d7a71",
   "metadata": {},
   "outputs": [],
   "source": []
  },
  {
   "cell_type": "markdown",
   "id": "1bd3d93f",
   "metadata": {},
   "source": [
    "### What is Python"
   ]
  },
  {
   "cell_type": "markdown",
   "id": "411573c8",
   "metadata": {},
   "source": [
    "* Python is High Level, Dynamic type, interpretable, object oriented programming language.\n",
    "\n",
    "* 1. High Level : it is easy to read, write and understand.\n",
    "\n",
    "\n",
    "* 2. Dynamic Type: Means it with check the data type during the excution rather then before executing the code.\n",
    "\n",
    "* 3. Interpretable: It will execute the code line by line.\n",
    "\n",
    "\n",
    "* 4. Object Oriented Programming language: which associate with the concept such as object, class, method, inheritence, polmorphysam.\n",
    "    * 1. Object: Are nothing but collection of data.\n",
    "    * 2. Method: which are work on that data.\n",
    "    * 3. Class : it is tamplete defining object and method.\n",
    "    * 4. Inheritence: Ability of class to take the data from other class.\n",
    "    * 5. abstraction : means hidding the unneccesary details such as data related info or process related info.\n",
    "    * 6. Polmorphysam: Multi form means same method can be used in multi class."
   ]
  },
  {
   "cell_type": "markdown",
   "id": "18244351",
   "metadata": {},
   "source": [
    "."
   ]
  },
  {
   "cell_type": "markdown",
   "id": "cd7296eb",
   "metadata": {},
   "source": [
    "self : Self is instance of class allow to access attribute and method inside the class.\n",
    "    \n",
    "__init__ : it is constructer method in python it will assing new object or attribute whenever new instace of class been created"
   ]
  },
  {
   "cell_type": "markdown",
   "id": "7d6e27dd",
   "metadata": {},
   "source": [
    "."
   ]
  },
  {
   "cell_type": "markdown",
   "id": "40f4bb4e",
   "metadata": {},
   "source": [
    "Variable : use to assign the data with unique name:\n",
    "        \n",
    "        like name = 'Pranay' where name is variable\n",
    "        \n",
    "attribute: Value associate with the object:\n",
    "\n",
    "    Example: person1 = parent('Name',age)\n",
    "    \n",
    "    person1 = object\n",
    "    attribute = 'Name', age\n",
    "\n",
    "Parameter : Parameters are the variable use inside the functions.\n",
    "    \n",
    "    as def square(a):\n",
    "        here a is parameter\n",
    "        \n",
    "        \n",
    "        "
   ]
  },
  {
   "cell_type": "markdown",
   "id": "bc16fa2f",
   "metadata": {},
   "source": [
    "### In-build Data Type"
   ]
  },
  {
   "cell_type": "markdown",
   "id": "c83ff47f",
   "metadata": {},
   "source": [
    "1. Numeric Types:\n",
    "\n",
    "* int: Integer type, e.g., 42.\n",
    "* float: Floating-point type, e.g., 3.14.\n",
    "* complex: Complex number type, e.g., 1 + 2j.\n",
    "\n",
    "2. Sequence Types:\n",
    "\n",
    "* str: String type, e.g., 'Hello, World!'.\n",
    "* list: List type, e.g., [1, 2, 3].\n",
    "* tuple: Tuple type, e.g., (1, 2, 3).\n",
    "\n",
    "3. Set Types:\n",
    "\n",
    "* set: Set type, e.g., {1, 2, 3}.\n",
    "\n",
    "4. Mapping Type:\n",
    "\n",
    "* dict: Dictionary type, e.g., {'key': 'value'}.\n",
    "\n",
    "5. Boolean Type:\n",
    "\n",
    "* bool: Boolean type, either True or False.\n",
    "\n",
    "6. None Type:\n",
    "\n",
    "* None: Represents the absence of a value or a null value."
   ]
  },
  {
   "cell_type": "code",
   "execution_count": null,
   "id": "cee23ae6",
   "metadata": {},
   "outputs": [],
   "source": []
  },
  {
   "cell_type": "markdown",
   "id": "5d99c532",
   "metadata": {},
   "source": [
    "### Numerice : int, float, complex"
   ]
  },
  {
   "cell_type": "code",
   "execution_count": 132,
   "id": "b29d0e33",
   "metadata": {},
   "outputs": [
    {
     "data": {
      "text/plain": [
       "55"
      ]
     },
     "execution_count": 132,
     "metadata": {},
     "output_type": "execute_result"
    }
   ],
   "source": [
    "### int\n",
    "a = '55'\n",
    "result = int(a)\n",
    "result"
   ]
  },
  {
   "cell_type": "code",
   "execution_count": 133,
   "id": "397f74ae",
   "metadata": {},
   "outputs": [
    {
     "data": {
      "text/plain": [
       "55.0"
      ]
     },
     "execution_count": 133,
     "metadata": {},
     "output_type": "execute_result"
    }
   ],
   "source": [
    "### float\n",
    "a = '55'\n",
    "result = float(a)\n",
    "result"
   ]
  },
  {
   "cell_type": "code",
   "execution_count": 134,
   "id": "31794552",
   "metadata": {},
   "outputs": [
    {
     "name": "stdout",
     "output_type": "stream",
     "text": [
      "[1, 2, 3, 5, 6]\n"
     ]
    }
   ],
   "source": [
    "a = ['1','2','3','5','6']\n",
    "a\n",
    "\n",
    "b = []\n",
    "\n",
    "for i in a:\n",
    "    b.append(int(i))\n",
    "print(b)"
   ]
  },
  {
   "cell_type": "code",
   "execution_count": null,
   "id": "9c85b8de",
   "metadata": {},
   "outputs": [],
   "source": []
  },
  {
   "cell_type": "code",
   "execution_count": 135,
   "id": "b0303262",
   "metadata": {},
   "outputs": [
    {
     "name": "stdout",
     "output_type": "stream",
     "text": [
      "[1, 2, 3, 4, 4]\n"
     ]
    }
   ],
   "source": [
    "l = ['1',2,'3','4',4]\n",
    "c = []\n",
    "for i in l:\n",
    "    if isinstance(i,(str)):\n",
    "        c.append(int(i))\n",
    "    else:\n",
    "        c.append(i)\n",
    "print(c)"
   ]
  },
  {
   "cell_type": "code",
   "execution_count": null,
   "id": "cfbc3e61",
   "metadata": {},
   "outputs": [],
   "source": []
  },
  {
   "cell_type": "code",
   "execution_count": 136,
   "id": "f76d61f8",
   "metadata": {},
   "outputs": [
    {
     "data": {
      "text/plain": [
       "(1+2j)"
      ]
     },
     "execution_count": 136,
     "metadata": {},
     "output_type": "execute_result"
    }
   ],
   "source": [
    "### complex\n",
    "a = 1 + 2j\n",
    "a"
   ]
  },
  {
   "cell_type": "code",
   "execution_count": null,
   "id": "4b4233bc",
   "metadata": {},
   "outputs": [],
   "source": []
  },
  {
   "cell_type": "markdown",
   "id": "1f14efdd",
   "metadata": {},
   "source": [
    "### Sequencial: list, tuple, Str"
   ]
  },
  {
   "cell_type": "markdown",
   "id": "c9d4b15b",
   "metadata": {},
   "source": [
    "* list: is a mutable datatype means if you can make changes after arranged.\n",
    "* Tuple: is immutable datatype"
   ]
  },
  {
   "cell_type": "markdown",
   "id": "3f45aa92",
   "metadata": {},
   "source": [
    "* list:\n",
    "    1. It can store multiple datatype.\n",
    "    2. We cannot perform aggregation on it.\n",
    "    3. we can extent if needed.\n",
    "    4. more amount of memory required.\n",
    "    5. slower then array.\n",
    "\n",
    "* Array:\n",
    "    1. It can store only one datatype.\n",
    "    2. we can perform aggregation on it.\n",
    "    3. less memory required.\n",
    "    4. faster than list."
   ]
  },
  {
   "cell_type": "markdown",
   "id": "50cd32d9",
   "metadata": {},
   "source": [
    "### list"
   ]
  },
  {
   "cell_type": "code",
   "execution_count": null,
   "id": "96e982ba",
   "metadata": {},
   "outputs": [],
   "source": []
  },
  {
   "cell_type": "code",
   "execution_count": 137,
   "id": "5832aaf5",
   "metadata": {},
   "outputs": [
    {
     "data": {
      "text/plain": [
       "list"
      ]
     },
     "execution_count": 137,
     "metadata": {},
     "output_type": "execute_result"
    }
   ],
   "source": [
    "# list \n",
    "l = [1,2,3,4,5,6]\n",
    "type(l)"
   ]
  },
  {
   "cell_type": "code",
   "execution_count": 138,
   "id": "6ba97e21",
   "metadata": {},
   "outputs": [
    {
     "data": {
      "text/plain": [
       "[1, 2, 3, 4, 5, 6, 5]"
      ]
     },
     "execution_count": 138,
     "metadata": {},
     "output_type": "execute_result"
    }
   ],
   "source": [
    "## append : use to add only one element or value.\n",
    "l.append(5)\n",
    "l"
   ]
  },
  {
   "cell_type": "code",
   "execution_count": 139,
   "id": "69a26e01",
   "metadata": {},
   "outputs": [
    {
     "data": {
      "text/plain": [
       "[1, 2, 3, 4, 5, 6, 5, [5, 6]]"
      ]
     },
     "execution_count": 139,
     "metadata": {},
     "output_type": "execute_result"
    }
   ],
   "source": [
    "l.append([5,6])\n",
    "l"
   ]
  },
  {
   "cell_type": "code",
   "execution_count": null,
   "id": "da4ccde8",
   "metadata": {},
   "outputs": [],
   "source": []
  },
  {
   "cell_type": "code",
   "execution_count": 140,
   "id": "eec049bd",
   "metadata": {},
   "outputs": [],
   "source": [
    "## extend : use when we have to add multiple values.\n",
    "l.extend([5,6,7])\n",
    "l"
   ]
  },
  {
   "cell_type": "code",
   "execution_count": null,
   "id": "eb30351a",
   "metadata": {},
   "outputs": [],
   "source": []
  },
  {
   "cell_type": "code",
   "execution_count": 141,
   "id": "d589530c",
   "metadata": {},
   "outputs": [],
   "source": [
    "## insert is use when we have to add value at specific point.\n",
    "l.insert(0,10)\n",
    "l"
   ]
  },
  {
   "cell_type": "code",
   "execution_count": null,
   "id": "7d384a9f",
   "metadata": {},
   "outputs": [],
   "source": []
  },
  {
   "cell_type": "code",
   "execution_count": 142,
   "id": "eb7dc050",
   "metadata": {},
   "outputs": [],
   "source": [
    "## remove\n",
    "l.remove([5,6])\n",
    "l"
   ]
  },
  {
   "cell_type": "code",
   "execution_count": null,
   "id": "fdf6a57b",
   "metadata": {},
   "outputs": [],
   "source": []
  },
  {
   "cell_type": "markdown",
   "id": "8e7c558c",
   "metadata": {},
   "source": [
    "### In list pop remove last by default. In set it remove first"
   ]
  },
  {
   "cell_type": "code",
   "execution_count": 143,
   "id": "f8e2ad59",
   "metadata": {},
   "outputs": [],
   "source": [
    "## pop : pop will remove the last element or value. If we specifiy any value then it will remove from that position of index.\n",
    "l.pop(1)\n",
    "l"
   ]
  },
  {
   "cell_type": "code",
   "execution_count": null,
   "id": "344f657c",
   "metadata": {},
   "outputs": [],
   "source": []
  },
  {
   "cell_type": "code",
   "execution_count": 144,
   "id": "1863588f",
   "metadata": {},
   "outputs": [],
   "source": [
    "## clear will remove everything.\n",
    "l.clear()\n",
    "l"
   ]
  },
  {
   "cell_type": "code",
   "execution_count": null,
   "id": "fa1ee61b",
   "metadata": {},
   "outputs": [],
   "source": []
  },
  {
   "cell_type": "code",
   "execution_count": 145,
   "id": "ff7fd107",
   "metadata": {},
   "outputs": [],
   "source": [
    "### Swap the first and last number only.\n",
    "l  = [12, 35, 9, 56, 24]\n",
    "\n",
    "a = l[0]\n",
    "l[0] = l[4]\n",
    "l[4] = a\n",
    "\n",
    "l"
   ]
  },
  {
   "cell_type": "code",
   "execution_count": 146,
   "id": "5ea7a0e2",
   "metadata": {},
   "outputs": [],
   "source": [
    "## Secound largest number in list\n",
    "l= [4, 5, 1, 2, 9, 7, 10, 8]\n",
    "c = []\n",
    "for i in l:\n",
    "    if i is not max(l):\n",
    "        c.append(i)\n",
    "        \n",
    "max(c)"
   ]
  },
  {
   "cell_type": "code",
   "execution_count": 147,
   "id": "1c3aa34e",
   "metadata": {},
   "outputs": [],
   "source": [
    "## Print range of positive and negative\n",
    "p = []\n",
    "n = []\n",
    "for i in range(-5,8):\n",
    "    if i >= 0:\n",
    "        p.append(i)\n",
    "    else:\n",
    "        n.append(i)\n",
    "print(len(p),'and',len(n))"
   ]
  },
  {
   "cell_type": "code",
   "execution_count": 148,
   "id": "b5ce26b8",
   "metadata": {},
   "outputs": [],
   "source": [
    "### Droping the null tuple from list\n",
    "l = [(), ('ram','15','8'), (), ('laxman', 'sita'), ('krishna', 'radha', '45'), (','),()]\n",
    "\n",
    "for i in l:\n",
    "    if len(i) != 0:\n",
    "        print(i)"
   ]
  },
  {
   "cell_type": "code",
   "execution_count": 149,
   "id": "83cd58fd",
   "metadata": {},
   "outputs": [],
   "source": [
    "### Droping duplicates from list\n",
    "\n",
    "l = [10, 20, 30, 20, 20, 30, 40, 50, -20, 60, 60, -20, -20]\n",
    "unique = []\n",
    "duplicates = []\n",
    "for i in l:\n",
    "    if i not in unique:\n",
    "        unique.append(i)\n",
    "    else:\n",
    "        duplicates.append(i)\n",
    "print(unique, ' & ', list(set(duplicates)))"
   ]
  },
  {
   "cell_type": "code",
   "execution_count": 150,
   "id": "67eae8d1",
   "metadata": {},
   "outputs": [],
   "source": [
    "### list to dict\n",
    "\n",
    "l = [\"Gfg\", 3, \"is\", 8, \"Best\", 10, \"for\", 18, \"Geeks\", 33]\n",
    "l\n",
    "\n",
    "name = []\n",
    "id = []\n",
    "for i,j in enumerate(l):\n",
    "    if i%2 == 0:\n",
    "        name.append(j)\n",
    "    else:\n",
    "        id.append(j)\n",
    "\n",
    "for i in range(5):\n",
    "    result = {name[i] : id[i]}\n",
    "    print(result)"
   ]
  },
  {
   "cell_type": "code",
   "execution_count": 151,
   "id": "a1ed5016",
   "metadata": {},
   "outputs": [],
   "source": [
    "## Python Program to print all Possible Combinations from the three Digits\n",
    "l = [1,2,3]\n",
    "\n",
    "for i in range(3):\n",
    "    for j in range(3):\n",
    "        for k in range(3):\n",
    "#             if (i!=j and j!=k and i!=k):\n",
    "            print(l[i], l[j], l[k]) "
   ]
  },
  {
   "cell_type": "code",
   "execution_count": null,
   "id": "3bc50f71",
   "metadata": {},
   "outputs": [],
   "source": []
  },
  {
   "cell_type": "code",
   "execution_count": null,
   "id": "a112aee0",
   "metadata": {},
   "outputs": [],
   "source": []
  },
  {
   "cell_type": "code",
   "execution_count": 9,
   "id": "5c9c92c5",
   "metadata": {},
   "outputs": [
    {
     "name": "stdout",
     "output_type": "stream",
     "text": [
      "[2, 4, 6]\n"
     ]
    }
   ],
   "source": [
    "### let me know what result is\n",
    "l = [1,2,3,4,5,6,7]\n",
    "\n",
    "for i in l:\n",
    "    l.remove(i)\n",
    "    \n",
    "print(l)"
   ]
  },
  {
   "cell_type": "code",
   "execution_count": null,
   "id": "d3f35c72",
   "metadata": {},
   "outputs": [],
   "source": []
  },
  {
   "cell_type": "code",
   "execution_count": null,
   "id": "5a777c99",
   "metadata": {},
   "outputs": [],
   "source": []
  },
  {
   "cell_type": "code",
   "execution_count": 45,
   "id": "c5f49b17",
   "metadata": {},
   "outputs": [
    {
     "data": {
      "text/plain": [
       "[4, 15, 23, 29, 49, 57]"
      ]
     },
     "execution_count": 45,
     "metadata": {},
     "output_type": "execute_result"
    }
   ],
   "source": [
    "## Bubble sort\n",
    "a = [15,49,29,57,23,4]\n",
    "\n",
    "for j in range(0,len(a)):\n",
    "    for i in range(0,len(a)):\n",
    "        if i == len(a) - 1:\n",
    "            break\n",
    "\n",
    "        elif a[i + 1] > a[i]:\n",
    "            pass\n",
    "\n",
    "        else:\n",
    "            temp = a[i]\n",
    "            a[i] = a[i+1]\n",
    "            a[i+1] = temp\n",
    "\n",
    "a"
   ]
  },
  {
   "cell_type": "code",
   "execution_count": null,
   "id": "7719e95e",
   "metadata": {},
   "outputs": [],
   "source": []
  },
  {
   "cell_type": "code",
   "execution_count": null,
   "id": "2ebca198",
   "metadata": {},
   "outputs": [],
   "source": []
  },
  {
   "cell_type": "markdown",
   "id": "40edea62",
   "metadata": {},
   "source": [
    "### tuple : we can not perform add remove conditions."
   ]
  },
  {
   "cell_type": "code",
   "execution_count": 152,
   "id": "ca8cd47b",
   "metadata": {},
   "outputs": [],
   "source": [
    "l = [10, 10, 1, 2, 3, 4, 5, 6, 5, 5, [5, 6], 5, 6, 7, 5, 6, 7]\n",
    "a = tuple(l)\n",
    "a"
   ]
  },
  {
   "cell_type": "code",
   "execution_count": 153,
   "id": "fb7dcbff",
   "metadata": {},
   "outputs": [],
   "source": [
    "b = list(a)\n",
    "b[1]"
   ]
  },
  {
   "cell_type": "code",
   "execution_count": null,
   "id": "ab435c8c",
   "metadata": {},
   "outputs": [],
   "source": []
  },
  {
   "cell_type": "code",
   "execution_count": 154,
   "id": "da94c970",
   "metadata": {},
   "outputs": [],
   "source": [
    "## if you want value from specific index.\n",
    "b[1:7]"
   ]
  },
  {
   "cell_type": "code",
   "execution_count": 155,
   "id": "e9a7dbc6",
   "metadata": {},
   "outputs": [],
   "source": [
    "b[:-1]"
   ]
  },
  {
   "cell_type": "code",
   "execution_count": null,
   "id": "d8a4420a",
   "metadata": {},
   "outputs": [],
   "source": []
  },
  {
   "cell_type": "code",
   "execution_count": 156,
   "id": "ac0fe51b",
   "metadata": {},
   "outputs": [],
   "source": [
    "## if we want whole list in reverse form\n",
    "b[::-1]"
   ]
  },
  {
   "cell_type": "code",
   "execution_count": 157,
   "id": "bb2ae3df",
   "metadata": {},
   "outputs": [],
   "source": [
    "### Reverse tht string\n",
    "s =\"geeks quiz practice code\"\n",
    "s = s.split()\n",
    "s = s[::-1]\n",
    "s = ' '.join(s)\n",
    "s"
   ]
  },
  {
   "cell_type": "code",
   "execution_count": 158,
   "id": "0795355b",
   "metadata": {},
   "outputs": [],
   "source": [
    "### python program to create a list of tuples from given list having number and its cube in each tuple\n",
    "\n",
    "l = [1,2,3]\n",
    "b = []\n",
    "for i in l:\n",
    "    a = (i,i**3)\n",
    "    b.append(a)\n",
    "print(b)"
   ]
  },
  {
   "cell_type": "code",
   "execution_count": null,
   "id": "804341a7",
   "metadata": {},
   "outputs": [],
   "source": []
  },
  {
   "cell_type": "code",
   "execution_count": 159,
   "id": "908e0370",
   "metadata": {},
   "outputs": [],
   "source": [
    "### Change each element of tuple\n",
    "\n",
    "t = [(1, 3, 4), (2, 4, 6), (3, 8, 1)]\n",
    "index1 = 0\n",
    "value1 = 55\n",
    "\n",
    "b = []\n",
    "for i in t:\n",
    "    new_list = list(i)\n",
    "    new_list[index1] = value1\n",
    "    new_tup = tuple(new_list)\n",
    "    b.append(new_tup)\n",
    "print(b)"
   ]
  },
  {
   "cell_type": "code",
   "execution_count": 160,
   "id": "483dde87",
   "metadata": {},
   "outputs": [],
   "source": [
    "#Multiply Adjacent elements\n",
    "t = (1, 5, 7, 8, 7, 4, 8, 10) \n",
    "result = []\n",
    "for i in range(0,len(t) - 1):\n",
    "    s = t[i] * t[i+1]\n",
    "    result.append(s)\n",
    "tuple(result)"
   ]
  },
  {
   "cell_type": "code",
   "execution_count": 161,
   "id": "a68a5674",
   "metadata": {},
   "outputs": [],
   "source": [
    "### Add the if it match first one.\n",
    "l = [(5, 6), (5, 7), (5, 8), (6, 10), (7, 13)] \n",
    "x= []\n",
    "for i in l:\n",
    "    if i[0] not in x:\n",
    "        x.append(i[0])\n",
    "        \n",
    "res = []\n",
    "for i in x:\n",
    "    p = []\n",
    "    p.append(i)\n",
    "    \n",
    "    for j in l:\n",
    "        \n",
    "        if i == j[0]:\n",
    "            \n",
    "            p.append(j[1])\n",
    "    res.append(p)\n",
    "res"
   ]
  },
  {
   "cell_type": "code",
   "execution_count": null,
   "id": "c9ce6551",
   "metadata": {},
   "outputs": [],
   "source": []
  },
  {
   "cell_type": "code",
   "execution_count": null,
   "id": "90e00046",
   "metadata": {},
   "outputs": [],
   "source": []
  },
  {
   "cell_type": "markdown",
   "id": "a00af560",
   "metadata": {},
   "source": [
    "### range"
   ]
  },
  {
   "cell_type": "code",
   "execution_count": 162,
   "id": "093169e7",
   "metadata": {},
   "outputs": [],
   "source": [
    "a = range(1,10)\n",
    "a"
   ]
  },
  {
   "cell_type": "code",
   "execution_count": 163,
   "id": "2becac26",
   "metadata": {},
   "outputs": [],
   "source": [
    "a = range(1,10)\n",
    "print(*a)"
   ]
  },
  {
   "cell_type": "code",
   "execution_count": 164,
   "id": "3222574d",
   "metadata": {},
   "outputs": [],
   "source": [
    "a = list(range(1,10,2))\n",
    "a"
   ]
  },
  {
   "cell_type": "code",
   "execution_count": null,
   "id": "b3ebd054",
   "metadata": {},
   "outputs": [],
   "source": []
  },
  {
   "cell_type": "markdown",
   "id": "a22c1238",
   "metadata": {},
   "source": [
    "### str"
   ]
  },
  {
   "cell_type": "code",
   "execution_count": 165,
   "id": "da6d54db",
   "metadata": {},
   "outputs": [],
   "source": [
    "a = 'My name is Pranay, Pranay has done the graduation in ECE and after that Pranay join data science'\n",
    "a"
   ]
  },
  {
   "cell_type": "code",
   "execution_count": null,
   "id": "285ce0df",
   "metadata": {},
   "outputs": [],
   "source": []
  },
  {
   "cell_type": "code",
   "execution_count": 166,
   "id": "959b460c",
   "metadata": {},
   "outputs": [],
   "source": [
    "a='Name'\n",
    "b='James'\n",
    "c= a + ' is ' + b\n",
    "c"
   ]
  },
  {
   "cell_type": "code",
   "execution_count": 19,
   "id": "ecf7bc0b",
   "metadata": {},
   "outputs": [
    {
     "name": "stdout",
     "output_type": "stream",
     "text": [
      "Name is James\n"
     ]
    }
   ],
   "source": [
    "a='Name'\n",
    "b='James'\n",
    "print(a,'is',b,sep=' ')\n"
   ]
  },
  {
   "cell_type": "code",
   "execution_count": null,
   "id": "94a0de59",
   "metadata": {},
   "outputs": [],
   "source": []
  },
  {
   "cell_type": "code",
   "execution_count": 20,
   "id": "4a024490",
   "metadata": {},
   "outputs": [
    {
     "name": "stdout",
     "output_type": "stream",
     "text": [
      "N\n",
      "a\n",
      "['m', 'e', ' ', 'i', 's', ' ', 'J', 'a', 'm', 'e', 's']\n"
     ]
    }
   ],
   "source": [
    "a = 'Name is James'\n",
    "x,y, *z = a\n",
    "print(x)\n",
    "print(y)\n",
    "print(z)"
   ]
  },
  {
   "cell_type": "code",
   "execution_count": 22,
   "id": "64b382d5",
   "metadata": {},
   "outputs": [
    {
     "name": "stdout",
     "output_type": "stream",
     "text": [
      "N\n",
      "a\n",
      "['m', 'e', ' ', 'i', 's', ' ', 'J', 'a', 'm', 'e']\n",
      "s\n"
     ]
    }
   ],
   "source": [
    "a = 'Name is James'\n",
    "x,y, *z, d = a\n",
    "print(x)\n",
    "print(y)\n",
    "print(z)\n",
    "print(d)"
   ]
  },
  {
   "cell_type": "code",
   "execution_count": null,
   "id": "5aa5cb3e",
   "metadata": {},
   "outputs": [],
   "source": []
  },
  {
   "cell_type": "code",
   "execution_count": 168,
   "id": "0a540e0a",
   "metadata": {},
   "outputs": [],
   "source": [
    "a = 'My name is Pranay, Pranay has done the graduation in ECE and after that Pranay join data science'\n",
    "a\n",
    "a.upper()"
   ]
  },
  {
   "cell_type": "code",
   "execution_count": 169,
   "id": "a453885c",
   "metadata": {},
   "outputs": [],
   "source": [
    "a.lower()"
   ]
  },
  {
   "cell_type": "code",
   "execution_count": null,
   "id": "44752c3f",
   "metadata": {},
   "outputs": [],
   "source": []
  },
  {
   "cell_type": "code",
   "execution_count": 170,
   "id": "ce25879d",
   "metadata": {},
   "outputs": [],
   "source": [
    "### Capitalize\n",
    "a.capitalize()\n",
    "a"
   ]
  },
  {
   "cell_type": "code",
   "execution_count": null,
   "id": "e2ca86b4",
   "metadata": {},
   "outputs": [],
   "source": []
  },
  {
   "cell_type": "code",
   "execution_count": 171,
   "id": "96f15182",
   "metadata": {},
   "outputs": [],
   "source": [
    "### I want to replace first 2 pranay name with vicky\n",
    "a.replace('Pranay','Vicky',2)\n",
    "a"
   ]
  },
  {
   "cell_type": "code",
   "execution_count": null,
   "id": "0fd261c1",
   "metadata": {},
   "outputs": [],
   "source": []
  },
  {
   "cell_type": "code",
   "execution_count": 172,
   "id": "fd4fb8fa",
   "metadata": {},
   "outputs": [],
   "source": [
    "### in -1 ,-2 it won't work.\n",
    "a = 'My name is Pranay , Pranay has done the graduation in ECE and after that Pranay join data science'\n",
    "a"
   ]
  },
  {
   "cell_type": "code",
   "execution_count": 173,
   "id": "913bf725",
   "metadata": {},
   "outputs": [],
   "source": [
    "a.replace('Pranay','Vicky',-1)"
   ]
  },
  {
   "cell_type": "code",
   "execution_count": null,
   "id": "20f2ea1f",
   "metadata": {},
   "outputs": [],
   "source": []
  },
  {
   "cell_type": "code",
   "execution_count": 174,
   "id": "a764df8f",
   "metadata": {},
   "outputs": [],
   "source": [
    "### I want to replace the space with **\n",
    "a.replace(' ', '***')"
   ]
  },
  {
   "cell_type": "code",
   "execution_count": null,
   "id": "41229814",
   "metadata": {},
   "outputs": [],
   "source": []
  },
  {
   "cell_type": "code",
   "execution_count": 175,
   "id": "74aecf42",
   "metadata": {},
   "outputs": [],
   "source": [
    "## I want to split\n",
    "a.split(\"***\")\n",
    "a = str(a)\n",
    "a"
   ]
  },
  {
   "cell_type": "code",
   "execution_count": 176,
   "id": "17f12367",
   "metadata": {},
   "outputs": [],
   "source": [
    "b = a.split(' ')\n",
    "b"
   ]
  },
  {
   "cell_type": "code",
   "execution_count": 177,
   "id": "29d22260",
   "metadata": {},
   "outputs": [],
   "source": [
    "for i in b:\n",
    "    if \"m\" in i:\n",
    "        print(i)\n",
    "    elif \"M\" in i:\n",
    "        print(i)\n",
    "    "
   ]
  },
  {
   "cell_type": "code",
   "execution_count": null,
   "id": "33f1b69c",
   "metadata": {},
   "outputs": [],
   "source": []
  },
  {
   "cell_type": "code",
   "execution_count": 178,
   "id": "953a892c",
   "metadata": {},
   "outputs": [],
   "source": [
    "## if we have this list and we want to join\n",
    "b"
   ]
  },
  {
   "cell_type": "code",
   "execution_count": 179,
   "id": "47389d54",
   "metadata": {},
   "outputs": [],
   "source": [
    "result = ' '.join(b)\n",
    "result"
   ]
  },
  {
   "cell_type": "code",
   "execution_count": null,
   "id": "e8da1ae5",
   "metadata": {},
   "outputs": [],
   "source": []
  },
  {
   "cell_type": "code",
   "execution_count": 180,
   "id": "790f3e9d",
   "metadata": {},
   "outputs": [],
   "source": [
    "### how to drop duplicate from str\n",
    "print(result)\n",
    "\n",
    "s = result.split(' ')\n",
    "\n",
    "unique_s = set(s)\n",
    "\n",
    "result = ' '.join(unique_s)\n",
    "\n",
    "result "
   ]
  },
  {
   "cell_type": "code",
   "execution_count": null,
   "id": "7690a866",
   "metadata": {},
   "outputs": [],
   "source": []
  },
  {
   "cell_type": "code",
   "execution_count": 181,
   "id": "f92cd036",
   "metadata": {},
   "outputs": [],
   "source": [
    "string_list = ['My name is Pranay. Pranay has done the BE in ECE. Pranay is a good employee, and Pranay is going to be promoted.',\n",
    "               'Another Pranay example. Pranay is skilled in Python programming. Pranay is also a quick learner.']\n",
    "\n",
    "# Replace the first and third occurrences of 'Pranay' with 'Vicky' in each string\n",
    "for i in range(len(string_list)):\n",
    "    string_list[i] = string_list[i].replace('Pranay', 'Vicky', 2)\n",
    "# Print the updated list of strings\n",
    "for string in string_list:\n",
    "    print(string)\n"
   ]
  },
  {
   "cell_type": "code",
   "execution_count": null,
   "id": "715fe892",
   "metadata": {},
   "outputs": [],
   "source": []
  },
  {
   "cell_type": "code",
   "execution_count": null,
   "id": "bc086600",
   "metadata": {},
   "outputs": [],
   "source": []
  },
  {
   "cell_type": "markdown",
   "id": "611a7bdd",
   "metadata": {},
   "source": [
    "### set : it is mutable datatype\n",
    "* it is a ordered datatype\n",
    "* it won't take the duplicate values.\n",
    "\n",
    "* forzenset: immutable datatype"
   ]
  },
  {
   "cell_type": "code",
   "execution_count": 182,
   "id": "f7d31a35",
   "metadata": {},
   "outputs": [],
   "source": [
    "s = {1,2,3,4,5,6,67,99}\n",
    "type(s)"
   ]
  },
  {
   "cell_type": "code",
   "execution_count": 183,
   "id": "0e144c46",
   "metadata": {},
   "outputs": [],
   "source": [
    "l = list(s)\n",
    "l"
   ]
  },
  {
   "cell_type": "code",
   "execution_count": 184,
   "id": "35a75135",
   "metadata": {},
   "outputs": [],
   "source": [
    "s = set(l)\n",
    "s"
   ]
  },
  {
   "cell_type": "code",
   "execution_count": null,
   "id": "6d89c70e",
   "metadata": {},
   "outputs": [],
   "source": []
  },
  {
   "cell_type": "code",
   "execution_count": 185,
   "id": "63764bc0",
   "metadata": {},
   "outputs": [],
   "source": [
    "set1 = {\"a\", \"b\" , \"c\"}\n",
    "set2 = {1, 2, 3}\n",
    "\n",
    "set3 = set1.union(set2)\n",
    "print(set3)"
   ]
  },
  {
   "cell_type": "code",
   "execution_count": 186,
   "id": "2622dad4",
   "metadata": {},
   "outputs": [],
   "source": [
    "x = {\"apple\", \"banana\", \"cherry\"}\n",
    "y = {\"google\", \"microsoft\", \"apple\"}\n",
    "\n",
    "z = x.intersection(y)\n",
    "\n",
    "print(z)\n"
   ]
  },
  {
   "cell_type": "code",
   "execution_count": null,
   "id": "31ac025c",
   "metadata": {},
   "outputs": [],
   "source": []
  },
  {
   "cell_type": "code",
   "execution_count": 187,
   "id": "90d3d55e",
   "metadata": {},
   "outputs": [],
   "source": [
    "## To add into list\n",
    "s.add(100)\n",
    "s"
   ]
  },
  {
   "cell_type": "code",
   "execution_count": null,
   "id": "c2fde67e",
   "metadata": {},
   "outputs": [],
   "source": []
  },
  {
   "cell_type": "code",
   "execution_count": 188,
   "id": "e81e5b59",
   "metadata": {},
   "outputs": [],
   "source": [
    "### To add multiple values we have update\n",
    "s.update([33,31,331])\n",
    "s"
   ]
  },
  {
   "cell_type": "code",
   "execution_count": 189,
   "id": "35c58160",
   "metadata": {},
   "outputs": [],
   "source": [
    "### To remove\n",
    "s.remove(331)\n",
    "s"
   ]
  },
  {
   "cell_type": "code",
   "execution_count": 190,
   "id": "915d2872",
   "metadata": {},
   "outputs": [],
   "source": [
    "## Frozenset\n",
    "fs = frozenset(s)\n",
    "fs"
   ]
  },
  {
   "cell_type": "code",
   "execution_count": null,
   "id": "829544a3",
   "metadata": {},
   "outputs": [],
   "source": []
  },
  {
   "cell_type": "code",
   "execution_count": 191,
   "id": "6f920e76",
   "metadata": {},
   "outputs": [],
   "source": [
    "### count the unique num with there duplicate count.\n",
    "lis = [1,1,1,1,2,3,2,2,1,2,3,4,4,5]\n",
    "s = set(lis)\n",
    "s\n",
    "\n",
    "results ={}\n",
    "for i in s:\n",
    "    result = {i: lis.count(i)}\n",
    "    results.update(result)\n",
    "    \n",
    "results"
   ]
  },
  {
   "cell_type": "code",
   "execution_count": 10,
   "id": "840756b7",
   "metadata": {},
   "outputs": [
    {
     "name": "stdout",
     "output_type": "stream",
     "text": [
      "{9, 10, 12, 13, 15}\n",
      "{10, 12, 13, 15}\n",
      "{12, 13, 15}\n",
      "{13, 15}\n",
      "{15}\n",
      "set()\n"
     ]
    }
   ],
   "source": [
    "### remove first from set\n",
    "s = set([12, 10, 13, 15, 8, 9])\n",
    "s\n",
    "while s:\n",
    "    s.pop()\n",
    "    print(s)"
   ]
  },
  {
   "cell_type": "code",
   "execution_count": null,
   "id": "c8a22015",
   "metadata": {},
   "outputs": [],
   "source": []
  },
  {
   "cell_type": "code",
   "execution_count": 16,
   "id": "dcaebe83",
   "metadata": {},
   "outputs": [
    {
     "data": {
      "text/plain": [
       "{'', 0.0, True}"
      ]
     },
     "execution_count": 16,
     "metadata": {},
     "output_type": "execute_result"
    }
   ],
   "source": [
    "## Let me know the output\n",
    "a = {True,0.0,\"\",0,False,1}\n",
    "a"
   ]
  },
  {
   "cell_type": "code",
   "execution_count": 61,
   "id": "bfa1363f",
   "metadata": {},
   "outputs": [
    {
     "data": {
      "text/plain": [
       "{'', False, True}"
      ]
     },
     "execution_count": 61,
     "metadata": {},
     "output_type": "execute_result"
    }
   ],
   "source": [
    "a = {False,0.0,\"\",0,True,1,True}\n",
    "a"
   ]
  },
  {
   "cell_type": "code",
   "execution_count": null,
   "id": "dfddc787",
   "metadata": {},
   "outputs": [],
   "source": []
  },
  {
   "cell_type": "markdown",
   "id": "3530dfd0",
   "metadata": {},
   "source": [
    "### Dict"
   ]
  },
  {
   "cell_type": "code",
   "execution_count": 194,
   "id": "b6592920",
   "metadata": {},
   "outputs": [],
   "source": [
    "d = {'a':1, 'b':2, 'c':3}\n",
    "d"
   ]
  },
  {
   "cell_type": "code",
   "execution_count": 195,
   "id": "3f3285be",
   "metadata": {},
   "outputs": [],
   "source": [
    "e = {'d':5}\n",
    "e"
   ]
  },
  {
   "cell_type": "code",
   "execution_count": null,
   "id": "f9162096",
   "metadata": {},
   "outputs": [],
   "source": []
  },
  {
   "cell_type": "markdown",
   "id": "b2b73353",
   "metadata": {},
   "source": [
    "### To add dict we have only one keyword update"
   ]
  },
  {
   "cell_type": "code",
   "execution_count": 196,
   "id": "f564ed8e",
   "metadata": {},
   "outputs": [],
   "source": [
    "d.update(e)\n",
    "d"
   ]
  },
  {
   "cell_type": "code",
   "execution_count": 197,
   "id": "551eca39",
   "metadata": {},
   "outputs": [],
   "source": [
    "import pandas as pd\n",
    "df = pd.DataFrame(d,index = [1])\n",
    "df"
   ]
  },
  {
   "cell_type": "code",
   "execution_count": 198,
   "id": "7dc8fe74",
   "metadata": {},
   "outputs": [],
   "source": [
    "for i,j in df.items():\n",
    "    df[i] = j + 5"
   ]
  },
  {
   "cell_type": "code",
   "execution_count": null,
   "id": "432010c9",
   "metadata": {},
   "outputs": [],
   "source": []
  },
  {
   "cell_type": "code",
   "execution_count": null,
   "id": "d05d8621",
   "metadata": {},
   "outputs": [],
   "source": []
  },
  {
   "cell_type": "code",
   "execution_count": 199,
   "id": "786ee169",
   "metadata": {},
   "outputs": [],
   "source": [
    "d['ele'] = 9\n",
    "d"
   ]
  },
  {
   "cell_type": "code",
   "execution_count": 200,
   "id": "720731e3",
   "metadata": {},
   "outputs": [],
   "source": [
    "d.keys()"
   ]
  },
  {
   "cell_type": "code",
   "execution_count": 201,
   "id": "6c9388b9",
   "metadata": {},
   "outputs": [],
   "source": [
    "d.values()"
   ]
  },
  {
   "cell_type": "code",
   "execution_count": null,
   "id": "fc5b24bf",
   "metadata": {},
   "outputs": [],
   "source": []
  },
  {
   "cell_type": "code",
   "execution_count": 202,
   "id": "523d1a58",
   "metadata": {},
   "outputs": [],
   "source": [
    "### we have delet key word in dict\n",
    "d = {'a':1, 'b':2, 'c':3}\n",
    "\n",
    "del d['c']\n",
    "\n",
    "print(d)"
   ]
  },
  {
   "cell_type": "code",
   "execution_count": 203,
   "id": "6ee3b216",
   "metadata": {},
   "outputs": [],
   "source": [
    "del d"
   ]
  },
  {
   "cell_type": "code",
   "execution_count": 204,
   "id": "651d9b49",
   "metadata": {},
   "outputs": [],
   "source": [
    "## How to sort dic\n",
    "d = {'ravi': 10, 'rajnish': 9, 'sanjeev': 15, 'yash': 2, 'suraj': 32}\n",
    "\n",
    "l = list(d)\n",
    "l.sort()\n",
    "\n",
    "s = {}\n",
    "for i in l:\n",
    "    res = {i : d[i]}\n",
    "    s.update(res)\n",
    "s"
   ]
  },
  {
   "cell_type": "code",
   "execution_count": 205,
   "id": "45d1935e",
   "metadata": {},
   "outputs": [],
   "source": [
    "### for dictionary we use items with for loop.\n",
    "d = {'ravi': [10,20,30], 'rajnish': [9], 'sanjeev': [15,3,3], 'yash': [2], 'suraj': [32]}\n",
    "\n",
    "for i,j in d.items():\n",
    "    if len(j) <= 1:\n",
    "        pass\n",
    "    else:\n",
    "        print(j)\n"
   ]
  },
  {
   "cell_type": "code",
   "execution_count": 206,
   "id": "94cc1abc",
   "metadata": {},
   "outputs": [],
   "source": [
    "### Sumation of values:\n",
    "d = {\"‘a’\": 100, \"‘b’\":200, \"‘c’\":300}\n",
    "\n",
    "s = 0\n",
    "for k,v in d.items():\n",
    "    s = s + v\n",
    "print(s)"
   ]
  },
  {
   "cell_type": "code",
   "execution_count": null,
   "id": "a9aed229",
   "metadata": {},
   "outputs": [],
   "source": []
  },
  {
   "cell_type": "code",
   "execution_count": null,
   "id": "4ea941af",
   "metadata": {},
   "outputs": [],
   "source": []
  },
  {
   "cell_type": "markdown",
   "id": "1496c2b6",
   "metadata": {},
   "source": [
    "### Boolen: True or Flase\n",
    "* it bydefault give true unless list is empty or having zero values"
   ]
  },
  {
   "cell_type": "code",
   "execution_count": 207,
   "id": "6bf7f1c5",
   "metadata": {},
   "outputs": [],
   "source": [
    "a = 'Pranay'\n",
    "b = 0\n",
    "c = []\n",
    "d = [1]\n",
    "\n",
    "print(f'{a} : ', bool(a))\n",
    "print(f'{b} : ', bool(b))\n",
    "print(f'{c} : ', bool(c))\n",
    "print(f'{d} : ', bool(d))"
   ]
  },
  {
   "cell_type": "code",
   "execution_count": null,
   "id": "0aa785d3",
   "metadata": {},
   "outputs": [],
   "source": []
  },
  {
   "cell_type": "code",
   "execution_count": null,
   "id": "e2120efc",
   "metadata": {},
   "outputs": [],
   "source": []
  },
  {
   "cell_type": "markdown",
   "id": "147e12e3",
   "metadata": {},
   "source": [
    "### None Datatype: pass\n",
    "\n",
    "pass: it does not perform any operation or action. it provide the output as nothing.\n",
    "\n",
    "we use it we don't want to perform any action on given condition.\n",
    "It's just a way to satisfy the syntax requirements when a statement is needed but no action is desired."
   ]
  },
  {
   "cell_type": "code",
   "execution_count": null,
   "id": "f94bb120",
   "metadata": {},
   "outputs": [],
   "source": []
  },
  {
   "cell_type": "code",
   "execution_count": null,
   "id": "fca53709",
   "metadata": {},
   "outputs": [],
   "source": []
  },
  {
   "cell_type": "markdown",
   "id": "d6ddce00",
   "metadata": {},
   "source": [
    "### for and while loop\n",
    "1. For loop: it is use for continously iterate the perticular statement until and unless condition is not being satisfied.\n",
    "2. while: It will continously iterate over the perticular statement unless condition not become flase."
   ]
  },
  {
   "cell_type": "code",
   "execution_count": null,
   "id": "a30d9736",
   "metadata": {},
   "outputs": [],
   "source": []
  },
  {
   "cell_type": "markdown",
   "id": "97147e7c",
   "metadata": {},
   "source": [
    "## This is called list comprehension converting one list to another.\n",
    "List comprehension is a concise way to create lists in Python. It provides a more compact syntax for creating lists compared to using traditional loops. \n"
   ]
  },
  {
   "cell_type": "code",
   "execution_count": 208,
   "id": "0bb703a6",
   "metadata": {},
   "outputs": [],
   "source": [
    "l = [i for i in range(1,10)]\n",
    "l"
   ]
  },
  {
   "cell_type": "code",
   "execution_count": 209,
   "id": "65df0a42",
   "metadata": {},
   "outputs": [],
   "source": [
    "## List Comprehension with Condition:\n",
    "l = [i for i in range(1,10) if i%2 == 0]\n",
    "l"
   ]
  },
  {
   "cell_type": "code",
   "execution_count": 210,
   "id": "edc756d8",
   "metadata": {},
   "outputs": [],
   "source": [
    "# List Comprehension with Transformation:\n",
    "words = ['apple', 'banana', 'cherry']\n",
    "uppercase_words = [word.upper() for word in words if 'e' in word]\n",
    "uppercase_words"
   ]
  },
  {
   "cell_type": "code",
   "execution_count": null,
   "id": "e9db2aba",
   "metadata": {},
   "outputs": [],
   "source": []
  },
  {
   "cell_type": "code",
   "execution_count": 211,
   "id": "3a35c547",
   "metadata": {},
   "outputs": [],
   "source": [
    "## Create addition using this.\n",
    "l = [1, 2, 3, 4, 5, 6, 7, 8, 9]\n",
    "sum = 0\n",
    "\n",
    "result = []\n",
    "for i in l:\n",
    "    sum = sum + i\n",
    "    result.append(sum)\n",
    "print(result)"
   ]
  },
  {
   "cell_type": "code",
   "execution_count": 212,
   "id": "1099ac3b",
   "metadata": {},
   "outputs": [],
   "source": [
    "### recursion: when function execute or call itself again and again.\n",
    "l = [1, 2, 3, 4, 5, 6, 7, 8, 9]\n",
    "mul = 1\n",
    "\n",
    "result = []\n",
    "for i in l:\n",
    "    mul = mul * i\n",
    "    result.append(mul)\n",
    "print(result)"
   ]
  },
  {
   "cell_type": "code",
   "execution_count": 213,
   "id": "3e554ace",
   "metadata": {},
   "outputs": [],
   "source": [
    "### Creating tables\n",
    "for i in range(1,3):\n",
    "    for j in range(1,11):\n",
    "        print(f'{i} * {j} : {i*j}')\n",
    "    print('*****'*10)"
   ]
  },
  {
   "cell_type": "code",
   "execution_count": 214,
   "id": "03cba82e",
   "metadata": {},
   "outputs": [],
   "source": [
    "### check weather num is even or odd.\n",
    "l = [1, 3, 6, 10, 15, 21, 28, 36, 45]\n",
    "even = []\n",
    "odd = []\n",
    "\n",
    "for i in l:\n",
    "    if i%2 ==0:\n",
    "        even.append(i)\n",
    "    else:\n",
    "        odd.append(i)\n",
    "print(even)\n",
    "print(odd)"
   ]
  },
  {
   "cell_type": "code",
   "execution_count": 215,
   "id": "16cfaf75",
   "metadata": {},
   "outputs": [],
   "source": [
    "### Number is unique or not\n",
    "l = [1, 3, 6, 10, 15,3, 21,128,4,44,4,6,36, 45]\n",
    "unique = []\n",
    "not_unique = []\n",
    "\n",
    "for i in l:\n",
    "    if i not in unique:\n",
    "        unique.append(i)\n",
    "    else:\n",
    "        not_unique.append(i)\n",
    "print(unique)\n",
    "print(not_unique)"
   ]
  },
  {
   "cell_type": "code",
   "execution_count": 216,
   "id": "8fae3e3b",
   "metadata": {},
   "outputs": [],
   "source": [
    "### split numeric and str\n",
    "a =  [18,'pranay',21, 24,'ss',27,'mm',30, 33]\n",
    "\n",
    "p = []\n",
    "m = []\n",
    "\n",
    "for i,j in enumerate(a):\n",
    "    if isinstance(j,(int)):\n",
    "        p.append(j)\n",
    "        \n",
    "    else:\n",
    "        m.append(j)\n",
    "\n",
    "print(p,m)"
   ]
  },
  {
   "cell_type": "code",
   "execution_count": 217,
   "id": "82615922",
   "metadata": {},
   "outputs": [],
   "source": [
    "### Prime or not:\n",
    "for i in range(10):\n",
    "    for j in range(2,i):\n",
    "        if i%2 ==0:\n",
    "            print(f'{i}: Not a Prime Number')\n",
    "            break\n",
    "    else:\n",
    "        print(f'{i}: Prime Num')\n",
    "        \n",
    "### If we remove break then it will give 4 as not prime and prime as well\n",
    "### if we put else after if then it will give 0 time 2, 1 time 3, 2 times 4, 3 times 5 , 4 times 6 like wise result produce."
   ]
  },
  {
   "cell_type": "code",
   "execution_count": 218,
   "id": "ae82c1ca",
   "metadata": {},
   "outputs": [],
   "source": [
    "for i in range(6):\n",
    "    for j in range(i+1):\n",
    "        print(i, end = ' ')\n",
    "    print()"
   ]
  },
  {
   "cell_type": "code",
   "execution_count": 219,
   "id": "1213b966",
   "metadata": {},
   "outputs": [],
   "source": [
    "for i in range(6):\n",
    "    for j in range(i+1):\n",
    "        print(j, end = ' ')\n",
    "    print()"
   ]
  },
  {
   "cell_type": "code",
   "execution_count": 220,
   "id": "714a153d",
   "metadata": {},
   "outputs": [],
   "source": [
    "num = 0\n",
    "for i in range(6):\n",
    "    for j in range(i+1):\n",
    "        print(num, end = ' ')\n",
    "        num = num + 1\n",
    "    print()"
   ]
  },
  {
   "cell_type": "code",
   "execution_count": 221,
   "id": "de2974f6",
   "metadata": {},
   "outputs": [],
   "source": [
    "l = [18, 21, 24, 27, 30, 33] \n",
    "prev = 0\n",
    "for i in l:\n",
    "    s = prev + i\n",
    "    prev = i\n",
    "print(s)"
   ]
  },
  {
   "cell_type": "code",
   "execution_count": 222,
   "id": "2596eff7",
   "metadata": {},
   "outputs": [
    {
     "name": "stdout",
     "output_type": "stream",
     "text": [
      "Enter Any Year You Want : 34\n"
     ]
    }
   ],
   "source": [
    "#Leap Year (366 day present then its leap year.) (2000,2004,1980)\n",
    "\n",
    "year = int(input('Enter Any Year You Want : '))\n",
    "print('***'*12)\n",
    "\n",
    "if ((year % 400 == 0)) or ((year % 100 != 0) & (year % 4 == 0)):\n",
    "    \n",
    "    print(f'This year {year} is a leap Year')\n",
    "    print('***'*12)\n",
    "\n",
    "else:     \n",
    "    \n",
    "    print(f'This year {year} is not a leap Year')\n",
    "    print('***'*12)"
   ]
  },
  {
   "cell_type": "code",
   "execution_count": 223,
   "id": "4d23329c",
   "metadata": {},
   "outputs": [],
   "source": [
    "#LCM: Least common multiple.()\n",
    "def lcm(n1,n2):\n",
    "    \n",
    "    for i in range(1,max(n1,n2)):\n",
    "        if n1%i == n2%i ==0:\n",
    "            hcf = i\n",
    "            \n",
    "    result = (n1*n2) // hcf\n",
    "    \n",
    "    return result\n",
    "\n",
    "lcm(88,99)"
   ]
  },
  {
   "cell_type": "code",
   "execution_count": 224,
   "id": "3abdf59c",
   "metadata": {},
   "outputs": [
    {
     "name": "stdout",
     "output_type": "stream",
     "text": [
      "Enter 3 digit Num: 34\n"
     ]
    }
   ],
   "source": [
    "# Armstrong number\n",
    "n = int(input('Enter 3 digit Num: '))\n",
    "\n",
    "a = n % 10\n",
    "\n",
    "r = n//10\n",
    "\n",
    "b = r % 10\n",
    "\n",
    "c = r // 10\n",
    "\n",
    "print(a,b,c,sep = ' ')\n",
    "if a**3 + b**3 + c**3 == n:\n",
    "    print('It;s Armstrong Num')\n",
    "else:\n",
    "    print('It is not')"
   ]
  },
  {
   "cell_type": "code",
   "execution_count": 225,
   "id": "a0f62073",
   "metadata": {},
   "outputs": [
    {
     "name": "stdout",
     "output_type": "stream",
     "text": [
      "Enter 3 digit Num: 33\n"
     ]
    }
   ],
   "source": [
    "# narcissist number\n",
    "\n",
    "n = int(input('Enter 3 digit Num: '))\n",
    "\n",
    "a = n % 10\n",
    "\n",
    "r = n//10\n",
    "\n",
    "b = r % 10\n",
    "\n",
    "c = r // 10\n",
    "\n",
    "print(a,b,c,sep = ' ')\n",
    "if a**4 + b**4 + c**4 == n:\n",
    "    print('It;s narcisst Num')\n",
    "else:\n",
    "    print('It is not')"
   ]
  },
  {
   "cell_type": "code",
   "execution_count": 226,
   "id": "298f878f",
   "metadata": {},
   "outputs": [],
   "source": [
    "# The current population of a town is 10000. The population of the town is increasing at the rate\n",
    "# of 10% per year. You have to write a program to find out the population at the end of each of the last 10\n",
    "# years. For eg current population is 10000 so the output should be like this:\n",
    "\n",
    "\n",
    "p=10000\n",
    "for i in range(1,10):\n",
    " p=p-0.1*p\n",
    " print(round(p),end=\" \")"
   ]
  },
  {
   "cell_type": "code",
   "execution_count": 227,
   "id": "d808c1fe",
   "metadata": {},
   "outputs": [],
   "source": [
    "a = 456\n",
    "for i in reversed(str(a)):\n",
    "    print(i)"
   ]
  },
  {
   "cell_type": "code",
   "execution_count": 228,
   "id": "d09e6985",
   "metadata": {},
   "outputs": [],
   "source": [
    "### continew: It is use to bypass particular condition.\n",
    "l = [18, 21, 24, 27, 30, 33] \n",
    "s = []\n",
    "for i in l:\n",
    "    if i in [21,22,23]:\n",
    "        continue\n",
    "    else:\n",
    "        s.append(i)\n",
    "s        "
   ]
  },
  {
   "cell_type": "code",
   "execution_count": null,
   "id": "2b8a5e7d",
   "metadata": {},
   "outputs": [],
   "source": []
  },
  {
   "cell_type": "markdown",
   "id": "da780284",
   "metadata": {},
   "source": [
    "### while:"
   ]
  },
  {
   "cell_type": "code",
   "execution_count": 229,
   "id": "d24e11ca",
   "metadata": {},
   "outputs": [
    {
     "name": "stdout",
     "output_type": "stream",
     "text": [
      "Enter Num:33\n"
     ]
    }
   ],
   "source": [
    "### how to sum the given number:\n",
    "a = int(input('Enter Num:'))\n",
    "sum = 0\n",
    "while a!= 0:\n",
    "    r = a % 10\n",
    "    sum = sum + r\n",
    "    a = a//10\n",
    "print(sum)"
   ]
  },
  {
   "cell_type": "code",
   "execution_count": 230,
   "id": "1532b07a",
   "metadata": {},
   "outputs": [
    {
     "name": "stdout",
     "output_type": "stream",
     "text": [
      "Enter you guess : 33\n",
      "Enter you guess : 33\n",
      "Enter you guess : 33\n",
      "Enter you guess : 33\n"
     ]
    }
   ],
   "source": [
    "## Guess game\n",
    "\n",
    "correct = 'Pranay'\n",
    "guess = 0\n",
    "guess_count = 0\n",
    "guess_lim = 3\n",
    "\n",
    "while guess != correct:\n",
    "    \n",
    "    if guess_count > guess_lim:\n",
    "        print('You loss the game.')\n",
    "        break\n",
    "    \n",
    "    guess = input('Enter you guess : ')\n",
    "    guess = guess.capitalize()\n",
    "    guess_count +=1\n",
    "    \n",
    "    if guess == correct:\n",
    "        print('You won the game, Congratulations!!')\n",
    "    else:\n",
    "        print(f'{guess_lim - guess_count} attempt left')"
   ]
  },
  {
   "cell_type": "code",
   "execution_count": null,
   "id": "f843f4ba",
   "metadata": {},
   "outputs": [],
   "source": []
  },
  {
   "cell_type": "code",
   "execution_count": null,
   "id": "bf334460",
   "metadata": {},
   "outputs": [],
   "source": []
  },
  {
   "cell_type": "markdown",
   "id": "480c0e42",
   "metadata": {},
   "source": [
    "### Functions:\n",
    "* Function as set of organized block of reusable code to perform specific task."
   ]
  },
  {
   "cell_type": "code",
   "execution_count": 231,
   "id": "584e7b55",
   "metadata": {},
   "outputs": [],
   "source": [
    "def fib(n): \n",
    "    a = 0\n",
    "    b = 1\n",
    "    \n",
    "    result = []\n",
    "    for i in range(n):\n",
    "        c = a + b\n",
    "        a = b\n",
    "        b = c\n",
    "        \n",
    "        result.append(c)\n",
    "    return result\n",
    "\n",
    "fib(5)"
   ]
  },
  {
   "cell_type": "code",
   "execution_count": 232,
   "id": "a57f679b",
   "metadata": {},
   "outputs": [],
   "source": [
    "def pele(name):\n",
    "    rev = ''.join(reversed(name))\n",
    "#     rev = name[::-1]\n",
    "    if name == rev:\n",
    "        return True\n",
    "    else:\n",
    "        return False\n",
    "\n",
    "pele('naman')"
   ]
  },
  {
   "cell_type": "code",
   "execution_count": 233,
   "id": "95557d9f",
   "metadata": {},
   "outputs": [],
   "source": [
    "def sumation(a,b,c):\n",
    "    return a+b+c\n",
    "n1 = [1,2,3,4,5]\n",
    "n2 = [2,3,4,5,6]\n",
    "n3 = [3,4,5,6,7]\n",
    "\n",
    "result = map(sumation,n1,n2,n3)\n",
    "list(result)"
   ]
  },
  {
   "cell_type": "markdown",
   "id": "cd67ee19",
   "metadata": {},
   "source": [
    "### lambda\n",
    "* it is a nameless annonymous function use to perform small one time operation"
   ]
  },
  {
   "cell_type": "code",
   "execution_count": 234,
   "id": "46141ae4",
   "metadata": {},
   "outputs": [],
   "source": [
    "a = lambda x : x**3\n",
    "a(5)"
   ]
  },
  {
   "cell_type": "code",
   "execution_count": 235,
   "id": "ca13c189",
   "metadata": {},
   "outputs": [],
   "source": [
    "sumation = lambda a,b,c: a+b+c\n",
    "sumation(1,2,4)"
   ]
  },
  {
   "cell_type": "code",
   "execution_count": 236,
   "id": "5afb08c3",
   "metadata": {},
   "outputs": [],
   "source": [
    "def myfunc(n):\n",
    "  return lambda a : a * n\n",
    "\n",
    "mydoubler = myfunc(2)\n",
    "mytripler = myfunc(3)\n",
    "\n",
    "print(mydoubler(11))\n",
    "print(mytripler(11))"
   ]
  },
  {
   "cell_type": "code",
   "execution_count": null,
   "id": "e284bbbe",
   "metadata": {},
   "outputs": [],
   "source": []
  },
  {
   "cell_type": "code",
   "execution_count": 237,
   "id": "cbd2bb9a",
   "metadata": {},
   "outputs": [],
   "source": [
    "## only on lambda and i put brackets\n",
    "a = [(lambda x: x+2)(i) for i in range(1,10) if i%2 == 0]\n",
    "a"
   ]
  },
  {
   "cell_type": "code",
   "execution_count": null,
   "id": "5570e193",
   "metadata": {},
   "outputs": [],
   "source": []
  },
  {
   "cell_type": "code",
   "execution_count": null,
   "id": "af1b169f",
   "metadata": {},
   "outputs": [],
   "source": []
  },
  {
   "cell_type": "markdown",
   "id": "edd70e4f",
   "metadata": {},
   "source": [
    "#### Use the lambda example as much as possible."
   ]
  },
  {
   "cell_type": "code",
   "execution_count": null,
   "id": "7083285f",
   "metadata": {},
   "outputs": [],
   "source": []
  },
  {
   "cell_type": "code",
   "execution_count": null,
   "id": "8db08b2f",
   "metadata": {},
   "outputs": [],
   "source": []
  },
  {
   "cell_type": "code",
   "execution_count": 238,
   "id": "d222f370",
   "metadata": {},
   "outputs": [],
   "source": [
    "import pandas as pd\n",
    "\n",
    "# Assuming df is your DataFrame with a column named 'id'\n",
    "data = {'id': [1, 2, 3, 4, 5],\n",
    "        'other_column': [10, 20, 30, 40, 50]}\n",
    "\n",
    "df = pd.DataFrame(data)\n",
    "\n",
    "# Use lambda function with apply to add 5 to the 'id' column\n",
    "df['id'] = df['id'].apply(lambda x: x + 5)\n",
    "\n",
    "# Print the modified DataFrame\n",
    "print(df)\n"
   ]
  },
  {
   "cell_type": "code",
   "execution_count": 239,
   "id": "29c74df6",
   "metadata": {},
   "outputs": [],
   "source": [
    "import pandas as pd\n",
    "\n",
    "# Assuming df is your DataFrame with a column named 'name'\n",
    "data = {'name': ['John', 'Alice', 'Bob', 'Charlie', 'David']}\n",
    "\n",
    "df = pd.DataFrame(data)\n",
    "\n",
    "# Use lambda function with apply to find the length of each name\n",
    "df['name_length'] = df['name'].apply(lambda x: len(x))\n",
    "\n",
    "# Print the modified DataFrame\n",
    "print(df)\n"
   ]
  },
  {
   "cell_type": "code",
   "execution_count": null,
   "id": "87801504",
   "metadata": {},
   "outputs": [],
   "source": []
  },
  {
   "cell_type": "code",
   "execution_count": null,
   "id": "af15ea99",
   "metadata": {},
   "outputs": [],
   "source": []
  },
  {
   "cell_type": "code",
   "execution_count": null,
   "id": "267fb64b",
   "metadata": {},
   "outputs": [],
   "source": []
  },
  {
   "cell_type": "code",
   "execution_count": 240,
   "id": "16a55353",
   "metadata": {},
   "outputs": [],
   "source": [
    "a = ['pranay','swati','priti']\n",
    "res = []\n",
    "for i in a:\n",
    "    b = len(i)\n",
    "    res.append(b)\n",
    "\n",
    "d = {'Name' : a, 'Lenth' : res}\n",
    "d\n",
    "\n",
    "import pandas as pd\n",
    "r = pd.DataFrame(d)\n",
    "r['new'] = [1,2,3]"
   ]
  },
  {
   "cell_type": "code",
   "execution_count": 241,
   "id": "19cc2443",
   "metadata": {},
   "outputs": [],
   "source": [
    "r"
   ]
  },
  {
   "cell_type": "code",
   "execution_count": null,
   "id": "a7514415",
   "metadata": {},
   "outputs": [],
   "source": []
  },
  {
   "cell_type": "code",
   "execution_count": 242,
   "id": "a431ea7a",
   "metadata": {},
   "outputs": [],
   "source": [
    "## Pass is null operator which does not perform any task and also it returns nothing.\n",
    "## it is used to satisfy the syntex.\n",
    "\n",
    "a = 1\n",
    "b = 1\n",
    "if a+b != 0:\n",
    "    # TODO: Add code here\n",
    "    pass\n",
    "else:\n",
    "    # Some other code\n",
    "    print(\"Condition is false.\")\n"
   ]
  },
  {
   "cell_type": "code",
   "execution_count": null,
   "id": "ac6d2a2a",
   "metadata": {},
   "outputs": [],
   "source": []
  },
  {
   "cell_type": "markdown",
   "id": "5fbf08f2",
   "metadata": {},
   "source": [
    "### Try and Except : Use for exception handling. \n"
   ]
  },
  {
   "cell_type": "code",
   "execution_count": 243,
   "id": "ec64c7ca",
   "metadata": {},
   "outputs": [
    {
     "name": "stdout",
     "output_type": "stream",
     "text": [
      "Enter the numerator: 3\n",
      "Enter the denominator: 33\n"
     ]
    }
   ],
   "source": [
    "try:\n",
    "    # Code that might raise an exception\n",
    "    numerator = int(input(\"Enter the numerator: \"))\n",
    "    denominator = int(input(\"Enter the denominator: \"))\n",
    "    \n",
    "    result = a+b\n",
    "\n",
    "except ZeroDivisionError:\n",
    "    # Handling the specific exception: division by zero\n",
    "    print(\"Error: Division by zero is not allowed.\")\n",
    "\n",
    "except ValueError:\n",
    "    # Handling the specific exception: invalid input (non-integer)\n",
    "    print(\"Error: Please enter valid integers.\")\n",
    "\n",
    "except Exception as e:\n",
    "    # Handling any other unexpected exceptions\n",
    "    print(f\"An unexpected error occurred: {e}\")\n",
    "\n",
    "else:\n",
    "    # Code to be executed if no exception is raised\n",
    "    print(f\"The result of the division is: {result}\")\n",
    "\n",
    "finally:\n",
    "    # Code to be executed regardless of whether an exception occurred or not\n",
    "    print(\"This block will always be executed.\")\n"
   ]
  },
  {
   "cell_type": "code",
   "execution_count": null,
   "id": "0e15c852",
   "metadata": {},
   "outputs": [],
   "source": []
  },
  {
   "cell_type": "code",
   "execution_count": null,
   "id": "681c9aff",
   "metadata": {},
   "outputs": [],
   "source": []
  },
  {
   "cell_type": "markdown",
   "id": "c6cf133f",
   "metadata": {},
   "source": [
    "### Iterator and Generator.\n",
    "\n",
    "* iterator: use the iter keyword to print the element present inside the list.\n",
    "    * Elements present inside the list know as iterables\n",
    "\n",
    "* Generator : is use to create the iterator. To create generator we use the function with yield keyword.\n",
    "    * it also save and return the local variable\n",
    "    * use to create fast and compact code"
   ]
  },
  {
   "cell_type": "code",
   "execution_count": 244,
   "id": "3b86adb2",
   "metadata": {},
   "outputs": [],
   "source": [
    "# iterables\n",
    "l = [1,2,3,4,4,5,6]\n",
    "\n",
    "iterator = iter(l)\n",
    "next(iterator)"
   ]
  },
  {
   "cell_type": "code",
   "execution_count": 245,
   "id": "9e186061",
   "metadata": {},
   "outputs": [],
   "source": [
    "next(iterator)"
   ]
  },
  {
   "cell_type": "code",
   "execution_count": null,
   "id": "5bd3bbaf",
   "metadata": {},
   "outputs": [],
   "source": []
  },
  {
   "cell_type": "code",
   "execution_count": 246,
   "id": "c5678897",
   "metadata": {},
   "outputs": [],
   "source": [
    "## Generator\n",
    "def square(n):\n",
    "    for i in range(n):\n",
    "        yield i**4\n",
    "        \n",
    "for j in square(4):\n",
    "    print(j)"
   ]
  },
  {
   "cell_type": "code",
   "execution_count": 247,
   "id": "206eb6cb",
   "metadata": {},
   "outputs": [],
   "source": [
    "a = square(n)\n",
    "next(a)"
   ]
  },
  {
   "cell_type": "code",
   "execution_count": 248,
   "id": "d2e2347c",
   "metadata": {},
   "outputs": [],
   "source": [
    "next(a)"
   ]
  },
  {
   "cell_type": "code",
   "execution_count": null,
   "id": "0a281c02",
   "metadata": {},
   "outputs": [],
   "source": []
  },
  {
   "cell_type": "markdown",
   "id": "fa9193bd",
   "metadata": {},
   "source": [
    "### Decorator:\n",
    "* allows a user to add new functionality to an existing object without modifying its structure."
   ]
  },
  {
   "cell_type": "code",
   "execution_count": 249,
   "id": "e3cb151d",
   "metadata": {},
   "outputs": [],
   "source": [
    "### Decorator:\n",
    "def primary_class(fun):\n",
    "    def sub_class():\n",
    "        print('Hi, My name is Pranay')\n",
    "        fun()\n",
    "        print('I am currently working as Data Scientist in CG')\n",
    "    return sub_class\n"
   ]
  },
  {
   "cell_type": "code",
   "execution_count": 250,
   "id": "205bbba2",
   "metadata": {},
   "outputs": [],
   "source": [
    "@primary_class\n",
    "def graduation():\n",
    "    print('I have done the data science')\n",
    "    \n",
    "graduation()"
   ]
  },
  {
   "cell_type": "code",
   "execution_count": null,
   "id": "1a822e32",
   "metadata": {},
   "outputs": [],
   "source": []
  },
  {
   "cell_type": "markdown",
   "id": "6a305ec9",
   "metadata": {},
   "source": [
    "### Class"
   ]
  },
  {
   "cell_type": "code",
   "execution_count": 251,
   "id": "81ff6830",
   "metadata": {},
   "outputs": [],
   "source": [
    "# single\n",
    "class Parent():\n",
    "    def Parent(self):\n",
    "        print('I am Parent')\n",
    "    \n",
    "class child(Parent):\n",
    "    def child(self):\n",
    "        print('I am child')\n",
    "\n",
    "a = Parent()\n",
    "b = child()\n",
    "\n",
    "b.Parent()\n",
    "b.child()"
   ]
  },
  {
   "cell_type": "code",
   "execution_count": 252,
   "id": "54d2471c",
   "metadata": {},
   "outputs": [],
   "source": [
    "# multi\n",
    "class Parent1():\n",
    "    def Dad(self):\n",
    "        print('I am Dad')\n",
    "    \n",
    "class Parent2():\n",
    "    def Mom(self):\n",
    "        print('I am Mom')\n",
    "    \n",
    "class child(Parent1,Parent2):\n",
    "    def child(self):\n",
    "        print('I am child')\n",
    "\n",
    "a = Parent1()\n",
    "c = Parent2()\n",
    "b = child()\n",
    "\n",
    "b.Dad()\n",
    "b.Mom()\n",
    "b.child()"
   ]
  },
  {
   "cell_type": "code",
   "execution_count": 253,
   "id": "1d032bc0",
   "metadata": {},
   "outputs": [],
   "source": [
    "# multi\n",
    "class GrandFather():\n",
    "    def GrandFather(self):\n",
    "        print('I am GrandFather')\n",
    "    \n",
    "class Father(GrandFather):\n",
    "    def Father(self):\n",
    "        print('I am Father')\n",
    "    \n",
    "class son(Father):\n",
    "    def child(self):\n",
    "        print('I am child')\n",
    "\n",
    "a = GrandFather()\n",
    "c = Father()\n",
    "b = son()\n",
    "\n",
    "b.GrandFather()\n",
    "b.Father()\n",
    "b.child()"
   ]
  },
  {
   "cell_type": "code",
   "execution_count": 254,
   "id": "a305001b",
   "metadata": {},
   "outputs": [],
   "source": [
    "# Hirarcy\n",
    "class Parent():\n",
    "    def Parent(self):\n",
    "        print('I am Parent')\n",
    "    \n",
    "class Child1(Parent):\n",
    "    def Child1(self):\n",
    "        print('I am Child1')\n",
    "    \n",
    "class Child2(Parent):\n",
    "    def Child2(self):\n",
    "        print('I am Child2')\n",
    "\n",
    "a = Parent()\n",
    "c = Child1()\n",
    "b = Child2()\n",
    "\n",
    "b.Parent()\n",
    "c.Parent()"
   ]
  },
  {
   "cell_type": "code",
   "execution_count": null,
   "id": "a97d7b31",
   "metadata": {},
   "outputs": [],
   "source": []
  },
  {
   "cell_type": "code",
   "execution_count": 255,
   "id": "fc99f77a",
   "metadata": {},
   "outputs": [],
   "source": [
    "class animal():\n",
    "    def speak(self):\n",
    "        pass\n",
    "\n",
    "class Bird():\n",
    "    def speak(self):\n",
    "        return print('chi chi')\n",
    "        \n",
    "class Dog():\n",
    "    def speak(self):\n",
    "        return print('Bho Bho')\n",
    "\n",
    "class Cat():\n",
    "    def speak(self):\n",
    "        return print('Meow Meow')\n",
    "\n",
    "\n",
    "a = animal()\n",
    "a.speak()\n",
    "\n",
    "b = Bird()\n",
    "b.speak()"
   ]
  },
  {
   "cell_type": "code",
   "execution_count": null,
   "id": "04ec3c7a",
   "metadata": {},
   "outputs": [],
   "source": []
  },
  {
   "cell_type": "code",
   "execution_count": 256,
   "id": "4f185360",
   "metadata": {},
   "outputs": [],
   "source": [
    "class Shape:\n",
    "    def area(self):\n",
    "        pass\n",
    "\n",
    "class Circle(Shape):\n",
    "    def __init__(self, radius):\n",
    "        self.radius = radius\n",
    "\n",
    "    def area(self):\n",
    "        return 3.14 * self.radius ** 2\n",
    "\n",
    "class Square(Shape):\n",
    "    def __init__(self, side_length):\n",
    "        self.side_length = side_length\n",
    "\n",
    "    def area(self):\n",
    "        return self.side_length ** 2\n",
    "\n",
    "# Function that works with objects of the base class Shape\n",
    "def print_area(shape_obj):\n",
    "    print(f\"Area: {shape_obj.area()}\")\n",
    "\n",
    "# Example usage of polymorphism\n",
    "circle = Circle(5)\n",
    "square = Square(4)\n",
    "\n",
    "print_area(circle)  # Output: Area: 78.5\n",
    "print_area(square)  # Output: Area: 16\n"
   ]
  },
  {
   "cell_type": "code",
   "execution_count": null,
   "id": "4720f52e",
   "metadata": {},
   "outputs": [],
   "source": []
  },
  {
   "cell_type": "code",
   "execution_count": null,
   "id": "7508d273",
   "metadata": {},
   "outputs": [],
   "source": []
  },
  {
   "cell_type": "code",
   "execution_count": null,
   "id": "d55a0f1a",
   "metadata": {},
   "outputs": [],
   "source": []
  },
  {
   "cell_type": "markdown",
   "id": "bac5acd7",
   "metadata": {},
   "source": [
    "### Pandas"
   ]
  },
  {
   "cell_type": "code",
   "execution_count": 257,
   "id": "abef0cdc",
   "metadata": {},
   "outputs": [],
   "source": [
    "import pandas as pd\n",
    "\n",
    "l = [1,2,3,4,5,6,6]\n",
    "\n",
    "df = pd.DataFrame(l, columns = ['a'])\n",
    "df"
   ]
  },
  {
   "cell_type": "code",
   "execution_count": 258,
   "id": "da70074a",
   "metadata": {},
   "outputs": [],
   "source": [
    "d = {'a' : [1,2,3], 'b': [1,22,33],'c': [1,4,3]}\n",
    "df = pd.DataFrame(d,index = [1,2,3])\n",
    "df"
   ]
  },
  {
   "cell_type": "code",
   "execution_count": 259,
   "id": "5531d253",
   "metadata": {},
   "outputs": [],
   "source": [
    "s = pd.Series([1,2,3,4,5,6,67])\n",
    "df = pd.DataFrame(s)\n",
    "df"
   ]
  },
  {
   "cell_type": "markdown",
   "id": "a0309e2b",
   "metadata": {},
   "source": [
    "### Numpy"
   ]
  },
  {
   "cell_type": "code",
   "execution_count": 2,
   "id": "994b23e6",
   "metadata": {},
   "outputs": [
    {
     "name": "stdout",
     "output_type": "stream",
     "text": [
      "[1 2 3 3 4 5]\n",
      "\n",
      "**************************************************\n",
      "[[1 2]\n",
      " [2 3]]\n",
      "\n",
      "**************************************************\n",
      "[1 4 7]\n",
      "\n",
      "**************************************************\n",
      "[[0. 0. 0. 0. 0.]\n",
      " [0. 0. 0. 0. 0.]\n",
      " [0. 0. 0. 0. 0.]]\n",
      "\n",
      "**************************************************\n",
      "[[1. 1. 1. 1. 1.]\n",
      " [1. 1. 1. 1. 1.]\n",
      " [1. 1. 1. 1. 1.]]\n",
      "\n",
      "**************************************************\n"
     ]
    }
   ],
   "source": [
    "import numpy as np\n",
    "\n",
    "a = np.array([1,2,3,3,4,5])\n",
    "print(a) \n",
    "print()\n",
    "print('*****'*10)\n",
    "\n",
    "a = np.array([[1,2],[2,3]])\n",
    "print(a) \n",
    "print()\n",
    "print('*****'*10)\n",
    "\n",
    "a = np.arange(1,10,3)\n",
    "print(a) \n",
    "print()\n",
    "print('*****'*10)\n",
    "\n",
    "a = np.zeros((3,5))\n",
    "print(a) \n",
    "print()\n",
    "print('*****'*10)\n",
    "\n",
    "a = np.ones((3,5))\n",
    "print(a) \n",
    "print()\n",
    "print('*****'*10)\n"
   ]
  },
  {
   "cell_type": "code",
   "execution_count": 3,
   "id": "0caffb3f",
   "metadata": {},
   "outputs": [
    {
     "data": {
      "text/plain": [
       "array([[1, 2, 3],\n",
       "       [4, 5, 6]])"
      ]
     },
     "execution_count": 3,
     "metadata": {},
     "output_type": "execute_result"
    }
   ],
   "source": [
    "l = list(range(1,7))\n",
    "\n",
    "result = np.array(l).reshape(2,3)\n",
    "result"
   ]
  },
  {
   "cell_type": "code",
   "execution_count": 5,
   "id": "25ba1f49",
   "metadata": {},
   "outputs": [
    {
     "data": {
      "text/plain": [
       "array([1, 2, 3, 4, 5, 6])"
      ]
     },
     "execution_count": 5,
     "metadata": {},
     "output_type": "execute_result"
    }
   ],
   "source": [
    "l = list(range(1,7))\n",
    "\n",
    "result = np.array(l)\n",
    "result"
   ]
  },
  {
   "cell_type": "code",
   "execution_count": null,
   "id": "07bc1837",
   "metadata": {},
   "outputs": [],
   "source": []
  },
  {
   "cell_type": "code",
   "execution_count": 262,
   "id": "3a9dcbc6",
   "metadata": {},
   "outputs": [],
   "source": [
    "### AWS Codes: Take the data from s3 and put back\n",
    "\n",
    "\n",
    "# import boto3\n",
    "\n",
    "# # Set your AWS credentials\n",
    "# aws_access_key_id = 'YOUR_ACCESS_KEY_ID'\n",
    "# aws_secret_access_key = 'YOUR_SECRET_ACCESS_KEY'\n",
    "# aws_region = 'YOUR_AWS_REGION'\n",
    "\n",
    "# # Set the name of your S3 bucket and the key (path) of the file\n",
    "# bucket_name = 'your-bucket-name'\n",
    "# file_key = 'path/to/your/file.txt'\n",
    "\n",
    "# # Create an S3 client\n",
    "# s3 = boto3.client('s3', aws_access_key_id=aws_access_key_id, aws_secret_access_key=aws_secret_access_key, region_name=aws_region)\n",
    "\n",
    "# # Download the file from S3\n",
    "# try:\n",
    "#     response = s3.get_object(Bucket=bucket_name, Key=file_key)\n",
    "#     content = response['Body'].read().decode('utf-8')\n",
    "#     print(content)\n",
    "# except Exception as e:\n",
    "#     print(f\"An error occurred: {e}\")\n",
    "\n",
    "\n",
    "\n",
    "# import boto3\n",
    "\n",
    "# # Set your AWS credentials\n",
    "# aws_access_key_id = 'YOUR_ACCESS_KEY_ID'\n",
    "# aws_secret_access_key = 'YOUR_SECRET_ACCESS_KEY'\n",
    "# aws_region = 'YOUR_AWS_REGION'\n",
    "\n",
    "# # Set the name of your S3 bucket and the key (path) where you want to upload the file\n",
    "# bucket_name = 'your-bucket-name'\n",
    "# file_key = 'path/to/your/uploaded/file.txt'\n",
    "\n",
    "# # Content to be uploaded\n",
    "# content_to_upload = \"This is the content to upload to S3.\"\n",
    "\n",
    "# # Create an S3 client\n",
    "# s3 = boto3.client('s3', aws_access_key_id=aws_access_key_id, aws_secret_access_key=aws_secret_access_key, region_name=aws_region)\n",
    "\n",
    "# # Upload the file to S3\n",
    "# try:\n",
    "#     s3.put_object(Bucket=bucket_name, Key=file_key, Body=content_to_upload.encode('utf-8'))\n",
    "#     print(f\"File uploaded to S3: s3://{bucket_name}/{file_key}\")\n",
    "# except Exception as e:\n",
    "#     print(f\"An error occurred: {e}\")\n",
    "\n",
    "\n"
   ]
  },
  {
   "cell_type": "markdown",
   "id": "56ed633b",
   "metadata": {},
   "source": [
    "## "
   ]
  }
 ],
 "metadata": {
  "kernelspec": {
   "display_name": "Python 3 (ipykernel)",
   "language": "python",
   "name": "python3"
  },
  "language_info": {
   "codemirror_mode": {
    "name": "ipython",
    "version": 3
   },
   "file_extension": ".py",
   "mimetype": "text/x-python",
   "name": "python",
   "nbconvert_exporter": "python",
   "pygments_lexer": "ipython3",
   "version": "3.11.3"
  }
 },
 "nbformat": 4,
 "nbformat_minor": 5
}
