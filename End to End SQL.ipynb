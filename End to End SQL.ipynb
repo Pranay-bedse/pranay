{
 "cells": [
  {
   "cell_type": "markdown",
   "id": "99dac0fe",
   "metadata": {},
   "source": []
  },
  {
   "cell_type": "code",
   "execution_count": null,
   "id": "096b2d04",
   "metadata": {},
   "outputs": [],
   "source": []
  },
  {
   "cell_type": "markdown",
   "id": "54b222e7",
   "metadata": {},
   "source": [
    "##### 1. Retrieve all columns from the \"employees\" table.\n",
    "\n",
    "Select * from employee"
   ]
  },
  {
   "cell_type": "code",
   "execution_count": null,
   "id": "e39168b5",
   "metadata": {},
   "outputs": [],
   "source": []
  },
  {
   "cell_type": "markdown",
   "id": "965561ba",
   "metadata": {},
   "source": [
    "#### 2. Display the unique values in the \"department\" column of the \"employees\" table.\n",
    "\n",
    "Select Distinct(department) from eployees"
   ]
  },
  {
   "cell_type": "code",
   "execution_count": null,
   "id": "035a3da6",
   "metadata": {},
   "outputs": [],
   "source": []
  },
  {
   "cell_type": "markdown",
   "id": "5df6c590",
   "metadata": {},
   "source": [
    "#### 3. Count the total number of employees in the \"employees\" table.\n",
    "\n",
    "select count(*) from employees"
   ]
  },
  {
   "cell_type": "code",
   "execution_count": null,
   "id": "d1169dee",
   "metadata": {},
   "outputs": [],
   "source": []
  },
  {
   "cell_type": "markdown",
   "id": "d4aa56bd",
   "metadata": {},
   "source": [
    "#### 4 Retrieve the first 10 rows from the \"customers\" table.\n",
    "\n",
    "Select * from customers\n",
    "limit 10;\n"
   ]
  },
  {
   "cell_type": "code",
   "execution_count": null,
   "id": "df6d9687",
   "metadata": {},
   "outputs": [],
   "source": []
  },
  {
   "cell_type": "markdown",
   "id": "e0cc54a8",
   "metadata": {},
   "source": [
    "#### 5. Show the average salary of all employees.\n",
    "\n",
    "Select employee_id, avg(salary) from employees\n",
    "group by employee_id;"
   ]
  },
  {
   "cell_type": "code",
   "execution_count": null,
   "id": "c76e8463",
   "metadata": {},
   "outputs": [],
   "source": []
  },
  {
   "cell_type": "markdown",
   "id": "dce97e6f",
   "metadata": {},
   "source": [
    "#### 6. Find the highest salary among all employees.\n",
    "\n",
    "Select employee_id,max(salary) from employees\n",
    "group by employee_id;"
   ]
  },
  {
   "cell_type": "code",
   "execution_count": null,
   "id": "b455197b",
   "metadata": {},
   "outputs": [],
   "source": []
  },
  {
   "cell_type": "markdown",
   "id": "b7570269",
   "metadata": {},
   "source": [
    "#### 7. Display the distinct values in the \"city\" column of the \"customers\" table.\n",
    "\n",
    "Select distinct(city) from customers;"
   ]
  },
  {
   "cell_type": "code",
   "execution_count": null,
   "id": "5f3c6942",
   "metadata": {},
   "outputs": [],
   "source": []
  },
  {
   "cell_type": "markdown",
   "id": "dfac4302",
   "metadata": {},
   "source": [
    "#### 8. List all employees whose salary is greater than $50,000.\n",
    "\n",
    "Select * from employees\n",
    "where salary > 50000;"
   ]
  },
  {
   "cell_type": "code",
   "execution_count": null,
   "id": "ef4055a2",
   "metadata": {},
   "outputs": [],
   "source": []
  },
  {
   "cell_type": "markdown",
   "id": "8b97dae7",
   "metadata": {},
   "source": [
    "#### 9. Calculate the total sales amount from the \"sales\" table.\n",
    "\n",
    "Select sum(amount) from sales;"
   ]
  },
  {
   "cell_type": "code",
   "execution_count": null,
   "id": "c56956aa",
   "metadata": {},
   "outputs": [],
   "source": []
  },
  {
   "cell_type": "markdown",
   "id": "c505592f",
   "metadata": {},
   "source": [
    "#### 10. Sort the \"products\" table by price in descending order.\n",
    "\n",
    "Select * from products\n",
    "order by price DESC;"
   ]
  },
  {
   "cell_type": "code",
   "execution_count": null,
   "id": "b09ee473",
   "metadata": {},
   "outputs": [],
   "source": []
  },
  {
   "cell_type": "markdown",
   "id": "209f5daa",
   "metadata": {},
   "source": [
    "####  11. Find the total number of distinct countries in the \"customers\" table.\n",
    "\n",
    "Select count(distinct(countires) from customers;"
   ]
  },
  {
   "cell_type": "code",
   "execution_count": null,
   "id": "a9c00176",
   "metadata": {},
   "outputs": [],
   "source": []
  },
  {
   "cell_type": "markdown",
   "id": "3f0e2ca8",
   "metadata": {},
   "source": [
    "####  12. List all orders with a quantity greater than 10.\n",
    "\n",
    "Select * from orders\n",
    "where quantity > 10;"
   ]
  },
  {
   "cell_type": "code",
   "execution_count": null,
   "id": "a813d924",
   "metadata": {},
   "outputs": [],
   "source": []
  },
  {
   "cell_type": "markdown",
   "id": "1a70eb8f",
   "metadata": {},
   "source": [
    "#### 13. Calculate the average price of all products.\n",
    "\n",
    "Select product, Avg(price) from products;"
   ]
  },
  {
   "cell_type": "code",
   "execution_count": null,
   "id": "587acdff",
   "metadata": {},
   "outputs": [],
   "source": []
  },
  {
   "cell_type": "markdown",
   "id": "f0e1194f",
   "metadata": {},
   "source": [
    "####  14. Sort the \"employees\" table by hire date in descending order.\n",
    "\n",
    "Select * from employees\n",
    "order by hire_date DESC;"
   ]
  },
  {
   "cell_type": "code",
   "execution_count": null,
   "id": "f7ef5787",
   "metadata": {},
   "outputs": [],
   "source": []
  },
  {
   "cell_type": "markdown",
   "id": "001ddc03",
   "metadata": {},
   "source": [
    "####  15. Show the maximum price among all products.\n",
    "\n",
    "Select product_id, max(price) from products;"
   ]
  },
  {
   "cell_type": "code",
   "execution_count": null,
   "id": "faa4e135",
   "metadata": {},
   "outputs": [],
   "source": []
  },
  {
   "cell_type": "markdown",
   "id": "9532c0ec",
   "metadata": {},
   "source": [
    "####  16. List all products with a stock quantity less than 50.\n",
    "\n",
    "Select * from products\n",
    "where quantity < 50;"
   ]
  },
  {
   "cell_type": "code",
   "execution_count": null,
   "id": "c4a22ad5",
   "metadata": {},
   "outputs": [],
   "source": []
  },
  {
   "cell_type": "markdown",
   "id": "000496e2",
   "metadata": {},
   "source": [
    "#### 17 . Count the total number of orders placed by each employee.\n",
    "\n",
    "Select employee_id,count(order) from orders;"
   ]
  },
  {
   "cell_type": "code",
   "execution_count": null,
   "id": "8f1e1e4d",
   "metadata": {},
   "outputs": [],
   "source": []
  },
  {
   "cell_type": "markdown",
   "id": "e0b17bd5",
   "metadata": {},
   "source": [
    "####  18. Display the orders along with their customers from the \"orders\" and \"customers\" tables.\n",
    "\n",
    "Select customers.customer_id, customers.customer, orders.order from customers\n",
    "join orders\n",
    "using (customer_id)"
   ]
  },
  {
   "cell_type": "code",
   "execution_count": null,
   "id": "fa3332cf",
   "metadata": {},
   "outputs": [],
   "source": []
  },
  {
   "cell_type": "markdown",
   "id": "bdcbd223",
   "metadata": {},
   "source": [
    "####  19. Find the total revenue generated from orders.\n",
    "\n",
    "Select Sum(revenue) from orders;"
   ]
  },
  {
   "cell_type": "code",
   "execution_count": null,
   "id": "bd1f6b1d",
   "metadata": {},
   "outputs": [],
   "source": []
  },
  {
   "cell_type": "markdown",
   "id": "941b7b39",
   "metadata": {},
   "source": [
    "####  20. Calculate the average stock quantity of all products.\n",
    "\n",
    "Select AVG(quantity) from products;"
   ]
  },
  {
   "cell_type": "code",
   "execution_count": null,
   "id": "9c3802a1",
   "metadata": {},
   "outputs": [],
   "source": []
  },
  {
   "cell_type": "code",
   "execution_count": null,
   "id": "3e84495d",
   "metadata": {},
   "outputs": [],
   "source": []
  },
  {
   "cell_type": "code",
   "execution_count": null,
   "id": "b6f8af19",
   "metadata": {},
   "outputs": [],
   "source": []
  },
  {
   "cell_type": "code",
   "execution_count": null,
   "id": "d9ceb2da",
   "metadata": {},
   "outputs": [],
   "source": []
  },
  {
   "cell_type": "code",
   "execution_count": null,
   "id": "f8acfc18",
   "metadata": {},
   "outputs": [],
   "source": []
  },
  {
   "cell_type": "code",
   "execution_count": null,
   "id": "922b35aa",
   "metadata": {},
   "outputs": [],
   "source": []
  },
  {
   "cell_type": "code",
   "execution_count": null,
   "id": "62422a08",
   "metadata": {},
   "outputs": [],
   "source": []
  },
  {
   "cell_type": "code",
   "execution_count": null,
   "id": "6ccd3606",
   "metadata": {},
   "outputs": [],
   "source": []
  },
  {
   "cell_type": "code",
   "execution_count": null,
   "id": "13ee82f6",
   "metadata": {},
   "outputs": [],
   "source": []
  },
  {
   "cell_type": "code",
   "execution_count": null,
   "id": "2f65a161",
   "metadata": {},
   "outputs": [],
   "source": []
  },
  {
   "cell_type": "code",
   "execution_count": null,
   "id": "3a09c32f",
   "metadata": {},
   "outputs": [],
   "source": []
  }
 ],
 "metadata": {
  "kernelspec": {
   "display_name": "Python 3 (ipykernel)",
   "language": "python",
   "name": "python3"
  },
  "language_info": {
   "codemirror_mode": {
    "name": "ipython",
    "version": 3
   },
   "file_extension": ".py",
   "mimetype": "text/x-python",
   "name": "python",
   "nbconvert_exporter": "python",
   "pygments_lexer": "ipython3",
   "version": "3.11.3"
  }
 },
 "nbformat": 4,
 "nbformat_minor": 5
}
