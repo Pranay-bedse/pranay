{
 "cells": [
  {
   "cell_type": "markdown",
   "id": "7204d5e8",
   "metadata": {},
   "source": [
    "# To Split the data in 3 different col as the data we have has 3 type."
   ]
  },
  {
   "cell_type": "code",
   "execution_count": null,
   "id": "098b968a",
   "metadata": {},
   "outputs": [],
   "source": [
    "from sklearn.preprocessing import MultiLabelBinarizer\n",
    "\n",
    " \n",
    "\n",
    "# Create an instance of MultiLabelBinarizer\n",
    "mlb = MultiLabelBinarizer()\n",
    "\n",
    " \n",
    "\n",
    "# Split the 'ownerType' column into separate columns\n",
    "owner_type_split = df_1['ownerType'].apply(lambda x: [x] if isinstance(x, str) else x)\n",
    "\n",
    " \n",
    "\n",
    "encoded_owner_type = pd.DataFrame(mlb.fit_transform(owner_type_split), columns=mlb.classes_)\n",
    "\n",
    " \n",
    "\n",
    "# Concatenate the encoded columns with the original dataset\n",
    "encoded_data = pd.concat([df_1['cretId'], encoded_owner_type], axis=1)\n",
    "\n",
    " \n",
    "\n",
    "print(encoded_data)\n",
    "print(type(encoded_data))"
   ]
  },
  {
   "cell_type": "code",
   "execution_count": null,
   "id": "2326421e",
   "metadata": {},
   "outputs": [],
   "source": []
  },
  {
   "cell_type": "code",
   "execution_count": null,
   "id": "c38aac0d",
   "metadata": {},
   "outputs": [],
   "source": [
    " \n",
    "\n",
    "# Split the userTitle column into separate columns\n",
    "df_split = df_1['userTitle'].apply(lambda x: pd.Series(x))\n",
    "\n",
    " \n",
    "\n",
    "# Encode the split columns\n",
    "encoded_df = pd.get_dummies(df_split.apply(pd.Series).stack()).sum(level=0)\n",
    "\n",
    " \n",
    "\n",
    "# Concatenate the original DataFrame with the encoded columns\n",
    "df_encoded = pd.concat([df_1, encoded_df], axis=1)\n",
    "\n",
    " \n",
    "\n",
    "# Drop the original userTitle column\n",
    "df_encoded.drop('userTitle', axis=1, inplace=True)\n",
    "\n",
    " \n",
    "\n",
    "# Print the encoded DataFrame\n",
    "print(df_encoded)"
   ]
  },
  {
   "cell_type": "code",
   "execution_count": null,
   "id": "84bb7f2b",
   "metadata": {},
   "outputs": [],
   "source": []
  },
  {
   "cell_type": "code",
   "execution_count": null,
   "id": "1b4b25d9",
   "metadata": {},
   "outputs": [],
   "source": []
  },
  {
   "cell_type": "code",
   "execution_count": null,
   "id": "dd1b6635",
   "metadata": {},
   "outputs": [],
   "source": []
  }
 ],
 "metadata": {
  "kernelspec": {
   "display_name": "Python 3 (ipykernel)",
   "language": "python",
   "name": "python3"
  },
  "language_info": {
   "codemirror_mode": {
    "name": "ipython",
    "version": 3
   },
   "file_extension": ".py",
   "mimetype": "text/x-python",
   "name": "python",
   "nbconvert_exporter": "python",
   "pygments_lexer": "ipython3",
   "version": "3.9.7"
  }
 },
 "nbformat": 4,
 "nbformat_minor": 5
}
