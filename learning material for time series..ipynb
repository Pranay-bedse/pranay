{
 "cells": [
  {
   "cell_type": "markdown",
   "id": "99fac1dc",
   "metadata": {},
   "source": [
    "we're going to follow the following steps:\n",
    "\n",
    "1. Data Extraction\n",
    "2. Data Analysis\n",
    "3. Data Interpretation and Representation\n",
    "4. Data Preprocessing\n",
    "    * Data Cleaning\n",
    "    * Feature Selection\n",
    "    * Feature Scaling\n",
    "    * Outlier Detection\n",
    "5. Model Selection\n",
    "6. Model Evaluation\n",
    "7. Feature Importance\n",
    "\n",
    "\n",
    "\n",
    "***************************************************************************************\n",
    "\n",
    "# TimeSeries data is basically divided in 4 parts:\n",
    "    1. Trend : It can be upward or downward.\n",
    "    \n",
    "    2. Seasonal : Data will vary according to season like:\n",
    "                : In summer the ac sales are high and in winter ac sales are low.\n",
    "    \n",
    "    3. Irregularity(noise) : Unsystematic also called as residuals. \n",
    "                           : It happend for small duration like natural disasters. \n",
    "                           : At that time sales of medicines will be increase.\n",
    "                           \n",
    "    4. Cyclic : Repeating up and down moment don't have any pattern and very hard to predict.\n",
    " \n",
    "* when we cannot use timeseries:\n",
    "    1. when our values are constant. like sale of last month is 500 and in this month is also 500 means constant.\n",
    "    2. when values in the form of function like sine or cos function."
   ]
  },
  {
   "cell_type": "code",
   "execution_count": 1,
   "id": "7f894545",
   "metadata": {},
   "outputs": [],
   "source": [
    "#Importing Required Libraries.\n",
    "import pandas as pd\n",
    "import numpy as np\n",
    "import matplotlib.pyplot as plt\n",
    "import seaborn as sns\n",
    "import warnings\n",
    "warnings.simplefilter('ignore')\n",
    "\n",
    "#plot style.\n",
    "plt.style.use('seaborn')"
   ]
  },
  {
   "cell_type": "markdown",
   "id": "8f40c0f1",
   "metadata": {},
   "source": [
    "# Data Extraction"
   ]
  },
  {
   "cell_type": "code",
   "execution_count": 2,
   "id": "be907bbf",
   "metadata": {},
   "outputs": [
    {
     "data": {
      "text/html": [
       "<div>\n",
       "<style scoped>\n",
       "    .dataframe tbody tr th:only-of-type {\n",
       "        vertical-align: middle;\n",
       "    }\n",
       "\n",
       "    .dataframe tbody tr th {\n",
       "        vertical-align: top;\n",
       "    }\n",
       "\n",
       "    .dataframe thead th {\n",
       "        text-align: right;\n",
       "    }\n",
       "</style>\n",
       "<table border=\"1\" class=\"dataframe\">\n",
       "  <thead>\n",
       "    <tr style=\"text-align: right;\">\n",
       "      <th></th>\n",
       "      <th>Date</th>\n",
       "      <th>Price</th>\n",
       "    </tr>\n",
       "  </thead>\n",
       "  <tbody>\n",
       "    <tr>\n",
       "      <th>0</th>\n",
       "      <td>1950-01</td>\n",
       "      <td>34.73</td>\n",
       "    </tr>\n",
       "    <tr>\n",
       "      <th>1</th>\n",
       "      <td>1950-02</td>\n",
       "      <td>34.73</td>\n",
       "    </tr>\n",
       "    <tr>\n",
       "      <th>2</th>\n",
       "      <td>1950-03</td>\n",
       "      <td>34.73</td>\n",
       "    </tr>\n",
       "    <tr>\n",
       "      <th>3</th>\n",
       "      <td>1950-04</td>\n",
       "      <td>34.73</td>\n",
       "    </tr>\n",
       "    <tr>\n",
       "      <th>4</th>\n",
       "      <td>1950-05</td>\n",
       "      <td>34.73</td>\n",
       "    </tr>\n",
       "  </tbody>\n",
       "</table>\n",
       "</div>"
      ],
      "text/plain": [
       "      Date  Price\n",
       "0  1950-01  34.73\n",
       "1  1950-02  34.73\n",
       "2  1950-03  34.73\n",
       "3  1950-04  34.73\n",
       "4  1950-05  34.73"
      ]
     },
     "execution_count": 2,
     "metadata": {},
     "output_type": "execute_result"
    }
   ],
   "source": [
    "#Load the data into dataframe.\n",
    "df = pd.read_csv('gold_monthly_csv.csv')\n",
    "\n",
    "#Having a look at the data.\n",
    "df.head()"
   ]
  },
  {
   "cell_type": "code",
   "execution_count": 3,
   "id": "8004ccd0",
   "metadata": {},
   "outputs": [
    {
     "data": {
      "text/plain": [
       "(847, 2)"
      ]
     },
     "execution_count": 3,
     "metadata": {},
     "output_type": "execute_result"
    }
   ],
   "source": [
    "#Having a look at thed shape.\n",
    "df.shape"
   ]
  },
  {
   "cell_type": "markdown",
   "id": "df22d142",
   "metadata": {},
   "source": [
    "* We have 847 rows and 2 columns."
   ]
  },
  {
   "cell_type": "code",
   "execution_count": 4,
   "id": "cee3cbac",
   "metadata": {},
   "outputs": [
    {
     "name": "stdout",
     "output_type": "stream",
     "text": [
      "<class 'pandas.core.frame.DataFrame'>\n",
      "RangeIndex: 847 entries, 0 to 846\n",
      "Data columns (total 2 columns):\n",
      " #   Column  Non-Null Count  Dtype  \n",
      "---  ------  --------------  -----  \n",
      " 0   Date    847 non-null    object \n",
      " 1   Price   847 non-null    float64\n",
      "dtypes: float64(1), object(1)\n",
      "memory usage: 13.4+ KB\n"
     ]
    }
   ],
   "source": [
    "#Having a look at the info.\n",
    "df.info()"
   ]
  },
  {
   "cell_type": "markdown",
   "id": "9829f6a3",
   "metadata": {},
   "source": [
    "* As we can see, date shows in object format."
   ]
  },
  {
   "cell_type": "code",
   "execution_count": 5,
   "id": "526a2e14",
   "metadata": {},
   "outputs": [],
   "source": [
    "#Let's change date into datetime.\n",
    "df['Date'] = pd.to_datetime(df['Date'])"
   ]
  },
  {
   "cell_type": "code",
   "execution_count": 6,
   "id": "cb287e30",
   "metadata": {},
   "outputs": [
    {
     "name": "stdout",
     "output_type": "stream",
     "text": [
      "<class 'pandas.core.frame.DataFrame'>\n",
      "RangeIndex: 847 entries, 0 to 846\n",
      "Data columns (total 2 columns):\n",
      " #   Column  Non-Null Count  Dtype         \n",
      "---  ------  --------------  -----         \n",
      " 0   Date    847 non-null    datetime64[ns]\n",
      " 1   Price   847 non-null    float64       \n",
      "dtypes: datetime64[ns](1), float64(1)\n",
      "memory usage: 13.4 KB\n"
     ]
    }
   ],
   "source": [
    "#Having a look at the info now.\n",
    "df.info()"
   ]
  },
  {
   "cell_type": "markdown",
   "id": "c130b1b3",
   "metadata": {},
   "source": [
    "* As we can see, now date is in datetime format."
   ]
  },
  {
   "cell_type": "code",
   "execution_count": 7,
   "id": "2f262849",
   "metadata": {},
   "outputs": [
    {
     "data": {
      "text/plain": [
       "Date     0\n",
       "Price    0\n",
       "dtype: int64"
      ]
     },
     "execution_count": 7,
     "metadata": {},
     "output_type": "execute_result"
    }
   ],
   "source": [
    "#Let's check do we have missing values or not.\n",
    "df.isna().sum()"
   ]
  },
  {
   "cell_type": "markdown",
   "id": "8b15d382",
   "metadata": {},
   "source": [
    "* We don't have any kind of missing values."
   ]
  },
  {
   "cell_type": "code",
   "execution_count": 8,
   "id": "3b49e15b",
   "metadata": {},
   "outputs": [
    {
     "data": {
      "text/html": [
       "<div>\n",
       "<style scoped>\n",
       "    .dataframe tbody tr th:only-of-type {\n",
       "        vertical-align: middle;\n",
       "    }\n",
       "\n",
       "    .dataframe tbody tr th {\n",
       "        vertical-align: top;\n",
       "    }\n",
       "\n",
       "    .dataframe thead th {\n",
       "        text-align: right;\n",
       "    }\n",
       "</style>\n",
       "<table border=\"1\" class=\"dataframe\">\n",
       "  <thead>\n",
       "    <tr style=\"text-align: right;\">\n",
       "      <th></th>\n",
       "      <th>Price</th>\n",
       "    </tr>\n",
       "  </thead>\n",
       "  <tbody>\n",
       "    <tr>\n",
       "      <th>count</th>\n",
       "      <td>847.000000</td>\n",
       "    </tr>\n",
       "    <tr>\n",
       "      <th>mean</th>\n",
       "      <td>416.556906</td>\n",
       "    </tr>\n",
       "    <tr>\n",
       "      <th>std</th>\n",
       "      <td>453.665313</td>\n",
       "    </tr>\n",
       "    <tr>\n",
       "      <th>min</th>\n",
       "      <td>34.490000</td>\n",
       "    </tr>\n",
       "    <tr>\n",
       "      <th>25%</th>\n",
       "      <td>35.190000</td>\n",
       "    </tr>\n",
       "    <tr>\n",
       "      <th>50%</th>\n",
       "      <td>319.622000</td>\n",
       "    </tr>\n",
       "    <tr>\n",
       "      <th>75%</th>\n",
       "      <td>447.029000</td>\n",
       "    </tr>\n",
       "    <tr>\n",
       "      <th>max</th>\n",
       "      <td>1840.807000</td>\n",
       "    </tr>\n",
       "  </tbody>\n",
       "</table>\n",
       "</div>"
      ],
      "text/plain": [
       "             Price\n",
       "count   847.000000\n",
       "mean    416.556906\n",
       "std     453.665313\n",
       "min      34.490000\n",
       "25%      35.190000\n",
       "50%     319.622000\n",
       "75%     447.029000\n",
       "max    1840.807000"
      ]
     },
     "execution_count": 8,
     "metadata": {},
     "output_type": "execute_result"
    }
   ],
   "source": [
    "#let's see aggregation.\n",
    "df.describe()"
   ]
  },
  {
   "cell_type": "code",
   "execution_count": 9,
   "id": "fe8ddbf6",
   "metadata": {},
   "outputs": [
    {
     "data": {
      "text/html": [
       "<div>\n",
       "<style scoped>\n",
       "    .dataframe tbody tr th:only-of-type {\n",
       "        vertical-align: middle;\n",
       "    }\n",
       "\n",
       "    .dataframe tbody tr th {\n",
       "        vertical-align: top;\n",
       "    }\n",
       "\n",
       "    .dataframe thead th {\n",
       "        text-align: right;\n",
       "    }\n",
       "</style>\n",
       "<table border=\"1\" class=\"dataframe\">\n",
       "  <thead>\n",
       "    <tr style=\"text-align: right;\">\n",
       "      <th></th>\n",
       "      <th>Price</th>\n",
       "    </tr>\n",
       "    <tr>\n",
       "      <th>Date</th>\n",
       "      <th></th>\n",
       "    </tr>\n",
       "  </thead>\n",
       "  <tbody>\n",
       "    <tr>\n",
       "      <th>1950-01-01</th>\n",
       "      <td>34.73</td>\n",
       "    </tr>\n",
       "    <tr>\n",
       "      <th>1950-02-01</th>\n",
       "      <td>34.73</td>\n",
       "    </tr>\n",
       "    <tr>\n",
       "      <th>1950-03-01</th>\n",
       "      <td>34.73</td>\n",
       "    </tr>\n",
       "    <tr>\n",
       "      <th>1950-04-01</th>\n",
       "      <td>34.73</td>\n",
       "    </tr>\n",
       "    <tr>\n",
       "      <th>1950-05-01</th>\n",
       "      <td>34.73</td>\n",
       "    </tr>\n",
       "  </tbody>\n",
       "</table>\n",
       "</div>"
      ],
      "text/plain": [
       "            Price\n",
       "Date             \n",
       "1950-01-01  34.73\n",
       "1950-02-01  34.73\n",
       "1950-03-01  34.73\n",
       "1950-04-01  34.73\n",
       "1950-05-01  34.73"
      ]
     },
     "execution_count": 9,
     "metadata": {},
     "output_type": "execute_result"
    }
   ],
   "source": [
    "#let's set date as index.\n",
    "df.set_index('Date',inplace = True)\n",
    "\n",
    "#Having a look at the data.\n",
    "df.head()"
   ]
  },
  {
   "cell_type": "code",
   "execution_count": 10,
   "id": "839ccdd8",
   "metadata": {},
   "outputs": [
    {
     "data": {
      "text/plain": [
       "Text(0, 0.5, 'Amount')"
      ]
     },
     "execution_count": 10,
     "metadata": {},
     "output_type": "execute_result"
    },
    {
     "data": {
      "image/png": "[encoded data removed]",
      "text/plain": [
       "<Figure size 1152x432 with 1 Axes>"
      ]
     },
     "metadata": {},
     "output_type": "display_data"
    }
   ],
   "source": [
    "#Having a look at the visualization.\n",
    "df.plot(kind = 'line',figsize = (16,6),ls = '--')\n",
    "plt.title('Having a look at the distribution of Gold Price')\n",
    "plt.xlabel('Date')\n",
    "plt.ylabel('Amount')\n"
   ]
  },
  {
   "cell_type": "code",
   "execution_count": 11,
   "id": "e640b7c7",
   "metadata": {},
   "outputs": [
    {
     "data": {
      "image/png": "[encoded data removed]",
      "text/plain": [
       "<Figure size 1152x432 with 1 Axes>"
      ]
     },
     "metadata": {},
     "output_type": "display_data"
    }
   ],
   "source": [
    "#Having a look at the visualization.\n",
    "plt.figure(figsize = (16,6))\n",
    "sns.boxplot(x = df.index.year, y = df['Price'])\n",
    "plt.title('Having a look at the distribution of Gold Price')\n",
    "plt.xlabel('Date')\n",
    "plt.ylabel('Amount')\n",
    "plt.xticks(rotation = 90)\n",
    "plt.grid();"
   ]
  },
  {
   "cell_type": "markdown",
   "id": "698434ae",
   "metadata": {},
   "source": [
    "# Stationary or Not"
   ]
  },
  {
   "cell_type": "code",
   "execution_count": 12,
   "id": "81babcc4",
   "metadata": {},
   "outputs": [
    {
     "data": {
      "text/plain": [
       "(0.9655096003175738, True)"
      ]
     },
     "execution_count": 12,
     "metadata": {},
     "output_type": "execute_result"
    }
   ],
   "source": [
    "#TO check data is stationary or not.\n",
    "from pmdarima.arima import ADFTest\n",
    "adf_test = ADFTest(alpha = 0.05)\n",
    "adf_test.should_diff(df)"
   ]
  },
  {
   "cell_type": "markdown",
   "id": "0388c1d4",
   "metadata": {},
   "source": [
    "* True means our data is not stationary."
   ]
  },
  {
   "cell_type": "markdown",
   "id": "5e5f79a3",
   "metadata": {},
   "source": [
    "# Because we have the daily data so here I am doing defferencing by 30."
   ]
  },
  {
   "cell_type": "markdown",
   "id": "7b91cba7",
   "metadata": {},
   "source": [
    "1.  AR : P (PACF)\n",
    "2.  I  : Differencing D\n",
    "3.  Ma : Q (ACF)\n",
    "\n",
    "So we have d value of 30"
   ]
  },
  {
   "cell_type": "code",
   "execution_count": null,
   "id": "6835031a",
   "metadata": {},
   "outputs": [],
   "source": [
    "#First differencial\n",
    "df['First differencing'] = df['Price'] - df['Price'].shift(30)\n",
    "\n",
    "df.head()"
   ]
  },
  {
   "cell_type": "code",
   "execution_count": null,
   "id": "7ca6941c",
   "metadata": {},
   "outputs": [],
   "source": [
    "#Droping the na values befor doing adfuller test.\n",
    "adf = adfuller(df['First differencing'].dropna())\n",
    "\n",
    "#Here we are getting value of p.\n",
    "p = adf[1]\n",
    "\n",
    "if p > 0.05:\n",
    "    print('Data is not stationary')\n",
    "else:\n",
    "    print('Data is stationary')"
   ]
  },
  {
   "cell_type": "markdown",
   "id": "8374d098",
   "metadata": {},
   "source": [
    "* See now we have stationary data."
   ]
  },
  {
   "cell_type": "markdown",
   "id": "f81c0732",
   "metadata": {},
   "source": [
    "# Let's find other values by PACF and ACF.\n"
   ]
  },
  {
   "cell_type": "code",
   "execution_count": null,
   "id": "2d767da3",
   "metadata": {},
   "outputs": [],
   "source": [
    "from statsmodels.graphics.tsaplots import plot_acf,plot_pacf"
   ]
  },
  {
   "cell_type": "code",
   "execution_count": null,
   "id": "a8f74cff",
   "metadata": {},
   "outputs": [],
   "source": [
    "df.head()"
   ]
  },
  {
   "cell_type": "markdown",
   "id": "573b64d3",
   "metadata": {},
   "source": [
    "# In auto correlation plot how days are correlated with each other.\n",
    "Here we are lokking at how days are correlated with each other."
   ]
  },
  {
   "cell_type": "code",
   "execution_count": null,
   "id": "f5b14b4b",
   "metadata": {},
   "outputs": [],
   "source": [
    "acf = plot_acf(df['First differencing'].dropna())"
   ]
  },
  {
   "cell_type": "markdown",
   "id": "0a4e7dbc",
   "metadata": {},
   "source": [
    "* which data is giving highest differencing.\n",
    "Q is 1"
   ]
  },
  {
   "cell_type": "markdown",
   "id": "128e7f88",
   "metadata": {},
   "source": [
    "* So here we are getting value of Q. = 20\n",
    "* will calculating by the point giving next higher value befor going inside boundary. will conside first point as 0 and start calculating after words."
   ]
  },
  {
   "cell_type": "markdown",
   "id": "c81068aa",
   "metadata": {},
   "source": [
    "# Lets find PACF"
   ]
  },
  {
   "cell_type": "code",
   "execution_count": null,
   "id": "63d22759",
   "metadata": {},
   "outputs": [],
   "source": [
    "pacf = plot_pacf(df['First differencing'].dropna())"
   ]
  },
  {
   "cell_type": "markdown",
   "id": "2d3cb08a",
   "metadata": {},
   "source": [
    "* first will go with p = 1 then try p = 2\n",
    "* closest poing befor start bound in the beggining."
   ]
  },
  {
   "cell_type": "markdown",
   "id": "8b6ad1c8",
   "metadata": {},
   "source": [
    "# Let's do train and test"
   ]
  },
  {
   "cell_type": "code",
   "execution_count": null,
   "id": "8b72a1be",
   "metadata": {},
   "outputs": [],
   "source": [
    "from datetime import datetime,timedelta"
   ]
  },
  {
   "cell_type": "code",
   "execution_count": null,
   "id": "baec577f",
   "metadata": {},
   "outputs": [],
   "source": [
    "train_dataset_end = datetime(2010,12,1)\n",
    "test_dataset_end = datetime(2020,12,1)"
   ]
  },
  {
   "cell_type": "code",
   "execution_count": 21,
   "id": "16e0557b",
   "metadata": {},
   "outputs": [
    {
     "data": {
      "text/plain": [
       "(847, 1)"
      ]
     },
     "execution_count": 21,
     "metadata": {},
     "output_type": "execute_result"
    }
   ],
   "source": [
    "df.shape"
   ]
  },
  {
   "cell_type": "code",
   "execution_count": 29,
   "id": "a0d2856b",
   "metadata": {},
   "outputs": [
    {
     "data": {
      "text/plain": [
       "169"
      ]
     },
     "execution_count": 29,
     "metadata": {},
     "output_type": "execute_result"
    }
   ],
   "source": [
    "\n",
    "(847-678)"
   ]
  },
  {
   "cell_type": "code",
   "execution_count": 61,
   "id": "a995af43",
   "metadata": {},
   "outputs": [],
   "source": [
    "train_data = df[:840]\n",
    "test_data = df[-8:]"
   ]
  },
  {
   "cell_type": "code",
   "execution_count": 62,
   "id": "2f5bb274",
   "metadata": {},
   "outputs": [
    {
     "data": {
      "text/html": [
       "<div>\n",
       "<style scoped>\n",
       "    .dataframe tbody tr th:only-of-type {\n",
       "        vertical-align: middle;\n",
       "    }\n",
       "\n",
       "    .dataframe tbody tr th {\n",
       "        vertical-align: top;\n",
       "    }\n",
       "\n",
       "    .dataframe thead th {\n",
       "        text-align: right;\n",
       "    }\n",
       "</style>\n",
       "<table border=\"1\" class=\"dataframe\">\n",
       "  <thead>\n",
       "    <tr style=\"text-align: right;\">\n",
       "      <th></th>\n",
       "      <th>Price</th>\n",
       "    </tr>\n",
       "    <tr>\n",
       "      <th>Date</th>\n",
       "      <th></th>\n",
       "    </tr>\n",
       "  </thead>\n",
       "  <tbody>\n",
       "    <tr>\n",
       "      <th>1950-01-01</th>\n",
       "      <td>34.73</td>\n",
       "    </tr>\n",
       "    <tr>\n",
       "      <th>1950-02-01</th>\n",
       "      <td>34.73</td>\n",
       "    </tr>\n",
       "    <tr>\n",
       "      <th>1950-03-01</th>\n",
       "      <td>34.73</td>\n",
       "    </tr>\n",
       "    <tr>\n",
       "      <th>1950-04-01</th>\n",
       "      <td>34.73</td>\n",
       "    </tr>\n",
       "    <tr>\n",
       "      <th>1950-05-01</th>\n",
       "      <td>34.73</td>\n",
       "    </tr>\n",
       "  </tbody>\n",
       "</table>\n",
       "</div>"
      ],
      "text/plain": [
       "            Price\n",
       "Date             \n",
       "1950-01-01  34.73\n",
       "1950-02-01  34.73\n",
       "1950-03-01  34.73\n",
       "1950-04-01  34.73\n",
       "1950-05-01  34.73"
      ]
     },
     "execution_count": 62,
     "metadata": {},
     "output_type": "execute_result"
    }
   ],
   "source": [
    "train_data.head()"
   ]
  },
  {
   "cell_type": "code",
   "execution_count": 63,
   "id": "c5f09261",
   "metadata": {},
   "outputs": [
    {
     "data": {
      "text/html": [
       "<div>\n",
       "<style scoped>\n",
       "    .dataframe tbody tr th:only-of-type {\n",
       "        vertical-align: middle;\n",
       "    }\n",
       "\n",
       "    .dataframe tbody tr th {\n",
       "        vertical-align: top;\n",
       "    }\n",
       "\n",
       "    .dataframe thead th {\n",
       "        text-align: right;\n",
       "    }\n",
       "</style>\n",
       "<table border=\"1\" class=\"dataframe\">\n",
       "  <thead>\n",
       "    <tr style=\"text-align: right;\">\n",
       "      <th></th>\n",
       "      <th>Price</th>\n",
       "    </tr>\n",
       "    <tr>\n",
       "      <th>Date</th>\n",
       "      <th></th>\n",
       "    </tr>\n",
       "  </thead>\n",
       "  <tbody>\n",
       "    <tr>\n",
       "      <th>2019-12-01</th>\n",
       "      <td>1480.025</td>\n",
       "    </tr>\n",
       "    <tr>\n",
       "      <th>2020-01-01</th>\n",
       "      <td>1560.668</td>\n",
       "    </tr>\n",
       "    <tr>\n",
       "      <th>2020-02-01</th>\n",
       "      <td>1598.818</td>\n",
       "    </tr>\n",
       "    <tr>\n",
       "      <th>2020-03-01</th>\n",
       "      <td>1593.764</td>\n",
       "    </tr>\n",
       "    <tr>\n",
       "      <th>2020-04-01</th>\n",
       "      <td>1680.030</td>\n",
       "    </tr>\n",
       "  </tbody>\n",
       "</table>\n",
       "</div>"
      ],
      "text/plain": [
       "               Price\n",
       "Date                \n",
       "2019-12-01  1480.025\n",
       "2020-01-01  1560.668\n",
       "2020-02-01  1598.818\n",
       "2020-03-01  1593.764\n",
       "2020-04-01  1680.030"
      ]
     },
     "execution_count": 63,
     "metadata": {},
     "output_type": "execute_result"
    }
   ],
   "source": [
    "test_data.head()"
   ]
  },
  {
   "cell_type": "code",
   "execution_count": 64,
   "id": "0bdc158d",
   "metadata": {},
   "outputs": [
    {
     "data": {
      "text/plain": [
       "<AxesSubplot:xlabel='Date'>"
      ]
     },
     "execution_count": 64,
     "metadata": {},
     "output_type": "execute_result"
    },
    {
     "data": {
      "image/png": "[encoded data removed]",
      "text/plain": [
       "<Figure size 576x396 with 1 Axes>"
      ]
     },
     "metadata": {},
     "output_type": "display_data"
    },
    {
     "data": {
      "image/png": "[encoded data removed]",
      "text/plain": [
       "<Figure size 576x396 with 1 Axes>"
      ]
     },
     "metadata": {},
     "output_type": "display_data"
    }
   ],
   "source": [
    "train_data.plot()\n",
    "test_data.plot()"
   ]
  },
  {
   "cell_type": "code",
   "execution_count": 65,
   "id": "66467051",
   "metadata": {},
   "outputs": [],
   "source": [
    "#Importing model\n",
    "from pmdarima.arima import auto_arima\n",
    "from statsmodels.tsa.arima.model import ARIMA\n",
    "from statsmodels.tsa.statespace.sarimax import SARIMAX"
   ]
  },
  {
   "cell_type": "code",
   "execution_count": 66,
   "id": "6bb67211",
   "metadata": {},
   "outputs": [
    {
     "name": "stdout",
     "output_type": "stream",
     "text": [
      "Performing stepwise search to minimize aic\n",
      " ARIMA(0,1,0)(0,0,0)[0] intercept   : AIC=7743.277, Time=0.03 sec\n",
      " ARIMA(1,1,0)(0,0,0)[0] intercept   : AIC=7706.439, Time=0.05 sec\n",
      " ARIMA(0,1,1)(0,0,0)[0] intercept   : AIC=7699.172, Time=0.17 sec\n",
      " ARIMA(0,1,0)(0,0,0)[0]             : AIC=7745.459, Time=0.02 sec\n",
      " ARIMA(1,1,1)(0,0,0)[0] intercept   : AIC=7694.655, Time=0.21 sec\n",
      " ARIMA(2,1,1)(0,0,0)[0] intercept   : AIC=7690.718, Time=0.40 sec\n",
      " ARIMA(2,1,0)(0,0,0)[0] intercept   : AIC=7699.855, Time=0.13 sec\n",
      " ARIMA(3,1,1)(0,0,0)[0] intercept   : AIC=7691.977, Time=0.57 sec\n",
      " ARIMA(2,1,2)(0,0,0)[0] intercept   : AIC=7694.366, Time=0.74 sec\n",
      " ARIMA(1,1,2)(0,0,0)[0] intercept   : AIC=7690.359, Time=0.40 sec\n",
      " ARIMA(0,1,2)(0,0,0)[0] intercept   : AIC=7697.951, Time=0.26 sec\n",
      " ARIMA(1,1,3)(0,0,0)[0] intercept   : AIC=7692.355, Time=0.57 sec\n",
      " ARIMA(0,1,3)(0,0,0)[0] intercept   : AIC=7699.419, Time=0.29 sec\n",
      " ARIMA(2,1,3)(0,0,0)[0] intercept   : AIC=7692.743, Time=0.80 sec\n",
      " ARIMA(1,1,2)(0,0,0)[0]             : AIC=7691.407, Time=0.15 sec\n",
      "\n",
      "Best model:  ARIMA(1,1,2)(0,0,0)[0] intercept\n",
      "Total fit time: 4.792 seconds\n"
     ]
    }
   ],
   "source": [
    "arima_model = auto_arima(train_data,start_p=0,d=1,start_q=0,\n",
    "                        max_p = 5,max_d = 5, max_q = 5,\n",
    "                        start_P=0,D=1,start_Q=0,\n",
    "                        max_P = 5,max_D = 5, max_Q = 5,\n",
    "                        error_action = 'warn', trace = True,\n",
    "                        supress_warnings = True, stepwise = True,\n",
    "                        random_stats = 20,n_fits = 50, seasonal = False)"
   ]
  },
  {
   "cell_type": "markdown",
   "id": "4125432f",
   "metadata": {},
   "source": [
    "P,d,q\n",
    "\n",
    "* p = 1,2\n",
    "* d = 30\n",
    "* q = 1"
   ]
  },
  {
   "cell_type": "code",
   "execution_count": 67,
   "id": "75c99946",
   "metadata": {},
   "outputs": [
    {
     "data": {
      "text/html": [
       "<table class=\"simpletable\">\n",
       "<caption>SARIMAX Results</caption>\n",
       "<tr>\n",
       "  <th>Dep. Variable:</th>           <td>y</td>        <th>  No. Observations:  </th>    <td>840</td>   \n",
       "</tr>\n",
       "<tr>\n",
       "  <th>Model:</th>           <td>SARIMAX(1, 1, 2)</td> <th>  Log Likelihood     </th> <td>-3840.180</td>\n",
       "</tr>\n",
       "<tr>\n",
       "  <th>Date:</th>            <td>Fri, 05 May 2023</td> <th>  AIC                </th> <td>7690.359</td> \n",
       "</tr>\n",
       "<tr>\n",
       "  <th>Time:</th>                <td>19:57:53</td>     <th>  BIC                </th> <td>7714.020</td> \n",
       "</tr>\n",
       "<tr>\n",
       "  <th>Sample:</th>                  <td>0</td>        <th>  HQIC               </th> <td>7699.428</td> \n",
       "</tr>\n",
       "<tr>\n",
       "  <th></th>                      <td> - 840</td>      <th>                     </th>     <td> </td>    \n",
       "</tr>\n",
       "<tr>\n",
       "  <th>Covariance Type:</th>        <td>opg</td>       <th>                     </th>     <td> </td>    \n",
       "</tr>\n",
       "</table>\n",
       "<table class=\"simpletable\">\n",
       "<tr>\n",
       "      <td></td>         <th>coef</th>     <th>std err</th>      <th>z</th>      <th>P>|z|</th>  <th>[0.025</th>    <th>0.975]</th>  \n",
       "</tr>\n",
       "<tr>\n",
       "  <th>intercept</th> <td>    3.0929</td> <td>    1.873</td> <td>    1.651</td> <td> 0.099</td> <td>   -0.578</td> <td>    6.764</td>\n",
       "</tr>\n",
       "<tr>\n",
       "  <th>ar.L1</th>     <td>   -0.7877</td> <td>    0.055</td> <td>  -14.378</td> <td> 0.000</td> <td>   -0.895</td> <td>   -0.680</td>\n",
       "</tr>\n",
       "<tr>\n",
       "  <th>ma.L1</th>     <td>    1.0391</td> <td>    0.058</td> <td>   17.978</td> <td> 0.000</td> <td>    0.926</td> <td>    1.152</td>\n",
       "</tr>\n",
       "<tr>\n",
       "  <th>ma.L2</th>     <td>    0.1374</td> <td>    0.029</td> <td>    4.724</td> <td> 0.000</td> <td>    0.080</td> <td>    0.194</td>\n",
       "</tr>\n",
       "<tr>\n",
       "  <th>sigma2</th>    <td>  553.4182</td> <td>   10.240</td> <td>   54.045</td> <td> 0.000</td> <td>  533.348</td> <td>  573.488</td>\n",
       "</tr>\n",
       "</table>\n",
       "<table class=\"simpletable\">\n",
       "<tr>\n",
       "  <th>Ljung-Box (L1) (Q):</th>      <td>0.00</td>  <th>  Jarque-Bera (JB):  </th> <td>6794.26</td>\n",
       "</tr>\n",
       "<tr>\n",
       "  <th>Prob(Q):</th>                 <td>0.99</td>  <th>  Prob(JB):          </th>  <td>0.00</td>  \n",
       "</tr>\n",
       "<tr>\n",
       "  <th>Heteroskedasticity (H):</th> <td>418.52</td> <th>  Skew:              </th>  <td>1.06</td>  \n",
       "</tr>\n",
       "<tr>\n",
       "  <th>Prob(H) (two-sided):</th>     <td>0.00</td>  <th>  Kurtosis:          </th>  <td>16.78</td> \n",
       "</tr>\n",
       "</table><br/><br/>Warnings:<br/>[1] Covariance matrix calculated using the outer product of gradients (complex-step)."
      ],
      "text/plain": [
       "<class 'statsmodels.iolib.summary.Summary'>\n",
       "\"\"\"\n",
       "                               SARIMAX Results                                \n",
       "==============================================================================\n",
       "Dep. Variable:                      y   No. Observations:                  840\n",
       "Model:               SARIMAX(1, 1, 2)   Log Likelihood               -3840.180\n",
       "Date:                Fri, 05 May 2023   AIC                           7690.359\n",
       "Time:                        19:57:53   BIC                           7714.020\n",
       "Sample:                             0   HQIC                          7699.428\n",
       "                                - 840                                         \n",
       "Covariance Type:                  opg                                         \n",
       "==============================================================================\n",
       "                 coef    std err          z      P>|z|      [0.025      0.975]\n",
       "------------------------------------------------------------------------------\n",
       "intercept      3.0929      1.873      1.651      0.099      -0.578       6.764\n",
       "ar.L1         -0.7877      0.055    -14.378      0.000      -0.895      -0.680\n",
       "ma.L1          1.0391      0.058     17.978      0.000       0.926       1.152\n",
       "ma.L2          0.1374      0.029      4.724      0.000       0.080       0.194\n",
       "sigma2       553.4182     10.240     54.045      0.000     533.348     573.488\n",
       "===================================================================================\n",
       "Ljung-Box (L1) (Q):                   0.00   Jarque-Bera (JB):              6794.26\n",
       "Prob(Q):                              0.99   Prob(JB):                         0.00\n",
       "Heteroskedasticity (H):             418.52   Skew:                             1.06\n",
       "Prob(H) (two-sided):                  0.00   Kurtosis:                        16.78\n",
       "===================================================================================\n",
       "\n",
       "Warnings:\n",
       "[1] Covariance matrix calculated using the outer product of gradients (complex-step).\n",
       "\"\"\""
      ]
     },
     "execution_count": 67,
     "metadata": {},
     "output_type": "execute_result"
    }
   ],
   "source": [
    "arima_model.summary()"
   ]
  },
  {
   "cell_type": "code",
   "execution_count": 68,
   "id": "ee1aa12f",
   "metadata": {},
   "outputs": [
    {
     "data": {
      "text/html": [
       "<div>\n",
       "<style scoped>\n",
       "    .dataframe tbody tr th:only-of-type {\n",
       "        vertical-align: middle;\n",
       "    }\n",
       "\n",
       "    .dataframe tbody tr th {\n",
       "        vertical-align: top;\n",
       "    }\n",
       "\n",
       "    .dataframe thead th {\n",
       "        text-align: right;\n",
       "    }\n",
       "</style>\n",
       "<table border=\"1\" class=\"dataframe\">\n",
       "  <thead>\n",
       "    <tr style=\"text-align: right;\">\n",
       "      <th></th>\n",
       "      <th>Pred_sales</th>\n",
       "    </tr>\n",
       "    <tr>\n",
       "      <th>Date</th>\n",
       "      <th></th>\n",
       "    </tr>\n",
       "  </thead>\n",
       "  <tbody>\n",
       "    <tr>\n",
       "      <th>2019-12-01</th>\n",
       "      <td>1491.016484</td>\n",
       "    </tr>\n",
       "    <tr>\n",
       "      <th>2020-01-01</th>\n",
       "      <td>1487.852235</td>\n",
       "    </tr>\n",
       "    <tr>\n",
       "      <th>2020-02-01</th>\n",
       "      <td>1493.437508</td>\n",
       "    </tr>\n",
       "    <tr>\n",
       "      <th>2020-03-01</th>\n",
       "      <td>1492.131181</td>\n",
       "    </tr>\n",
       "    <tr>\n",
       "      <th>2020-04-01</th>\n",
       "      <td>1496.253054</td>\n",
       "    </tr>\n",
       "    <tr>\n",
       "      <th>2020-05-01</th>\n",
       "      <td>1496.099381</td>\n",
       "    </tr>\n",
       "    <tr>\n",
       "      <th>2020-06-01</th>\n",
       "      <td>1499.313360</td>\n",
       "    </tr>\n",
       "    <tr>\n",
       "      <th>2020-07-01</th>\n",
       "      <td>1499.874793</td>\n",
       "    </tr>\n",
       "  </tbody>\n",
       "</table>\n",
       "</div>"
      ],
      "text/plain": [
       "             Pred_sales\n",
       "Date                   \n",
       "2019-12-01  1491.016484\n",
       "2020-01-01  1487.852235\n",
       "2020-02-01  1493.437508\n",
       "2020-03-01  1492.131181\n",
       "2020-04-01  1496.253054\n",
       "2020-05-01  1496.099381\n",
       "2020-06-01  1499.313360\n",
       "2020-07-01  1499.874793"
      ]
     },
     "execution_count": 68,
     "metadata": {},
     "output_type": "execute_result"
    }
   ],
   "source": [
    "pred = pd.DataFrame(arima_model.predict(n_periods=8),index= test_data.index)\n",
    "pred.columns = ['Pred_sales']\n",
    "pred"
   ]
  },
  {
   "cell_type": "code",
   "execution_count": 69,
   "id": "d076d0aa",
   "metadata": {},
   "outputs": [
    {
     "data": {
      "image/png": "[encoded data removed]",
      "text/plain": [
       "<Figure size 1152x432 with 1 Axes>"
      ]
     },
     "metadata": {},
     "output_type": "display_data"
    }
   ],
   "source": [
    "plt.figure(figsize=(16,6))\n",
    "plt.plot(train_data,label = 'Training')\n",
    "plt.plot(test_data,label = 'Testing')\n",
    "plt.plot(pred,label = 'Predd')\n",
    "plt.legend()\n",
    "plt.show()"
   ]
  },
  {
   "cell_type": "code",
   "execution_count": 70,
   "id": "2291fffd",
   "metadata": {},
   "outputs": [
    {
     "data": {
      "text/plain": [
       "-2.0675105953410466"
      ]
     },
     "execution_count": 70,
     "metadata": {},
     "output_type": "execute_result"
    }
   ],
   "source": [
    "from sklearn.metrics import r2_score\n",
    "test_data['Pred_sales'] = pred\n",
    "r2_score(test_data['Price'],test_data['Pred_sales'])"
   ]
  },
  {
   "cell_type": "code",
   "execution_count": null,
   "id": "08bc14a2",
   "metadata": {},
   "outputs": [],
   "source": []
  },
  {
   "cell_type": "code",
   "execution_count": null,
   "id": "8c4d5023",
   "metadata": {},
   "outputs": [],
   "source": []
  }
 ],
 "metadata": {
  "kernelspec": {
   "display_name": "Python 3 (ipykernel)",
   "language": "python",
   "name": "python3"
  },
  "language_info": {
   "codemirror_mode": {
    "name": "ipython",
    "version": 3
   },
   "file_extension": ".py",
   "mimetype": "text/x-python",
   "name": "python",
   "nbconvert_exporter": "python",
   "pygments_lexer": "ipython3",
   "version": "3.9.7"
  }
 },
 "nbformat": 4,
 "nbformat_minor": 5
}
