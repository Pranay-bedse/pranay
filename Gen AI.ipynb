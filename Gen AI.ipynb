{
 "cells": [
  {
   "cell_type": "code",
   "execution_count": 11,
   "id": "9d4f6920",
   "metadata": {},
   "outputs": [],
   "source": [
    "import os\n",
    "import openai\n",
    "import tiktoken\n",
    "from dotenv import load_dotenv,find_dotenv\n",
    "_ = load_dotenv(find_dotenv())"
   ]
  },
  {
   "cell_type": "code",
   "execution_count": 13,
   "id": "7f814c50",
   "metadata": {},
   "outputs": [
    {
     "ename": "KeyError",
     "evalue": "''",
     "output_type": "error",
     "traceback": [
      "\u001b[1;31m---------------------------------------------------------------------------\u001b[0m",
      "\u001b[1;31mKeyError\u001b[0m                                  Traceback (most recent call last)",
      "Cell \u001b[1;32mIn[13], line 1\u001b[0m\n\u001b[1;32m----> 1\u001b[0m openai\u001b[38;5;241m.\u001b[39mapi_key \u001b[38;5;241m=\u001b[39m os\u001b[38;5;241m.\u001b[39menviron[\u001b[38;5;124m'\u001b[39m\u001b[38;5;124m'\u001b[39m]\n",
      "File \u001b[1;32m<frozen os>:679\u001b[0m, in \u001b[0;36m__getitem__\u001b[1;34m(self, key)\u001b[0m\n",
      "\u001b[1;31mKeyError\u001b[0m: ''"
     ]
    }
   ],
   "source": [
    "openai.api_key = os.environ['']"
   ]
  },
  {
   "cell_type": "code",
   "execution_count": 14,
   "id": "5ec40aae",
   "metadata": {},
   "outputs": [],
   "source": [
    "def get_completion(prompt, model=\"gpt-3.5-turbo\"):\n",
    "    messages = [{\"role\": \"user\", \"content\": prompt}]\n",
    "    response = openai.ChatCompletion.create(\n",
    "        model=model,\n",
    "        messages=messages,\n",
    "        temperature=0,\n",
    "    )\n",
    "    return response.choices[0].message[\"content\"]"
   ]
  },
  {
   "cell_type": "code",
   "execution_count": 18,
   "id": "6820b7b2",
   "metadata": {},
   "outputs": [],
   "source": [
    "#response = get_completion(\"What is the capital of France?\")\n",
    "#print(response)"
   ]
  },
  {
   "cell_type": "code",
   "execution_count": null,
   "id": "9fa1c576",
   "metadata": {},
   "outputs": [],
   "source": []
  },
  {
   "cell_type": "code",
   "execution_count": 16,
   "id": "a95cf370",
   "metadata": {},
   "outputs": [],
   "source": [
    "def get_completion_from_messages(messages, \n",
    "                                 model=\"gpt-3.5-turbo\", \n",
    "                                 temperature=0, \n",
    "                                 max_tokens=500):\n",
    "    response = openai.ChatCompletion.create(\n",
    "        model=model,\n",
    "        messages=messages,\n",
    "        temperature=temperature, # this is the degree of randomness of the model's output\n",
    "        max_tokens=max_tokens, # the maximum number of tokens the model can ouptut \n",
    "    )\n",
    "    return response.choices[0].message[\"content\"]"
   ]
  },
  {
   "cell_type": "code",
   "execution_count": 21,
   "id": "7572eb0a",
   "metadata": {},
   "outputs": [],
   "source": [
    "messages =  [  \n",
    "{'role':'system', \n",
    " 'content':\"\"\"You are an assistant who\\\n",
    " responds in the style of Dr Seuss.\"\"\"},    \n",
    "{'role':'user', \n",
    " 'content':\"\"\"write me a very short poem\\\n",
    " about a happy carrot\"\"\"},  \n",
    "] \n",
    "#response = get_completion_from_messages(messages, temperature=1)\n",
    "# print(response)"
   ]
  },
  {
   "cell_type": "code",
   "execution_count": null,
   "id": "bbe088e4",
   "metadata": {},
   "outputs": [],
   "source": []
  },
  {
   "cell_type": "code",
   "execution_count": null,
   "id": "6550875d",
   "metadata": {},
   "outputs": [],
   "source": []
  },
  {
   "cell_type": "code",
   "execution_count": null,
   "id": "d7fdf9ab",
   "metadata": {},
   "outputs": [],
   "source": []
  },
  {
   "cell_type": "code",
   "execution_count": null,
   "id": "84dde15d",
   "metadata": {},
   "outputs": [],
   "source": []
  },
  {
   "cell_type": "markdown",
   "id": "f09e4903",
   "metadata": {},
   "source": [
    "## Classification "
   ]
  },
  {
   "cell_type": "code",
   "execution_count": 25,
   "id": "0f8d209f",
   "metadata": {},
   "outputs": [],
   "source": [
    "import os\n",
    "import openai\n",
    "from dotenv import load_dotenv, find_dotenv\n",
    "_ = load_dotenv(find_dotenv()) # read local .env file\n",
    "\n",
    "#openai.api_key  = os.environ['']"
   ]
  },
  {
   "cell_type": "code",
   "execution_count": 26,
   "id": "40a97be8",
   "metadata": {},
   "outputs": [],
   "source": [
    "def get_completion_from_messages(messages, \n",
    "                                 model=\"gpt-3.5-turbo\", \n",
    "                                 temperature=0, \n",
    "                                 max_tokens=500):\n",
    "    response = openai.ChatCompletion.create(\n",
    "        model=model,\n",
    "        messages=messages,\n",
    "        temperature=temperature, \n",
    "        max_tokens=max_tokens,\n",
    "    )\n",
    "    return response.choices[0].message[\"content\"]"
   ]
  },
  {
   "cell_type": "code",
   "execution_count": 27,
   "id": "568a3981",
   "metadata": {},
   "outputs": [],
   "source": [
    "delimiter = \"####\"\n",
    "system_message = f\"\"\"\n",
    "You will be provided with customer service queries. \\\n",
    "The customer service query will be delimited with \\\n",
    "{delimiter} characters.\n",
    "Classify each query into a primary category \\\n",
    "and a secondary category. \n",
    "Provide your output in json format with the \\\n",
    "keys: primary and secondary.\n",
    "\n",
    "Primary categories: Billing, Technical Support, \\\n",
    "Account Management, or General Inquiry.\n",
    "\n",
    "Billing secondary categories:\n",
    "Unsubscribe or upgrade\n",
    "Add a payment method\n",
    "Explanation for charge\n",
    "Dispute a charge\n",
    "\n",
    "Technical Support secondary categories:\n",
    "General troubleshooting\n",
    "Device compatibility\n",
    "Software updates\n",
    "\n",
    "Account Management secondary categories:\n",
    "Password reset\n",
    "Update personal information\n",
    "Close account\n",
    "Account security\n",
    "\n",
    "General Inquiry secondary categories:\n",
    "Product information\n",
    "Pricing\n",
    "Feedback\n",
    "Speak to a human\n",
    "\n",
    "\"\"\""
   ]
  },
  {
   "cell_type": "code",
   "execution_count": 28,
   "id": "98a3a5fa",
   "metadata": {},
   "outputs": [],
   "source": [
    "user_message = f\"\"\"\\\n",
    "I want you to delete my profile and all of my user data\"\"\""
   ]
  },
  {
   "cell_type": "code",
   "execution_count": 30,
   "id": "5d2bc1d4",
   "metadata": {},
   "outputs": [],
   "source": [
    "messages =  [  \n",
    "{'role':'system', \n",
    " 'content': system_message},    \n",
    "{'role':'user', \n",
    " 'content': f\"{delimiter}{user_message}{delimiter}\"},  \n",
    "] "
   ]
  },
  {
   "cell_type": "code",
   "execution_count": 31,
   "id": "7a257706",
   "metadata": {},
   "outputs": [],
   "source": [
    "# response = get_completion_from_messages(messages)\n",
    "# print(response)"
   ]
  },
  {
   "cell_type": "code",
   "execution_count": null,
   "id": "efaea47d",
   "metadata": {},
   "outputs": [],
   "source": []
  },
  {
   "cell_type": "code",
   "execution_count": null,
   "id": "5b7a7cfa",
   "metadata": {},
   "outputs": [],
   "source": []
  },
  {
   "cell_type": "markdown",
   "id": "1c30ebe9",
   "metadata": {},
   "source": [
    "# Promt Engineering."
   ]
  },
  {
   "cell_type": "code",
   "execution_count": 3,
   "id": "bfcca6ea",
   "metadata": {},
   "outputs": [],
   "source": [
    "import openai\n",
    "import os\n",
    "\n",
    "from dotenv import load_dotenv, find_dotenv\n",
    "_ = load_dotenv(find_dotenv())\n",
    "\n",
    "openai.api_key  = os.getenv('OPENAI_API_KEY')"
   ]
  },
  {
   "cell_type": "code",
   "execution_count": 4,
   "id": "34a297dc",
   "metadata": {},
   "outputs": [],
   "source": [
    "def get_completion(prompt, model=\"gpt-3.5-turbo\"):\n",
    "    messages = [{\"role\": \"user\", \"content\": prompt}]\n",
    "    response = openai.ChatCompletion.create(\n",
    "        model=model,\n",
    "        messages=messages,\n",
    "        temperature=0, # this is the degree of randomness of the model's output\n",
    "    )\n",
    "    return response.choices[0].message[\"content\"]"
   ]
  },
  {
   "cell_type": "markdown",
   "id": "e3e96bdb",
   "metadata": {},
   "source": [
    "## Prompting Principles\n",
    "- **Principle 1: Write clear and specific instructions**\n",
    "- **Principle 2: Give the model time to “think”**\n",
    "\n",
    "### Tactics\n",
    "\n",
    "#### Tactic 1: Use delimiters to clearly indicate distinct parts of the input\n",
    "- Delimiters can be anything like: ```, \"\"\", < >, `<tag> </tag>`, `:`"
   ]
  },
  {
   "cell_type": "code",
   "execution_count": 6,
   "id": "021d064c",
   "metadata": {},
   "outputs": [],
   "source": [
    "# prompt = f\"\"\"\n",
    "# Summarize the text delimited by triple backticks \\ \n",
    "# into a single sentence.\n",
    "# ```{text}```\n",
    "# \"\"\""
   ]
  },
  {
   "cell_type": "markdown",
   "id": "5e6eb250",
   "metadata": {},
   "source": [
    "#### Tactic 2: Ask for a structured output\n",
    "- JSON, HTML"
   ]
  },
  {
   "cell_type": "code",
   "execution_count": 5,
   "id": "6dba3cf5",
   "metadata": {},
   "outputs": [],
   "source": [
    "# prompt = f\"\"\"\n",
    "# Generate a list of three made-up book titles along \\ \n",
    "# with their authors and genres. \n",
    "# Provide them in JSON format with the following keys: \n",
    "# book_id, title, author, genre.\n",
    "# \"\"\"\n",
    "# response = get_completion(prompt)\n",
    "# print(response)"
   ]
  },
  {
   "cell_type": "markdown",
   "id": "46cd212c",
   "metadata": {},
   "source": [
    "#### Tactic 3: Ask the model to check whether conditions are satisfied"
   ]
  },
  {
   "cell_type": "code",
   "execution_count": 7,
   "id": "0191bb51",
   "metadata": {},
   "outputs": [],
   "source": [
    "# prompt = f\"\"\"\n",
    "# You will be provided with text delimited by triple quotes. \n",
    "# If it contains a sequence of instructions, \\ \n",
    "# re-write those instructions in the following format:\n",
    "\n",
    "# Step 1 - ...\n",
    "# Step 2 - …\n",
    "# …\n",
    "# Step N - …\n",
    "\n",
    "# If the text does not contain a sequence of instructions, \\ \n",
    "# then simply write \\\"No steps provided.\\\"\n",
    "\n",
    "# \\\"\\\"\\\"{text_1}\\\"\\\"\\\"\n",
    "# \"\"\""
   ]
  },
  {
   "cell_type": "markdown",
   "id": "16302740",
   "metadata": {},
   "source": [
    "#### Tactic 4: \"Few-shot\" promptingm"
   ]
  },
  {
   "cell_type": "code",
   "execution_count": null,
   "id": "1eb10098",
   "metadata": {},
   "outputs": [],
   "source": []
  },
  {
   "cell_type": "markdown",
   "id": "42b517e7",
   "metadata": {},
   "source": [
    "### Principle 2: Give the model time to “think” \n",
    "\n",
    "#### Tactic 1: Specify the steps required to complete a task"
   ]
  },
  {
   "cell_type": "code",
   "execution_count": null,
   "id": "e372f30d",
   "metadata": {},
   "outputs": [],
   "source": [
    "# example 1\n",
    "prompt_1 = f\"\"\"\n",
    "Perform the following actions: \n",
    "1 - Summarize the following text delimited by triple \\\n",
    "backticks with 1 sentence.\n",
    "2 - Translate the summary into French.\n",
    "3 - List each name in the French summary.\n",
    "4 - Output a json object that contains the following \\\n",
    "keys: french_summary, num_names.\n",
    "\n",
    "Separate your answers with line breaks.\n",
    "\n",
    "Text:\n",
    "```{text}```\n",
    "\"\"\""
   ]
  },
  {
   "cell_type": "markdown",
   "id": "b6bb9274",
   "metadata": {},
   "source": [
    "#### Ask for output in a specified format"
   ]
  },
  {
   "cell_type": "code",
   "execution_count": 11,
   "id": "1bbe47b4",
   "metadata": {},
   "outputs": [],
   "source": [
    "# prompt_2 = f\"\"\"\n",
    "# Your task is to perform the following actions: \n",
    "# 1 - Summarize the following text delimited by \n",
    "#   <> with 1 sentence.\n",
    "# 2 - Translate the summary into French.\n",
    "# 3 - List each name in the French summary.\n",
    "# 4 - Output a json object that contains the \n",
    "#   following keys: french_summary, num_names.\n",
    "\n",
    "# Use the following format:\n",
    "# Text: <text to summarize>\n",
    "# Summary: <summary>\n",
    "# Translation: <summary translation>\n",
    "# Names: <list of names in Italian summary>\n",
    "# Output JSON: <json with summary and num_names>\n",
    "\n",
    "# Text: <{text}>\n",
    "# \"\"\""
   ]
  },
  {
   "cell_type": "markdown",
   "id": "bbdaafa7",
   "metadata": {},
   "source": [
    "#### Tactic 2: Instruct the model to work out its own solution before rushing to a conclusion"
   ]
  },
  {
   "cell_type": "code",
   "execution_count": 12,
   "id": "86ed049e",
   "metadata": {},
   "outputs": [],
   "source": [
    "# prompt = f\"\"\"\n",
    "# Your task is to determine if the student's solution \\\n",
    "# is correct or not.\n",
    "# To solve the problem do the following:\n",
    "# - First, work out your own solution to the problem. \n",
    "# - Then compare your solution to the student's solution \\ \n",
    "# and evaluate if the student's solution is correct or not. \n",
    "# Don't decide if the student's solution is correct until \n",
    "# you have done the problem yourself.\n",
    "\n",
    "# Use the following format:\n",
    "# Question:\n",
    "# ```\n",
    "# question here\n",
    "# ```\n",
    "# Student's solution:\n",
    "# ```\n",
    "# student's solution here\n",
    "# ```\n",
    "# Actual solution:\n",
    "# ```\n",
    "# steps to work out the solution and your solution here\n",
    "# ```\n",
    "# Is the student's solution the same as actual solution \\\n",
    "# just calculated:\n",
    "# ```\n",
    "# yes or no\n",
    "# ```\n",
    "# Student grade:\n",
    "# ```\n",
    "# correct or incorrect\n",
    "# ```\n",
    "\n",
    "# Question:\n",
    "# ```\n",
    "# I'm building a solar power installation and I need help \\\n",
    "# working out the financials. \n",
    "# - Land costs $100 / square foot\n",
    "# - I can buy solar panels for $250 / square foot\n",
    "# - I negotiated a contract for maintenance that will cost \\\n",
    "# me a flat $100k per year, and an additional $10 / square \\\n",
    "# foot\n",
    "# What is the total cost for the first year of operations \\\n",
    "# as a function of the number of square feet.\n",
    "# ``` \n",
    "# Student's solution:\n",
    "# ```\n",
    "# Let x be the size of the installation in square feet.\n",
    "# Costs:\n",
    "# 1. Land cost: 100x\n",
    "# 2. Solar panel cost: 250x\n",
    "# 3. Maintenance cost: 100,000 + 100x\n",
    "# Total cost: 100x + 250x + 100,000 + 100x = 450x + 100,000\n",
    "# ```\n",
    "# Actual solution:\n",
    "# \"\"\"\n",
    "# response = get_completion(prompt)\n",
    "# print(response)"
   ]
  },
  {
   "cell_type": "code",
   "execution_count": null,
   "id": "30775af4",
   "metadata": {},
   "outputs": [],
   "source": []
  },
  {
   "cell_type": "markdown",
   "id": "5c5e3d78",
   "metadata": {},
   "source": [
    "# Iterative Prompt development"
   ]
  },
  {
   "cell_type": "markdown",
   "id": "20d91784",
   "metadata": {},
   "source": [
    "#### Keep Imporve ur prompt to get more amount on information"
   ]
  },
  {
   "cell_type": "code",
   "execution_count": 13,
   "id": "22365953",
   "metadata": {},
   "outputs": [],
   "source": [
    "# prompt = f\"\"\"\n",
    "# Your task is to help a marketing team create a \n",
    "# description for a retail website of a product based \n",
    "# on a technical fact sheet.\n",
    "\n",
    "# Write a product description based on the information \n",
    "# provided in the technical specifications delimited by \n",
    "# triple backticks.\n",
    "\n",
    "# Use at most 50 words.\n",
    "\n",
    "# Technical specifications: ```{fact_sheet_chair}```\n",
    "# \"\"\"\n",
    "# response = get_completion(prompt)\n",
    "# print(response)\n"
   ]
  },
  {
   "cell_type": "code",
   "execution_count": 14,
   "id": "16ff7496",
   "metadata": {},
   "outputs": [],
   "source": [
    "# prompt = f\"\"\"\n",
    "# Your task is to help a marketing team create a \n",
    "# description for a retail website of a product based \n",
    "# on a technical fact sheet.\n",
    "\n",
    "# Write a product description based on the information \n",
    "# provided in the technical specifications delimited by \n",
    "# triple backticks.\n",
    "\n",
    "# The description is intended for furniture retailers, \n",
    "# so should be technical in nature and focus on the \n",
    "# materials the product is constructed from.\n",
    "\n",
    "# Use at most 50 words.\n",
    "\n",
    "# Technical specifications: ```{fact_sheet_chair}```\n",
    "# \"\"\"\n",
    "# response = get_completion(prompt)\n",
    "# print(response)"
   ]
  },
  {
   "cell_type": "code",
   "execution_count": 15,
   "id": "613280a9",
   "metadata": {},
   "outputs": [],
   "source": [
    "# prompt = f\"\"\"\n",
    "# Your task is to help a marketing team create a \n",
    "# description for a retail website of a product based \n",
    "# on a technical fact sheet.\n",
    "\n",
    "# Write a product description based on the information \n",
    "# provided in the technical specifications delimited by \n",
    "# triple backticks.\n",
    "\n",
    "# The description is intended for furniture retailers, \n",
    "# so should be technical in nature and focus on the \n",
    "# materials the product is constructed from.\n",
    "\n",
    "# At the end of the description, include every 7-character \n",
    "# Product ID in the technical specification.\n",
    "\n",
    "# Use at most 50 words.\n",
    "\n",
    "# Technical specifications: ```{fact_sheet_chair}```\n",
    "# \"\"\"\n",
    "# response = get_completion(prompt)\n",
    "# print(response)"
   ]
  },
  {
   "cell_type": "code",
   "execution_count": 16,
   "id": "2c9e0dde",
   "metadata": {},
   "outputs": [],
   "source": [
    "# prompt = f\"\"\"\n",
    "# Your task is to help a marketing team create a \n",
    "# description for a retail website of a product based \n",
    "# on a technical fact sheet.\n",
    "\n",
    "# Write a product description based on the information \n",
    "# provided in the technical specifications delimited by \n",
    "# triple backticks.\n",
    "\n",
    "# The description is intended for furniture retailers, \n",
    "# so should be technical in nature and focus on the \n",
    "# materials the product is constructed from.\n",
    "\n",
    "# At the end of the description, include every 7-character \n",
    "# Product ID in the technical specification.\n",
    "\n",
    "# After the description, include a table that gives the \n",
    "# product's dimensions. The table should have two columns.\n",
    "# In the first column include the name of the dimension. \n",
    "# In the second column include the measurements in inches only.\n",
    "\n",
    "# Give the table the title 'Product Dimensions'.\n",
    "\n",
    "# Format everything as HTML that can be used in a website. \n",
    "# Place the description in a <div> element.\n",
    "\n",
    "# Technical specifications: ```{fact_sheet_chair}```\n",
    "# \"\"\"\n",
    "\n",
    "# response = get_completion(prompt)\n",
    "# print(response)"
   ]
  },
  {
   "cell_type": "code",
   "execution_count": 17,
   "id": "0307f59d",
   "metadata": {},
   "outputs": [],
   "source": [
    "# from IPython.display import display, HTML\n",
    "# display(HTML(response))"
   ]
  },
  {
   "cell_type": "code",
   "execution_count": null,
   "id": "cc58246e",
   "metadata": {},
   "outputs": [],
   "source": []
  },
  {
   "cell_type": "code",
   "execution_count": null,
   "id": "43c18572",
   "metadata": {},
   "outputs": [],
   "source": []
  },
  {
   "cell_type": "code",
   "execution_count": null,
   "id": "b120be17",
   "metadata": {},
   "outputs": [],
   "source": []
  },
  {
   "cell_type": "markdown",
   "id": "cb8c13cf",
   "metadata": {},
   "source": [
    "# Text Summarization"
   ]
  },
  {
   "cell_type": "code",
   "execution_count": 18,
   "id": "bdc8d780",
   "metadata": {},
   "outputs": [],
   "source": [
    "# prompt = f\"\"\"\n",
    "# Your task is to generate a short summary of a product \\\n",
    "# review from an ecommerce site. \n",
    "\n",
    "# Summarize the review below, delimited by triple \n",
    "# backticks, in at most 30 words. \n",
    "\n",
    "# Review: ```{prod_review}```\n",
    "# \"\"\"\n",
    "\n",
    "# response = get_completion(prompt)\n",
    "# print(response)\n"
   ]
  },
  {
   "cell_type": "code",
   "execution_count": 19,
   "id": "fb765088",
   "metadata": {},
   "outputs": [],
   "source": [
    "# prompt = f\"\"\"\n",
    "# Your task is to generate a short summary of a product \\\n",
    "# review from an ecommerce site to give feedback to the \\\n",
    "# Shipping deparmtment. \n",
    "\n",
    "# Summarize the review below, delimited by triple \n",
    "# backticks, in at most 30 words, and focusing on any aspects \\\n",
    "# that mention shipping and delivery of the product. \n",
    "\n",
    "# Review: ```{prod_review}```\n",
    "# \"\"\"\n",
    "\n",
    "# response = get_completion(prompt)\n",
    "# print(response)\n"
   ]
  },
  {
   "cell_type": "code",
   "execution_count": null,
   "id": "5b1b7fef",
   "metadata": {},
   "outputs": [],
   "source": []
  },
  {
   "cell_type": "code",
   "execution_count": 22,
   "id": "e151a5e0",
   "metadata": {},
   "outputs": [],
   "source": [
    "\n",
    "# review_1 = prod_review \n",
    "\n",
    "# # review for a standing lamp\n",
    "# review_2 = \"\"\"\n",
    "# Needed a nice lamp for my bedroom, and this one \\\n",
    "# had additional storage and not too high of a price \\\n",
    "# point. Got it fast - arrived in 2 days. The string \\\n",
    "# to the lamp broke during the transit and the company \\\n",
    "# happily sent over a new one. Came within a few days \\\n",
    "# as well. It was easy to put together. Then I had a \\\n",
    "# missing part, so I contacted their support and they \\\n",
    "# very quickly got me the missing piece! Seems to me \\\n",
    "# to be a great company that cares about their customers \\\n",
    "# and products. \n",
    "# \"\"\"\n",
    "\n",
    "# # review for an electric toothbrush\n",
    "# review_3 = \"\"\"\n",
    "# My dental hygienist recommended an electric toothbrush, \\\n",
    "# which is why I got this. The battery life seems to be \\\n",
    "# pretty impressive so far. After initial charging and \\\n",
    "# leaving the charger plugged in for the first week to \\\n",
    "# condition the battery, I've unplugged the charger and \\\n",
    "# been using it for twice daily brushing for the last \\\n",
    "# 3 weeks all on the same charge. But the toothbrush head \\\n",
    "# is too small. I’ve seen baby toothbrushes bigger than \\\n",
    "# this one. I wish the head was bigger with different \\\n",
    "# length bristles to get between teeth better because \\\n",
    "# this one doesn’t.  Overall if you can get this one \\\n",
    "# around the $50 mark, it's a good deal. The manufactuer's \\\n",
    "# replacements heads are pretty expensive, but you can \\\n",
    "# get generic ones that're more reasonably priced. This \\\n",
    "# toothbrush makes me feel like I've been to the dentist \\\n",
    "# every day. My teeth feel sparkly clean! \n",
    "# \"\"\"\n",
    "\n",
    "# # review for a blender\n",
    "# review_4 = \"\"\"\n",
    "# So, they still had the 17 piece system on seasonal \\\n",
    "# sale for around $49 in the month of November, about \\\n",
    "# half off, but for some reason (call it price gouging) \\\n",
    "# around the second week of December the prices all went \\\n",
    "# up to about anywhere from between $70-$89 for the same \\\n",
    "# system. And the 11 piece system went up around $10 or \\\n",
    "# so in price also from the earlier sale price of $29. \\\n",
    "# So it looks okay, but if you look at the base, the part \\\n",
    "# where the blade locks into place doesn’t look as good \\\n",
    "# as in previous editions from a few years ago, but I \\\n",
    "# plan to be very gentle with it (example, I crush \\\n",
    "# very hard items like beans, ice, rice, etc. in the \\ \n",
    "# blender first then pulverize them in the serving size \\\n",
    "# I want in the blender then switch to the whipping \\\n",
    "# blade for a finer flour, and use the cross cutting blade \\\n",
    "# first when making smoothies, then use the flat blade \\\n",
    "# if I need them finer/less pulpy). Special tip when making \\\n",
    "# smoothies, finely cut and freeze the fruits and \\\n",
    "# vegetables (if using spinach-lightly stew soften the \\ \n",
    "# spinach then freeze until ready for use-and if making \\\n",
    "# sorbet, use a small to medium sized food processor) \\ \n",
    "# that you plan to use that way you can avoid adding so \\\n",
    "# much ice if at all-when making your smoothie. \\\n",
    "# After about a year, the motor was making a funny noise. \\\n",
    "# I called customer service but the warranty expired \\\n",
    "# already, so I had to buy another one. FYI: The overall \\\n",
    "# quality has gone done in these types of products, so \\\n",
    "# they are kind of counting on brand recognition and \\\n",
    "# consumer loyalty to maintain sales. Got it in about \\\n",
    "# two days.\n",
    "# \"\"\"\n",
    "\n",
    "# reviews = [review_1, review_2, review_3, review_4]\n",
    "\n"
   ]
  },
  {
   "cell_type": "code",
   "execution_count": 23,
   "id": "51d32af6",
   "metadata": {},
   "outputs": [],
   "source": [
    "# for i in range(len(reviews)):\n",
    "#     prompt = f\"\"\"\n",
    "#     Your task is to generate a short summary of a product \\ \n",
    "#     review from an ecommerce site. \n",
    "\n",
    "#     Summarize the review below, delimited by triple \\\n",
    "#     backticks in at most 20 words. \n",
    "\n",
    "#     Review: ```{reviews[i]}```\n",
    "#     \"\"\"\n",
    "\n",
    "#     response = get_completion(prompt)\n",
    "#     print(i, response, \"\\n\")\n"
   ]
  },
  {
   "cell_type": "code",
   "execution_count": null,
   "id": "2a07e143",
   "metadata": {},
   "outputs": [],
   "source": []
  },
  {
   "cell_type": "code",
   "execution_count": null,
   "id": "7551de08",
   "metadata": {},
   "outputs": [],
   "source": []
  },
  {
   "cell_type": "markdown",
   "id": "67d5b0c7",
   "metadata": {},
   "source": [
    "# Inferencing"
   ]
  },
  {
   "cell_type": "markdown",
   "id": "8dbc4147",
   "metadata": {},
   "source": [
    "#### Sentiment (positive/negative)"
   ]
  },
  {
   "cell_type": "code",
   "execution_count": 24,
   "id": "eada37de",
   "metadata": {},
   "outputs": [],
   "source": [
    "# prompt = f\"\"\"\n",
    "# What is the sentiment of the following product review, \n",
    "# which is delimited with triple backticks?\n",
    "\n",
    "# Give your answer as a single word, either \"positive\" \\\n",
    "# or \"negative\".\n",
    "\n",
    "# Review text: '''{lamp_review}'''\n",
    "# \"\"\"\n",
    "# response = get_completion(prompt)\n",
    "# print(response)"
   ]
  },
  {
   "cell_type": "markdown",
   "id": "7078881e",
   "metadata": {},
   "source": [
    "## Identify types of emotions"
   ]
  },
  {
   "cell_type": "code",
   "execution_count": 25,
   "id": "9c5e2ff4",
   "metadata": {},
   "outputs": [],
   "source": [
    "\n",
    "# prompt = f\"\"\"\n",
    "# Identify a list of emotions that the writer of the \\\n",
    "# following review is expressing. Include no more than \\\n",
    "# five items in the list. Format your answer as a list of \\\n",
    "# lower-case words separated by commas.\n",
    "\n",
    "# Review text: '''{lamp_review}'''\n",
    "# \"\"\"\n",
    "# response = get_completion(prompt)\n",
    "# print(response)"
   ]
  },
  {
   "cell_type": "markdown",
   "id": "ad6b88eb",
   "metadata": {},
   "source": [
    "## Identify anger"
   ]
  },
  {
   "cell_type": "code",
   "execution_count": 26,
   "id": "04619a1a",
   "metadata": {},
   "outputs": [],
   "source": [
    "# prompt = f\"\"\"\n",
    "# Is the writer of the following review expressing anger?\\\n",
    "# The review is delimited with triple backticks. \\\n",
    "# Give your answer as either yes or no.\n",
    "\n",
    "# Review text: '''{lamp_review}'''\n",
    "# \"\"\"\n",
    "# response = get_completion(prompt)\n",
    "# print(response)"
   ]
  },
  {
   "cell_type": "markdown",
   "id": "6d487b27",
   "metadata": {},
   "source": [
    "## Extract product and company name from customer reviews"
   ]
  },
  {
   "cell_type": "code",
   "execution_count": 27,
   "id": "83281397",
   "metadata": {},
   "outputs": [],
   "source": [
    "# prompt = f\"\"\"\n",
    "# Identify the following items from the review text: \n",
    "# - Item purchased by reviewer\n",
    "# - Company that made the item\n",
    "\n",
    "# The review is delimited with triple backticks. \\\n",
    "# Format your response as a JSON object with \\\n",
    "# \"Item\" and \"Brand\" as the keys. \n",
    "# If the information isn't present, use \"unknown\" \\\n",
    "# as the value.\n",
    "# Make your response as short as possible.\n",
    "  \n",
    "# Review text: '''{lamp_review}'''\n",
    "# \"\"\"\n",
    "# response = get_completion(prompt)\n",
    "# print(response)"
   ]
  },
  {
   "cell_type": "markdown",
   "id": "ceec05a2",
   "metadata": {},
   "source": [
    "## Doing multiple tasks at once"
   ]
  },
  {
   "cell_type": "code",
   "execution_count": 28,
   "id": "ae0d8c96",
   "metadata": {},
   "outputs": [],
   "source": [
    "# prompt = f\"\"\"\n",
    "# Identify the following items from the review text: \n",
    "# - Sentiment (positive or negative)\n",
    "# - Is the reviewer expressing anger? (true or false)\n",
    "# - Item purchased by reviewer\n",
    "# - Company that made the item\n",
    "\n",
    "# The review is delimited with triple backticks. \\\n",
    "# Format your response as a JSON object with \\\n",
    "# \"Sentiment\", \"Anger\", \"Item\" and \"Brand\" as the keys.\n",
    "# If the information isn't present, use \"unknown\" \\\n",
    "# as the value.\n",
    "# Make your response as short as possible.\n",
    "# Format the Anger value as a boolean.\n",
    "\n",
    "# Review text: '''{lamp_review}'''\n",
    "# \"\"\"\n",
    "# response = get_completion(prompt)\n",
    "# print(response)"
   ]
  },
  {
   "cell_type": "markdown",
   "id": "b5439065",
   "metadata": {},
   "source": [
    "# Taking out important detail form text"
   ]
  },
  {
   "cell_type": "code",
   "execution_count": 29,
   "id": "68f210c4",
   "metadata": {},
   "outputs": [],
   "source": [
    "story = \"\"\"\n",
    "In a recent survey conducted by the government, \n",
    "public sector employees were asked to rate their level \n",
    "of satisfaction with the department they work at. \n",
    "The results revealed that NASA was the most popular \n",
    "department with a satisfaction rating of 95%.\n",
    "\n",
    "One NASA employee, John Smith, commented on the findings, \n",
    "stating, \"I'm not surprised that NASA came out on top. \n",
    "It's a great place to work with amazing people and \n",
    "incredible opportunities. I'm proud to be a part of \n",
    "such an innovative organization.\"\n",
    "\n",
    "The results were also welcomed by NASA's management team, \n",
    "with Director Tom Johnson stating, \"We are thrilled to \n",
    "hear that our employees are satisfied with their work at NASA. \n",
    "We have a talented and dedicated team who work tirelessly \n",
    "to achieve our goals, and it's fantastic to see that their \n",
    "hard work is paying off.\"\n",
    "\n",
    "The survey also revealed that the \n",
    "Social Security Administration had the lowest satisfaction \n",
    "rating, with only 45% of employees indicating they were \n",
    "satisfied with their job. The government has pledged to \n",
    "address the concerns raised by employees in the survey and \n",
    "work towards improving job satisfaction across all departments.\n",
    "\"\"\""
   ]
  },
  {
   "cell_type": "markdown",
   "id": "b05c5c05",
   "metadata": {},
   "source": [
    "## Infer 5 topics"
   ]
  },
  {
   "cell_type": "code",
   "execution_count": 30,
   "id": "116135ee",
   "metadata": {},
   "outputs": [],
   "source": [
    "# prompt = f\"\"\"\n",
    "# Determine five topics that are being discussed in the \\\n",
    "# following text, which is delimited by triple backticks.\n",
    "\n",
    "# Make each item one or two words long. \n",
    "\n",
    "# Format your response as a list of items separated by commas.\n",
    "\n",
    "# Text sample: '''{story}'''\n",
    "# \"\"\"\n",
    "# response = get_completion(prompt)\n",
    "# print(response)"
   ]
  },
  {
   "cell_type": "code",
   "execution_count": null,
   "id": "9da73223",
   "metadata": {},
   "outputs": [],
   "source": []
  },
  {
   "cell_type": "code",
   "execution_count": null,
   "id": "efa6111c",
   "metadata": {},
   "outputs": [],
   "source": []
  },
  {
   "cell_type": "code",
   "execution_count": null,
   "id": "c360917b",
   "metadata": {},
   "outputs": [],
   "source": []
  },
  {
   "cell_type": "code",
   "execution_count": null,
   "id": "125b2a5d",
   "metadata": {},
   "outputs": [],
   "source": []
  },
  {
   "cell_type": "markdown",
   "id": "030cdabc",
   "metadata": {},
   "source": [
    "## Expanding"
   ]
  },
  {
   "cell_type": "code",
   "execution_count": 31,
   "id": "428ab1d0",
   "metadata": {},
   "outputs": [],
   "source": [
    "import openai\n",
    "import os\n",
    "\n",
    "from dotenv import load_dotenv, find_dotenv\n",
    "_ = load_dotenv(find_dotenv()) # read local .env file\n",
    "\n",
    "openai.api_key  = os.getenv('OPENAI_API_KEY')"
   ]
  },
  {
   "cell_type": "code",
   "execution_count": 32,
   "id": "282883fd",
   "metadata": {},
   "outputs": [],
   "source": [
    "def get_completion(prompt, model=\"gpt-3.5-turbo\",temperature=0): # Andrew mentioned that the prompt/ completion paradigm is preferable for this class\n",
    "    messages = [{\"role\": \"user\", \"content\": prompt}]\n",
    "    response = openai.ChatCompletion.create(\n",
    "        model=model,\n",
    "        messages=messages,\n",
    "        temperature=temperature, # this is the degree of randomness of the model's output\n",
    "    )\n",
    "    return response.choices[0].message[\"content\"]"
   ]
  },
  {
   "cell_type": "markdown",
   "id": "ea317f09",
   "metadata": {},
   "source": [
    "#### Customize the automated reply to a customer email¶"
   ]
  },
  {
   "cell_type": "code",
   "execution_count": 33,
   "id": "a524e441",
   "metadata": {},
   "outputs": [],
   "source": [
    "# given the sentiment from the lesson on \"inferring\",\n",
    "# and the original customer message, customize the email\n",
    "sentiment = \"negative\"\n",
    "\n",
    "# review for a blender\n",
    "review = f\"\"\"\n",
    "So, they still had the 17 piece system on seasonal \\\n",
    "sale for around $49 in the month of November, about \\\n",
    "half off, but for some reason (call it price gouging) \\\n",
    "around the second week of December the prices all went \\\n",
    "up to about anywhere from between $70-$89 for the same \\\n",
    "system. And the 11 piece system went up around $10 or \\\n",
    "so in price also from the earlier sale price of $29. \\\n",
    "So it looks okay, but if you look at the base, the part \\\n",
    "where the blade locks into place doesn’t look as good \\\n",
    "as in previous editions from a few years ago, but I \\\n",
    "plan to be very gentle with it (example, I crush \\\n",
    "very hard items like beans, ice, rice, etc. in the \\ \n",
    "blender first then pulverize them in the serving size \\\n",
    "I want in the blender then switch to the whipping \\\n",
    "blade for a finer flour, and use the cross cutting blade \\\n",
    "first when making smoothies, then use the flat blade \\\n",
    "if I need them finer/less pulpy). Special tip when making \\\n",
    "smoothies, finely cut and freeze the fruits and \\\n",
    "vegetables (if using spinach-lightly stew soften the \\ \n",
    "spinach then freeze until ready for use-and if making \\\n",
    "sorbet, use a small to medium sized food processor) \\ \n",
    "that you plan to use that way you can avoid adding so \\\n",
    "much ice if at all-when making your smoothie. \\\n",
    "After about a year, the motor was making a funny noise. \\\n",
    "I called customer service but the warranty expired \\\n",
    "already, so I had to buy another one. FYI: The overall \\\n",
    "quality has gone done in these types of products, so \\\n",
    "they are kind of counting on brand recognition and \\\n",
    "consumer loyalty to maintain sales. Got it in about \\\n",
    "two days.\n",
    "\"\"\""
   ]
  },
  {
   "cell_type": "code",
   "execution_count": 34,
   "id": "d5d5b8fb",
   "metadata": {},
   "outputs": [],
   "source": [
    "# prompt = f\"\"\"\n",
    "# You are a customer service AI assistant.\n",
    "# Your task is to send an email reply to a valued customer.\n",
    "# Given the customer email delimited by ```, \\\n",
    "# Generate a reply to thank the customer for their review.\n",
    "# If the sentiment is positive or neutral, thank them for \\\n",
    "# their review.\n",
    "# If the sentiment is negative, apologize and suggest that \\\n",
    "# they can reach out to customer service. \n",
    "# Make sure to use specific details from the review.\n",
    "# Write in a concise and professional tone.\n",
    "# Sign the email as `AI customer agent`.\n",
    "# Customer review: ```{review}```\n",
    "# Review sentiment: {sentiment}\n",
    "# \"\"\"\n",
    "# response = get_completion(prompt)\n",
    "# print(response)"
   ]
  },
  {
   "cell_type": "code",
   "execution_count": null,
   "id": "842a5b78",
   "metadata": {},
   "outputs": [],
   "source": []
  }
 ],
 "metadata": {
  "kernelspec": {
   "display_name": "Python 3 (ipykernel)",
   "language": "python",
   "name": "python3"
  },
  "language_info": {
   "codemirror_mode": {
    "name": "ipython",
    "version": 3
   },
   "file_extension": ".py",
   "mimetype": "text/x-python",
   "name": "python",
   "nbconvert_exporter": "python",
   "pygments_lexer": "ipython3",
   "version": "3.11.3"
  }
 },
 "nbformat": 4,
 "nbformat_minor": 5
}
